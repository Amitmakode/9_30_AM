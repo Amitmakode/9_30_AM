{
 "cells": [
  {
   "cell_type": "code",
   "execution_count": null,
   "id": "248ff0fd-4b33-4c01-a9b2-083f18cf5f38",
   "metadata": {},
   "outputs": [],
   "source": [
    "# install mysql connection package\n",
    "!pip install mysql-connector-python"
   ]
  },
  {
   "cell_type": "code",
   "execution_count": 1,
   "id": "49079227-f13f-45ff-9f88-5b307c5539a2",
   "metadata": {},
   "outputs": [],
   "source": [
    "# import module\n",
    "import mysql.connector as conn"
   ]
  },
  {
   "cell_type": "code",
   "execution_count": 2,
   "id": "23fd52b5-13e2-4b42-a134-124bfb41063c",
   "metadata": {},
   "outputs": [
    {
     "name": "stdout",
     "output_type": "stream",
     "text": [
      "<mysql.connector.connection_cext.CMySQLConnection object at 0x000002846350DE50>\n"
     ]
    }
   ],
   "source": [
    "# make a connection with mysql\n",
    "mydb = conn.connect(\n",
    "  host=\"localhost\",\n",
    "  user=\"root\",\n",
    "  password=\"12345\"\n",
    ")\n",
    "\n",
    "print(mydb)"
   ]
  },
  {
   "cell_type": "code",
   "execution_count": 3,
   "id": "55b9d5cc-dce8-48ca-97dc-d75741928841",
   "metadata": {},
   "outputs": [],
   "source": [
    "#create a database in mysql \n",
    "mycursor = mydb.cursor()\n",
    "\n",
    "mycursor.execute(\"CREATE DATABASE db\")"
   ]
  },
  {
   "cell_type": "code",
   "execution_count": 4,
   "id": "f42b1b6e-a604-48e7-87aa-37b99b6d6419",
   "metadata": {},
   "outputs": [
    {
     "name": "stdout",
     "output_type": "stream",
     "text": [
      "CMySQLCursor: CREATE DATABASE db\n"
     ]
    }
   ],
   "source": [
    "print(mycursor)"
   ]
  },
  {
   "cell_type": "code",
   "execution_count": 5,
   "id": "e7b5d09c-c275-429a-a122-6caf3025aaaf",
   "metadata": {},
   "outputs": [
    {
     "name": "stdout",
     "output_type": "stream",
     "text": [
      "('bank',)\n",
      "('bulk_load',)\n",
      "('clauses',)\n",
      "('const',)\n",
      "('cte',)\n",
      "('db',)\n",
      "('ddl',)\n",
      "('demo',)\n",
      "('evenet',)\n",
      "('final_data',)\n",
      "('indexx',)\n",
      "('information_schema',)\n",
      "('joinn',)\n",
      "('key_',)\n",
      "('keyconst',)\n",
      "('mysql',)\n",
      "('part',)\n",
      "('patient',)\n",
      "('performance_schema',)\n",
      "('procedures',)\n",
      "('sakila',)\n",
      "('sys',)\n",
      "('test',)\n",
      "('trigg',)\n",
      "('v',)\n",
      "('win_fun',)\n",
      "('world',)\n"
     ]
    }
   ],
   "source": [
    "#show database\n",
    "mycursor.execute(\"SHOW DATABASES\")\n",
    "\n",
    "for x in mycursor:\n",
    "  print(x)"
   ]
  },
  {
   "cell_type": "code",
   "execution_count": null,
   "id": "95ce0f55-e1c6-430a-a0ad-682b80525afa",
   "metadata": {},
   "outputs": [],
   "source": [
    "mycursor.execute(\"DROP DATABASE DEMO\")"
   ]
  },
  {
   "cell_type": "code",
   "execution_count": 7,
   "id": "236b0877-adc5-4fdc-bae2-1d85f8d0bfef",
   "metadata": {},
   "outputs": [],
   "source": [
    "mycursor.execute(\"use db\")"
   ]
  },
  {
   "cell_type": "code",
   "execution_count": 8,
   "id": "d0026aa6-a7d1-4a58-a526-3fce72560dff",
   "metadata": {},
   "outputs": [],
   "source": [
    "#CREATE TABLE \n",
    "mycursor.execute(\"CREATE TABLE customer (name VARCHAR(255), address VARCHAR(255))\")"
   ]
  },
  {
   "cell_type": "code",
   "execution_count": 9,
   "id": "03fa601f-0be2-4a64-9b9c-ba6d7f4877d3",
   "metadata": {},
   "outputs": [],
   "source": [
    "# HERE WE EDIT THE TABLE ADD ANOTHER COLUMN \"MOB\", WHICH IS AUTOINCREMENTED AND ALSO PRIMARY KEY\n",
    "mycursor.execute(\"ALTER TABLE customer ADD COLUMN id INT AUTO_INCREMENT PRIMARY KEY\")"
   ]
  },
  {
   "cell_type": "code",
   "execution_count": 10,
   "id": "afc716c9-b932-4c77-8324-a8e4e192aded",
   "metadata": {},
   "outputs": [],
   "source": [
    "#inserting single row \n",
    "# NO NEED OF GIVE PARAMETER WHICH IS AUTOINCEMENTED\n",
    "sql = \"INSERT INTO customer (name, address) VALUES (%s, %s)\"\n",
    "val = (\"ROHIT\", \"Highway 21\")\n",
    "mycursor.execute(sql, val)\n",
    "mydb.commit()"
   ]
  },
  {
   "cell_type": "code",
   "execution_count": 11,
   "id": "6150afdd-9190-4198-bcd6-06f09affcb6f",
   "metadata": {},
   "outputs": [
    {
     "name": "stdout",
     "output_type": "stream",
     "text": [
      "1 record inserted.\n"
     ]
    }
   ],
   "source": [
    "print(mycursor.rowcount, \"record inserted.\")"
   ]
  },
  {
   "cell_type": "code",
   "execution_count": 12,
   "id": "d2dfeaa8-d86c-4122-a6a6-fe1be62e7085",
   "metadata": {},
   "outputs": [],
   "source": [
    "mydb.commit()"
   ]
  },
  {
   "cell_type": "code",
   "execution_count": 13,
   "id": "a70cf43c-b8a3-4719-9989-dac4bdb6f686",
   "metadata": {},
   "outputs": [],
   "source": [
    "# INSERT MANY VALUE AT A TIME\n",
    "sql = \"INSERT INTO customer(name, address) VALUES (%s, %s)\"\n",
    "val = [(\"ROHIT\", \"Highway 21\"),\n",
    "  ('Peter', 'Lowstreet 4'),\n",
    "  ('Ammy', 'Apple st 652'),\n",
    "  ('Huma', 'Mountain 21')]"
   ]
  },
  {
   "cell_type": "code",
   "execution_count": 14,
   "id": "d3c00e3e-99d8-4d9e-aadf-3059acf4664d",
   "metadata": {},
   "outputs": [
    {
     "name": "stdout",
     "output_type": "stream",
     "text": [
      "4 was inserted.\n"
     ]
    }
   ],
   "source": [
    "#COMMIT THE VALUE WHICH WE INSERTED \n",
    "mycursor.executemany(sql, val)\n",
    "\n",
    "mydb.commit()\n",
    "\n",
    "print(mycursor.rowcount, \"was inserted.\")"
   ]
  },
  {
   "cell_type": "code",
   "execution_count": 15,
   "id": "870732a5-5555-4db6-a713-314e5933bf7c",
   "metadata": {},
   "outputs": [
    {
     "name": "stdout",
     "output_type": "stream",
     "text": [
      "1 record inserted, ID: 6\n"
     ]
    }
   ],
   "source": [
    "#here again inserted a valus but will show the saperate id name of last added row\n",
    "sql = \"INSERT INTO customer (name, address) VALUES (%s, %s)\"\n",
    "val = (\"Mohit\", \"sainagar\")\n",
    "mycursor.execute(sql, val)\n",
    "\n",
    "mydb.commit()\n",
    "print(\"1 record inserted, ID:\", mycursor.lastrowid) "
   ]
  },
  {
   "cell_type": "code",
   "execution_count": 16,
   "id": "1a44c5b0-525f-4a28-aa92-94bc76060534",
   "metadata": {},
   "outputs": [
    {
     "name": "stdout",
     "output_type": "stream",
     "text": [
      "('ROHIT', 'Highway 21', 1)\n",
      "('ROHIT', 'Highway 21', 2)\n",
      "('Peter', 'Lowstreet 4', 3)\n",
      "('Ammy', 'Apple st 652', 4)\n",
      "('Huma', 'Mountain 21', 5)\n",
      "('Mohit', 'sainagar', 6)\n"
     ]
    }
   ],
   "source": [
    "# for view all the existing records available in table\n",
    "mycursor.execute(\"SELECT * FROM customer\")\n",
    "\n",
    "myresult = mycursor.fetchall()\n",
    "\n",
    "for x in myresult:\n",
    "  print(x)"
   ]
  },
  {
   "cell_type": "code",
   "execution_count": 17,
   "id": "dab2ff5c-7e67-40cb-b49f-744bb4814bfc",
   "metadata": {},
   "outputs": [
    {
     "name": "stdout",
     "output_type": "stream",
     "text": [
      "('ROHIT', 'Highway 21')\n",
      "('ROHIT', 'Highway 21')\n",
      "('Peter', 'Lowstreet 4')\n",
      "('Ammy', 'Apple st 652')\n",
      "('Huma', 'Mountain 21')\n",
      "('Mohit', 'sainagar')\n"
     ]
    }
   ],
   "source": [
    "# here we can view seperately induvisual column like here we are showing name and address\n",
    "\n",
    "mycursor.execute(\"SELECT name, address FROM customer\")\n",
    "\n",
    "myresult = mycursor.fetchall()\n",
    "\n",
    "for x in myresult:\n",
    "  print(x)"
   ]
  },
  {
   "cell_type": "code",
   "execution_count": 18,
   "id": "281abcbf-eb47-454f-b0d3-33dc6b98ec95",
   "metadata": {},
   "outputs": [
    {
     "name": "stdout",
     "output_type": "stream",
     "text": [
      "('ROHIT',)\n",
      "('ROHIT',)\n",
      "('Peter',)\n",
      "('Ammy',)\n",
      "('Huma',)\n",
      "('Mohit',)\n"
     ]
    }
   ],
   "source": [
    "mycursor.execute(\"SELECT name FROM customer\")\n",
    "\n",
    "myresult = mycursor.fetchall()\n",
    "\n",
    "for x in myresult:\n",
    "  print(x)"
   ]
  },
  {
   "cell_type": "code",
   "execution_count": 19,
   "id": "15afca0d-fa76-4311-97e7-2f4b33952e08",
   "metadata": {},
   "outputs": [
    {
     "name": "stdout",
     "output_type": "stream",
     "text": [
      "('Mohit', 'sainagar', 6)\n"
     ]
    }
   ],
   "source": [
    "# we filtering the data by using where condition \n",
    "sql = \"SELECT * FROM customer WHERE address ='sainagar'\"\n",
    "\n",
    "mycursor.execute(sql)\n",
    "\n",
    "myresult = mycursor.fetchall()\n",
    "\n",
    "for x in myresult:\n",
    "  print(x)"
   ]
  },
  {
   "cell_type": "code",
   "execution_count": 20,
   "id": "9bcc1289-d213-4a68-b1c5-32c1d0490464",
   "metadata": {},
   "outputs": [
    {
     "name": "stdout",
     "output_type": "stream",
     "text": [
      "('Ammy', 'Apple st 652', 4)\n"
     ]
    }
   ],
   "source": [
    "# with only single word in syllabus we are applying filter  \"Wildcard Character\"\n",
    "sql = \"SELECT * FROM customer WHERE address LIKE '%652%'\"\n",
    "\n",
    "mycursor.execute(sql)\n",
    "\n",
    "myresult = mycursor.fetchall()\n",
    "\n",
    "for x in myresult:\n",
    "  print(x)"
   ]
  },
  {
   "cell_type": "code",
   "execution_count": 21,
   "id": "e5eaacf4-2ecc-4a48-8279-edb95b378566",
   "metadata": {},
   "outputs": [],
   "source": [
    "### ?????????????\n",
    "sql = \"SELECT * FROM customer WHERE address = %s\"\n",
    "adr = (\"Yellow Garden 2\", )\n",
    "\n",
    "mycursor.execute(sql, adr)\n",
    "\n",
    "myresult = mycursor.fetchall()\n",
    "\n",
    "for x in myresult:\n",
    "  print(x)"
   ]
  },
  {
   "cell_type": "code",
   "execution_count": 22,
   "id": "8ad1ae04-55ad-4c31-9348-e146471e3930",
   "metadata": {},
   "outputs": [
    {
     "name": "stdout",
     "output_type": "stream",
     "text": [
      "('Ammy', 'Apple st 652', 4)\n",
      "('Huma', 'Mountain 21', 5)\n",
      "('Mohit', 'sainagar', 6)\n",
      "('Peter', 'Lowstreet 4', 3)\n",
      "('ROHIT', 'Highway 21', 1)\n",
      "('ROHIT', 'Highway 21', 2)\n"
     ]
    }
   ],
   "source": [
    "# using order by short the list  \n",
    "sql = \"SELECT * FROM customer ORDER BY name\"\n",
    "\n",
    "mycursor.execute(sql)\n",
    "\n",
    "myresult = mycursor.fetchall()\n",
    "\n",
    "for x in myresult:\n",
    "  print(x)"
   ]
  },
  {
   "cell_type": "code",
   "execution_count": 23,
   "id": "06ee6dfa-8be9-4cf6-945a-bdee5f48ac86",
   "metadata": {},
   "outputs": [
    {
     "name": "stdout",
     "output_type": "stream",
     "text": [
      "('ROHIT', 'Highway 21', 1)\n",
      "('ROHIT', 'Highway 21', 2)\n",
      "('Peter', 'Lowstreet 4', 3)\n",
      "('Mohit', 'sainagar', 6)\n",
      "('Huma', 'Mountain 21', 5)\n",
      "('Ammy', 'Apple st 652', 4)\n"
     ]
    }
   ],
   "source": [
    "# order by descending order\n",
    "sql = \"SELECT * FROM customer ORDER BY name DESC\"\n",
    "\n",
    "mycursor.execute(sql)\n",
    "\n",
    "myresult = mycursor.fetchall()\n",
    "\n",
    "for x in myresult:\n",
    "  print(x)"
   ]
  },
  {
   "cell_type": "code",
   "execution_count": 24,
   "id": "225ceb44-bf03-4308-a7ff-a9edccc90313",
   "metadata": {},
   "outputs": [
    {
     "name": "stdout",
     "output_type": "stream",
     "text": [
      "1 record(s) deleted\n"
     ]
    }
   ],
   "source": [
    "# Delete record usning where condition \n",
    "\n",
    "sql = \"DELETE FROM customer WHERE address = 'Mountain 21'\"\n",
    "\n",
    "mycursor.execute(sql)\n",
    "\n",
    "mydb.commit()\n",
    "\n",
    "print(mycursor.rowcount, \"record(s) deleted\")"
   ]
  },
  {
   "cell_type": "code",
   "execution_count": 25,
   "id": "8a222405-5623-48ff-83c7-bcce1377d467",
   "metadata": {},
   "outputs": [
    {
     "name": "stdout",
     "output_type": "stream",
     "text": [
      "0 record(s) deleted\n"
     ]
    }
   ],
   "source": [
    "# It is considered a good practice to escape the values of any query, also in delete statements.\n",
    "\n",
    "# This is to prevent SQL injections, which is a common web hacking technique to destroy or misuse your database.\n",
    "\n",
    "# The mysql.connector module uses the placeholder %s to escape values in the delete statement: \n",
    "\n",
    "sql = \"DELETE FROM customer WHERE address = %s\"\n",
    "adr = (\"Yellow Garden 2\", )\n",
    "\n",
    "mycursor.execute(sql, adr)\n",
    "\n",
    "mydb.commit()\n",
    "\n",
    "print(mycursor.rowcount, \"record(s) deleted\")"
   ]
  },
  {
   "cell_type": "code",
   "execution_count": null,
   "id": "8cb09c52-5f6e-4a7b-b64f-08a924a549d6",
   "metadata": {},
   "outputs": [],
   "source": [
    "# for delete the table from database\n",
    "\n",
    "sql = \"DROP TABLE customer\"\n",
    "\n",
    "mycursor.execute(sql)"
   ]
  },
  {
   "cell_type": "code",
   "execution_count": null,
   "id": "0bae62b7-a010-43a1-bf0f-8a37183059ff",
   "metadata": {},
   "outputs": [],
   "source": [
    "# If the table you want to delete is already deleted, or for any other reason does not exist, you can use the IF EXISTS keyword to avoid getting an error.\n",
    "\n",
    "sql = \"DROP TABLE IF EXISTS customers\"\n",
    "\n",
    "mycursor.execute(sql)"
   ]
  },
  {
   "cell_type": "code",
   "execution_count": 26,
   "id": "19e2505e-9b37-4b9e-b793-6ca97ae59191",
   "metadata": {},
   "outputs": [
    {
     "name": "stdout",
     "output_type": "stream",
     "text": [
      "1 record(s) affected\n"
     ]
    }
   ],
   "source": [
    "# Update table Overwrite the address column from \"Valley 345\" to \"Canyon 123\":\n",
    "\n",
    "sql = \"UPDATE customer SET address = 'sainagar-2' WHERE address = 'sainagar'\"\n",
    "\n",
    "mycursor.execute(sql)\n",
    "\n",
    "mydb.commit()\n",
    "\n",
    "print(mycursor.rowcount, \"record(s) affected\")"
   ]
  },
  {
   "cell_type": "code",
   "execution_count": 27,
   "id": "d0963d94-560c-48cc-8f35-769c7635b19e",
   "metadata": {},
   "outputs": [
    {
     "name": "stdout",
     "output_type": "stream",
     "text": [
      "('ROHIT', 'Highway 21', 1)\n",
      "('ROHIT', 'Highway 21', 2)\n",
      "('Peter', 'Lowstreet 4', 3)\n"
     ]
    }
   ],
   "source": [
    "# you can limit the record and the row using limit \n",
    "\n",
    "mycursor.execute(\"SELECT * FROM customer LIMIT 3\")\n",
    "\n",
    "myresult = mycursor.fetchall()\n",
    "\n",
    "for x in myresult:\n",
    "  print(x)"
   ]
  },
  {
   "cell_type": "code",
   "execution_count": 28,
   "id": "3a1b8cf1-fadb-4b8e-923f-e95bd262616e",
   "metadata": {},
   "outputs": [
    {
     "name": "stdout",
     "output_type": "stream",
     "text": [
      "('Peter', 'Lowstreet 4', 3)\n",
      "('Ammy', 'Apple st 652', 4)\n",
      "('Mohit', 'sainagar-2', 6)\n"
     ]
    }
   ],
   "source": [
    "# offset Start from position 3, and return 5 records:\n",
    "\n",
    "mycursor.execute(\"SELECT * FROM customer LIMIT 5 OFFSET 2\")\n",
    "\n",
    "myresult = mycursor.fetchall()\n",
    "\n",
    "for x in myresult:\n",
    "  print(x)"
   ]
  },
  {
   "cell_type": "code",
   "execution_count": null,
   "id": "cefe983c-4b72-4123-b7b7-ff151e8439c9",
   "metadata": {},
   "outputs": [],
   "source": [
    "# join two table using \n",
    "\n",
    "sql = \"SELECT \\\n",
    "  users.name AS user, \\\n",
    "  products.name AS favorite \\\n",
    "  FROM users \\\n",
    "  INNER JOIN products ON users.fav = products.id\"\n",
    "\n",
    "mycursor.execute(sql)\n",
    "\n",
    "myresult = mycursor.fetchall()\n",
    "\n",
    "for x in myresult:\n",
    "  print(x)"
   ]
  },
  {
   "cell_type": "code",
   "execution_count": null,
   "id": "b07027c7-ff4f-4681-9f64-ee4d80d9ee5a",
   "metadata": {},
   "outputs": [],
   "source": [
    "mycursor.execute(\"use bulk\")"
   ]
  },
  {
   "cell_type": "code",
   "execution_count": null,
   "id": "f9100ccb-a0cc-4838-a12e-557728cf1e09",
   "metadata": {},
   "outputs": [],
   "source": []
  }
 ],
 "metadata": {
  "kernelspec": {
   "display_name": "Python 3 (ipykernel)",
   "language": "python",
   "name": "python3"
  },
  "language_info": {
   "codemirror_mode": {
    "name": "ipython",
    "version": 3
   },
   "file_extension": ".py",
   "mimetype": "text/x-python",
   "name": "python",
   "nbconvert_exporter": "python",
   "pygments_lexer": "ipython3",
   "version": "3.11.7"
  }
 },
 "nbformat": 4,
 "nbformat_minor": 5
}
