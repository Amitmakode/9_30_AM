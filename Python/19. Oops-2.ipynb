{
 "cells": [
  {
   "cell_type": "code",
   "execution_count": 1,
   "id": "363dad06-13a1-4a16-81d1-b0e43cdb9ec6",
   "metadata": {},
   "outputs": [
    {
     "name": "stdout",
     "output_type": "stream",
     "text": [
      "<__main__.tata object at 0x000001EBC0539910>\n",
      "milage of this car \n",
      "None\n"
     ]
    }
   ],
   "source": [
    "class car :                 #perent class   \n",
    "                            # inheritence \n",
    "    def __init__(self , body , engin , tyre):\n",
    "        self.body = body\n",
    "        self.engin = engin\n",
    "        self.tyre = tyre\n",
    "\n",
    "    def milage (self):\n",
    "        print(\"milage of this car \") \n",
    "        \n",
    "        \n",
    "class tata(car):                #child class\n",
    "    pass\n",
    "\n",
    "t = tata(\"solid1\" , \"v8\" , \"radial1\")\n",
    "print(t)\n",
    "print(t.milage()) "
   ]
  },
  {
   "cell_type": "code",
   "execution_count": 2,
   "id": "96791b3f-4c1c-4cf6-a8c8-dc75362796ae",
   "metadata": {},
   "outputs": [
    {
     "data": {
      "text/plain": [
       "'solid1'"
      ]
     },
     "execution_count": 2,
     "metadata": {},
     "output_type": "execute_result"
    }
   ],
   "source": [
    "t.body"
   ]
  },
  {
   "cell_type": "code",
   "execution_count": 3,
   "id": "13b884a2-fe07-49bf-9200-d69397a06870",
   "metadata": {},
   "outputs": [],
   "source": [
    "class bank :             # perents class \n",
    "    def transaction(self) :\n",
    "        print(\"total transaction value \")\n",
    "    def account_opening(self):\n",
    "        print(\"this will show you your account open status \")\n",
    "    def deposite(self):\n",
    "        print(\"this will show your deposited amount\")\n",
    "\n",
    "\n",
    "class HDFC_bank(bank):             # child class\n",
    "    def hdfc_to_icici(self):\n",
    "        print(\"this will show you all the transaction happend to icici throuhg hdfc\")\n",
    "\n",
    "class icici(HDFC_bank):          # child class\n",
    "    pass                        \n",
    "\n",
    "# multilevel inheritence"
   ]
  },
  {
   "cell_type": "code",
   "execution_count": 4,
   "id": "0b62b0f7-b45b-432f-9887-af9ee04eb8c1",
   "metadata": {},
   "outputs": [],
   "source": [
    "obj = bank()"
   ]
  },
  {
   "cell_type": "code",
   "execution_count": 6,
   "id": "c166d893-4a38-4332-ae91-bb881a035964",
   "metadata": {},
   "outputs": [
    {
     "name": "stdout",
     "output_type": "stream",
     "text": [
      "this will show your deposited amount\n"
     ]
    }
   ],
   "source": [
    "obj.deposite()"
   ]
  },
  {
   "cell_type": "code",
   "execution_count": 7,
   "id": "74a6ac28-45fa-419f-be6c-80d22c417e10",
   "metadata": {},
   "outputs": [],
   "source": [
    "obj1 = HDFC_bank()"
   ]
  },
  {
   "cell_type": "code",
   "execution_count": 8,
   "id": "23bd549b-a26f-48bb-a67c-de606e419909",
   "metadata": {},
   "outputs": [
    {
     "name": "stdout",
     "output_type": "stream",
     "text": [
      "this will show you all the transaction happend to icici throuhg hdfc\n"
     ]
    }
   ],
   "source": [
    "obj1.hdfc_to_icici()"
   ]
  },
  {
   "cell_type": "code",
   "execution_count": 9,
   "id": "6db863a1-712f-4f07-973a-54551fa1d338",
   "metadata": {},
   "outputs": [
    {
     "name": "stdout",
     "output_type": "stream",
     "text": [
      "total transaction value \n"
     ]
    }
   ],
   "source": [
    "obj1.transaction()"
   ]
  },
  {
   "cell_type": "code",
   "execution_count": 10,
   "id": "436d253c-8e07-4e80-9f4b-36e729f8a899",
   "metadata": {},
   "outputs": [],
   "source": [
    "obj2 = icici()"
   ]
  },
  {
   "cell_type": "code",
   "execution_count": 11,
   "id": "37a7d104-26d1-43b4-9082-edb01b5b7278",
   "metadata": {},
   "outputs": [
    {
     "name": "stdout",
     "output_type": "stream",
     "text": [
      "this will show you all the transaction happend to icici throuhg hdfc\n"
     ]
    }
   ],
   "source": [
    "obj2.hdfc_to_icici()"
   ]
  },
  {
   "cell_type": "code",
   "execution_count": null,
   "id": "1c307c76-7195-4d5f-8cc9-85bcff9ec711",
   "metadata": {},
   "outputs": [],
   "source": []
  },
  {
   "cell_type": "code",
   "execution_count": 18,
   "id": "b73de68f-d190-4fed-ab60-4caf2a6b5305",
   "metadata": {},
   "outputs": [],
   "source": [
    "class bank :\n",
    "    def transaction(self) :\n",
    "        print(\"total transaction value \")\n",
    "    def account_opening(self):\n",
    "        print(\"this will show you your account open status \")\n",
    "    def deposite(self):\n",
    "        print(\"this will show your deposited amount\")\n",
    "    def test(self):                          # override code\n",
    "        print(\"this is a test methond form bank class \")\n",
    "\n",
    "\n",
    "class HDFC_bank:\n",
    "    def hdfc_to_icici(self):\n",
    "        print(\"this will show you all the transaction happend to icici throuhg hdfc\")\n",
    "    def test(self):           #override code\n",
    "        print(\"this is a test method form hdfc bank \")\n",
    "\n",
    "class ineron_bank:\n",
    "    def account_status_icici(self):\n",
    "        print(\"print a account status in icici \")\n",
    "\n",
    "class icici( HDFC_bank, bank, ineron_bank):      # multiple inheritence\n",
    "    pass"
   ]
  },
  {
   "cell_type": "code",
   "execution_count": 19,
   "id": "f1fff264-9798-4091-be26-11a3d7ebe825",
   "metadata": {},
   "outputs": [],
   "source": [
    "obj10 = bank()"
   ]
  },
  {
   "cell_type": "code",
   "execution_count": 20,
   "id": "135707b6-8a92-40b2-b953-de87dc8fd8e4",
   "metadata": {},
   "outputs": [],
   "source": [
    "obj11 = HDFC_bank()"
   ]
  },
  {
   "cell_type": "code",
   "execution_count": 21,
   "id": "ccba90a7-abaa-4f5d-85d5-b3f1922682cb",
   "metadata": {},
   "outputs": [],
   "source": [
    "obj12 = ineron_bank()"
   ]
  },
  {
   "cell_type": "code",
   "execution_count": 22,
   "id": "2d7c9d51-29aa-4e22-b6a4-e00f6dc68947",
   "metadata": {},
   "outputs": [],
   "source": [
    "obj13 = icici()"
   ]
  },
  {
   "cell_type": "code",
   "execution_count": 23,
   "id": "6beb49ba-12b3-48ec-aeec-2a8a420f777a",
   "metadata": {},
   "outputs": [
    {
     "name": "stdout",
     "output_type": "stream",
     "text": [
      "this is a test method form hdfc bank \n"
     ]
    }
   ],
   "source": [
    "obj13.test()"
   ]
  },
  {
   "cell_type": "code",
   "execution_count": null,
   "id": "625f6319-817e-4e7a-ba1a-4f2ae78105da",
   "metadata": {},
   "outputs": [],
   "source": []
  },
  {
   "cell_type": "code",
   "execution_count": 24,
   "id": "7f80105c-09d5-4a02-9716-cba6001cec50",
   "metadata": {},
   "outputs": [],
   "source": [
    "class ineuron:\n",
    "    def student(self):\n",
    "        print(\"print the details of all the students\")\n",
    "    def achivers(self):\n",
    "        print(\"print the list of all the achiver \")\n",
    "    def hall_of_fame(self):\n",
    "        print(\"print everyone form hall of fame \")\n",
    "\n",
    "\n",
    "\n",
    "class ineuron_vision(ineuron):\n",
    "\n",
    "    def student(self):      #override method\n",
    "        print(\"these are the filters student list \")"
   ]
  },
  {
   "cell_type": "code",
   "execution_count": 25,
   "id": "7082b448-8a09-49e4-85b3-524e59e9b752",
   "metadata": {},
   "outputs": [],
   "source": [
    "obj21 = ineuron()"
   ]
  },
  {
   "cell_type": "code",
   "execution_count": 27,
   "id": "88dbbb32-7412-4353-841f-a3e041582764",
   "metadata": {},
   "outputs": [
    {
     "name": "stdout",
     "output_type": "stream",
     "text": [
      "print the details of all the students\n"
     ]
    }
   ],
   "source": [
    "obj21.student()"
   ]
  },
  {
   "cell_type": "code",
   "execution_count": 28,
   "id": "4c0867ad-f152-48c1-a64f-090f7d724f6d",
   "metadata": {},
   "outputs": [],
   "source": [
    "obj22 = ineuron_vision()"
   ]
  },
  {
   "cell_type": "code",
   "execution_count": 29,
   "id": "785ffb54-c018-4bd6-a543-95a03f45301b",
   "metadata": {},
   "outputs": [
    {
     "name": "stdout",
     "output_type": "stream",
     "text": [
      "these are the filters student list \n"
     ]
    }
   ],
   "source": [
    "obj22.student()"
   ]
  },
  {
   "cell_type": "code",
   "execution_count": null,
   "id": "273648d9-196a-4ba4-8fe4-f253d5b025d2",
   "metadata": {},
   "outputs": [],
   "source": []
  },
  {
   "cell_type": "code",
   "execution_count": 42,
   "id": "58f8c79f-35a2-4580-925e-df597d7eb9b4",
   "metadata": {},
   "outputs": [],
   "source": [
    "class ineuron1:\n",
    "    __student = \"data science\"       #data abstraction \n",
    "\n",
    "    def student(self):\n",
    "        print(ineuron1.__student)"
   ]
  },
  {
   "cell_type": "code",
   "execution_count": 47,
   "id": "2899fad9-836b-41ff-a5b0-cc5a735008c7",
   "metadata": {},
   "outputs": [
    {
     "name": "stdout",
     "output_type": "stream",
     "text": [
      "data science\n"
     ]
    },
    {
     "ename": "AttributeError",
     "evalue": "'ineuron1' object has no attribute '__student'",
     "output_type": "error",
     "traceback": [
      "\u001b[1;31m---------------------------------------------------------------------------\u001b[0m",
      "\u001b[1;31mAttributeError\u001b[0m                            Traceback (most recent call last)",
      "Cell \u001b[1;32mIn[47], line 3\u001b[0m\n\u001b[0;32m      1\u001b[0m i \u001b[38;5;241m=\u001b[39m ineuron1()\n\u001b[0;32m      2\u001b[0m i\u001b[38;5;241m.\u001b[39mstudent()\n\u001b[1;32m----> 3\u001b[0m i\u001b[38;5;241m.\u001b[39m__student()\n",
      "\u001b[1;31mAttributeError\u001b[0m: 'ineuron1' object has no attribute '__student'"
     ]
    }
   ],
   "source": [
    "i = ineuron1()\n",
    "i.student()\n",
    "i.__student()"
   ]
  },
  {
   "cell_type": "code",
   "execution_count": 52,
   "id": "7a734f33-3803-4792-a176-e5ec4fb66696",
   "metadata": {},
   "outputs": [
    {
     "data": {
      "text/plain": [
       "'data science'"
      ]
     },
     "execution_count": 52,
     "metadata": {},
     "output_type": "execute_result"
    }
   ],
   "source": [
    "i._ineuron1__student"
   ]
  },
  {
   "cell_type": "code",
   "execution_count": null,
   "id": "f50582aa-5f6b-40be-9c80-917c89fbf923",
   "metadata": {},
   "outputs": [],
   "source": []
  },
  {
   "cell_type": "code",
   "execution_count": 54,
   "id": "25870d51-6567-410b-bd77-d470d168917f",
   "metadata": {},
   "outputs": [],
   "source": [
    "class ineuron2:                      # encpsulation \n",
    "    def __init__(self):\n",
    "        self.students1 = \"data science\"\n",
    "\n",
    "    def students(self):\n",
    "        print(self.students1)\n",
    "\n",
    "\n",
    "\n",
    "class ineuron3:\n",
    "    def __init__(self):\n",
    "        self.__students1 = \"data science \"\n",
    "\n",
    "    def students(self):\n",
    "        print(self.__students1)\n",
    "        \n",
    "    def student_change(self, new_value):\n",
    "        self.__students1 = new_value"
   ]
  },
  {
   "cell_type": "code",
   "execution_count": 55,
   "id": "3857e62e-a5b3-426e-b95e-d548aaabc08f",
   "metadata": {},
   "outputs": [
    {
     "name": "stdout",
     "output_type": "stream",
     "text": [
      "data science\n"
     ]
    }
   ],
   "source": [
    "i = ineuron2()\n",
    "i.students()"
   ]
  },
  {
   "cell_type": "code",
   "execution_count": 56,
   "id": "58655785-93ea-49fb-b9b9-ca16dcf3808f",
   "metadata": {},
   "outputs": [
    {
     "data": {
      "text/plain": [
       "'data science'"
      ]
     },
     "execution_count": 56,
     "metadata": {},
     "output_type": "execute_result"
    }
   ],
   "source": [
    "i.students1"
   ]
  },
  {
   "cell_type": "code",
   "execution_count": 57,
   "id": "8ed5c2ac-8385-420c-b2ff-f1aa20eb19a7",
   "metadata": {},
   "outputs": [
    {
     "name": "stdout",
     "output_type": "stream",
     "text": [
      "data analytics\n"
     ]
    }
   ],
   "source": [
    "i.students1 = \"data analytics\"\n",
    "i.students()"
   ]
  },
  {
   "cell_type": "code",
   "execution_count": 58,
   "id": "3eadcd74-92ee-4d61-afd2-c2fcd198752d",
   "metadata": {},
   "outputs": [
    {
     "name": "stdout",
     "output_type": "stream",
     "text": [
      "data science \n"
     ]
    }
   ],
   "source": [
    "i1 = ineuron3()\n",
    "i1.students()"
   ]
  },
  {
   "cell_type": "code",
   "execution_count": 59,
   "id": "93b39b13-3012-43c9-a73d-0a2985882ef9",
   "metadata": {},
   "outputs": [
    {
     "data": {
      "text/plain": [
       "'data science '"
      ]
     },
     "execution_count": 59,
     "metadata": {},
     "output_type": "execute_result"
    }
   ],
   "source": [
    "i1._ineuron3__students1"
   ]
  },
  {
   "cell_type": "code",
   "execution_count": 60,
   "id": "a1619a8e-1968-4e07-97e4-8fe69ce08f88",
   "metadata": {},
   "outputs": [],
   "source": [
    "i1._ineuron3__students1 = \"data engineer\""
   ]
  },
  {
   "cell_type": "code",
   "execution_count": 61,
   "id": "264bda05-6d0e-4742-a262-ed097501770c",
   "metadata": {},
   "outputs": [
    {
     "name": "stdout",
     "output_type": "stream",
     "text": [
      "data engineer\n"
     ]
    }
   ],
   "source": [
    "i1.students()"
   ]
  },
  {
   "cell_type": "code",
   "execution_count": 62,
   "id": "5f21a0a3-ddfa-4180-b845-84de1f7c762b",
   "metadata": {},
   "outputs": [],
   "source": [
    "i1.student_change(\"AIML\")"
   ]
  },
  {
   "cell_type": "code",
   "execution_count": 63,
   "id": "78ad0edf-70c7-47af-b708-41df73ac4897",
   "metadata": {},
   "outputs": [
    {
     "name": "stdout",
     "output_type": "stream",
     "text": [
      "AIML\n"
     ]
    }
   ],
   "source": [
    "i1.students()"
   ]
  },
  {
   "cell_type": "code",
   "execution_count": null,
   "id": "1a8a08eb-840d-4ced-b4c3-6c97c4556041",
   "metadata": {},
   "outputs": [],
   "source": []
  },
  {
   "cell_type": "code",
   "execution_count": 64,
   "id": "166a7b51-9e6f-4680-95f5-27923acd2651",
   "metadata": {},
   "outputs": [],
   "source": [
    "class ineuron4:          #polymorphisms\n",
    "    def students(self):\n",
    "        print(\"print a students details \")\n",
    "\n",
    "class class_type :\n",
    "    def student(self):\n",
    "        print(\"print the class type of students\")"
   ]
  },
  {
   "cell_type": "code",
   "execution_count": 65,
   "id": "5e35ea59-dae5-47c5-9cf6-351f7e50677b",
   "metadata": {},
   "outputs": [],
   "source": [
    "def ineuron_external(a,b):\n",
    "    a.students()\n",
    "    b.student()"
   ]
  },
  {
   "cell_type": "code",
   "execution_count": 66,
   "id": "f7d1b3dd-7886-4088-afc9-badb3f316ebb",
   "metadata": {},
   "outputs": [],
   "source": [
    "obj4 = ineuron4()"
   ]
  },
  {
   "cell_type": "code",
   "execution_count": 67,
   "id": "86898e56-61a6-4e8e-a632-ab69b2f7b9ed",
   "metadata": {},
   "outputs": [],
   "source": [
    "obj5 = class_type()"
   ]
  },
  {
   "cell_type": "code",
   "execution_count": 68,
   "id": "941c9ddb-d4e4-4fff-97a8-010c1ad6a6b9",
   "metadata": {},
   "outputs": [
    {
     "name": "stdout",
     "output_type": "stream",
     "text": [
      "print a students details \n",
      "print the class type of students\n"
     ]
    }
   ],
   "source": [
    "ineuron_external(obj4, obj5)"
   ]
  },
  {
   "cell_type": "code",
   "execution_count": null,
   "id": "86dfeb06-2b70-416c-b235-1462fe7d8e98",
   "metadata": {},
   "outputs": [],
   "source": [
    "# class = atributes\n",
    "# __inti__ = constructor\n",
    "# self = pointer\n",
    "# def = method\n",
    "# package  (directory) \n",
    "# module   (file)\n",
    "# class  \n",
    "# method\n",
    "# inheritence\n",
    "# multilevel inheritence\n",
    "# multiple inheritence\n",
    "# overide method\n",
    "# public\n",
    "# private\n",
    "# protective\n",
    "# data abstraction\n",
    "# encapsulation\n",
    "# polymorphism "
   ]
  },
  {
   "cell_type": "code",
   "execution_count": null,
   "id": "362ad01c-fd21-4736-81e6-ff5a774925f6",
   "metadata": {},
   "outputs": [],
   "source": []
  },
  {
   "cell_type": "code",
   "execution_count": 70,
   "id": "5244359b-9496-4cdb-8556-bddab07b5b4e",
   "metadata": {},
   "outputs": [],
   "source": [
    "import math"
   ]
  },
  {
   "cell_type": "code",
   "execution_count": 71,
   "id": "529f3bd4-b94d-44bb-bcea-89472bc12b0f",
   "metadata": {},
   "outputs": [
    {
     "data": {
      "text/plain": [
       "21"
      ]
     },
     "execution_count": 71,
     "metadata": {},
     "output_type": "execute_result"
    }
   ],
   "source": [
    "math.ceil(20.25)"
   ]
  },
  {
   "cell_type": "code",
   "execution_count": 72,
   "id": "e1128999-473a-4088-86e4-2d3dd429fbde",
   "metadata": {},
   "outputs": [
    {
     "data": {
      "text/plain": [
       "20"
      ]
     },
     "execution_count": 72,
     "metadata": {},
     "output_type": "execute_result"
    }
   ],
   "source": [
    "math.floor(20.99)"
   ]
  },
  {
   "cell_type": "code",
   "execution_count": 73,
   "id": "db33b43f-28c7-4388-8e29-c11dcce88aab",
   "metadata": {},
   "outputs": [
    {
     "data": {
      "text/plain": [
       "3.141592653589793"
      ]
     },
     "execution_count": 73,
     "metadata": {},
     "output_type": "execute_result"
    }
   ],
   "source": [
    "math.pi"
   ]
  },
  {
   "cell_type": "code",
   "execution_count": 75,
   "id": "839f8542-bd25-44b0-aedf-c3e444b040c3",
   "metadata": {},
   "outputs": [
    {
     "data": {
      "text/plain": [
       "2.0"
      ]
     },
     "execution_count": 75,
     "metadata": {},
     "output_type": "execute_result"
    }
   ],
   "source": [
    "math.sqrt(4)"
   ]
  },
  {
   "cell_type": "code",
   "execution_count": 76,
   "id": "edffae30-c1e8-4b87-953d-88c274c9f34e",
   "metadata": {},
   "outputs": [
    {
     "data": {
      "text/plain": [
       "720"
      ]
     },
     "execution_count": 76,
     "metadata": {},
     "output_type": "execute_result"
    }
   ],
   "source": [
    "math.factorial(6)"
   ]
  },
  {
   "cell_type": "code",
   "execution_count": 77,
   "id": "14bdf40c-419b-4824-873c-22dd4b4d21ee",
   "metadata": {},
   "outputs": [
    {
     "data": {
      "text/plain": [
       "7.38905609893065"
      ]
     },
     "execution_count": 77,
     "metadata": {},
     "output_type": "execute_result"
    }
   ],
   "source": [
    "math.exp(2)"
   ]
  },
  {
   "cell_type": "code",
   "execution_count": 81,
   "id": "c9ec787d-965b-4a43-b43b-2e1ccde6ca2d",
   "metadata": {},
   "outputs": [
    {
     "data": {
      "text/plain": [
       "30"
      ]
     },
     "execution_count": 81,
     "metadata": {},
     "output_type": "execute_result"
    }
   ],
   "source": [
    "math.lcm(30)"
   ]
  },
  {
   "cell_type": "code",
   "execution_count": 83,
   "id": "cb44e0ac-fc9a-45bc-909c-dc66afaf1113",
   "metadata": {},
   "outputs": [
    {
     "data": {
      "text/plain": [
       "720"
      ]
     },
     "execution_count": 83,
     "metadata": {},
     "output_type": "execute_result"
    }
   ],
   "source": [
    "math.perm(6)"
   ]
  },
  {
   "cell_type": "code",
   "execution_count": 84,
   "id": "be55db90-994b-431c-bebb-140f4e8e64ba",
   "metadata": {},
   "outputs": [
    {
     "data": {
      "text/plain": [
       "64.0"
      ]
     },
     "execution_count": 84,
     "metadata": {},
     "output_type": "execute_result"
    }
   ],
   "source": [
    "math.pow(4,3)"
   ]
  },
  {
   "cell_type": "code",
   "execution_count": 85,
   "id": "775e9a48-bb79-4372-8331-171591316840",
   "metadata": {},
   "outputs": [
    {
     "data": {
      "text/plain": [
       "-0.9880316240928618"
      ]
     },
     "execution_count": 85,
     "metadata": {},
     "output_type": "execute_result"
    }
   ],
   "source": [
    "math.sin(30)"
   ]
  },
  {
   "cell_type": "code",
   "execution_count": 86,
   "id": "1c174f67-71e3-48ce-9060-d1e5036bc144",
   "metadata": {},
   "outputs": [
    {
     "data": {
      "text/plain": [
       "2.0"
      ]
     },
     "execution_count": 86,
     "metadata": {},
     "output_type": "execute_result"
    }
   ],
   "source": [
    "math.remainder(30,7)"
   ]
  },
  {
   "cell_type": "code",
   "execution_count": null,
   "id": "b2f07426-7a80-4905-894e-0186d7243eab",
   "metadata": {},
   "outputs": [],
   "source": []
  }
 ],
 "metadata": {
  "kernelspec": {
   "display_name": "Python 3 (ipykernel)",
   "language": "python",
   "name": "python3"
  },
  "language_info": {
   "codemirror_mode": {
    "name": "ipython",
    "version": 3
   },
   "file_extension": ".py",
   "mimetype": "text/x-python",
   "name": "python",
   "nbconvert_exporter": "python",
   "pygments_lexer": "ipython3",
   "version": "3.11.7"
  }
 },
 "nbformat": 4,
 "nbformat_minor": 5
}
