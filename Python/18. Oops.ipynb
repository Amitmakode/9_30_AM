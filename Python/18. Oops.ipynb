{
 "cells": [
  {
   "cell_type": "markdown",
   "id": "f0f3a809-b9e1-4b33-bf89-dd4ce5dd7f12",
   "metadata": {},
   "source": [
    "### Oops"
   ]
  },
  {
   "cell_type": "code",
   "execution_count": 1,
   "id": "330df9e3-c94e-4b06-9a5b-1842e8c22a7c",
   "metadata": {},
   "outputs": [],
   "source": [
    "class person:\n",
    "     def __init__(self, name, surname, emailid, year_of_birth):    \n",
    "            self.name = name\n",
    "            self.surname = surname\n",
    "            self.emailid = emailid\n",
    "            self.year_of_birth = year_of_birth"
   ]
  },
  {
   "cell_type": "code",
   "execution_count": 4,
   "id": "e07b4c11-9ffc-4dbc-81e6-75acf5c9e2dc",
   "metadata": {},
   "outputs": [],
   "source": [
    "obj = person(\"virat\", \"kohli\", \"virat@gmail.com\", 1990)"
   ]
  },
  {
   "cell_type": "code",
   "execution_count": 5,
   "id": "d0a276a1-596a-452d-a76e-b99393b3d0f5",
   "metadata": {},
   "outputs": [
    {
     "data": {
      "text/plain": [
       "'kohli'"
      ]
     },
     "execution_count": 5,
     "metadata": {},
     "output_type": "execute_result"
    }
   ],
   "source": [
    "obj.surname"
   ]
  },
  {
   "cell_type": "code",
   "execution_count": 6,
   "id": "d314563e-69b2-4fa6-9701-b94e5ec0474e",
   "metadata": {},
   "outputs": [
    {
     "data": {
      "text/plain": [
       "'virat'"
      ]
     },
     "execution_count": 6,
     "metadata": {},
     "output_type": "execute_result"
    }
   ],
   "source": [
    "obj.name"
   ]
  },
  {
   "cell_type": "code",
   "execution_count": 7,
   "id": "74e5a394-8e21-4493-9f89-cb53539f2b94",
   "metadata": {},
   "outputs": [],
   "source": [
    "obj1 = person(\"rohit\", \"sharma\", \"rohit@gmail.com\", 1989)"
   ]
  },
  {
   "cell_type": "code",
   "execution_count": 8,
   "id": "fc9d4e86-ba99-494e-bf2a-a2cacd741b93",
   "metadata": {},
   "outputs": [
    {
     "data": {
      "text/plain": [
       "'sharma'"
      ]
     },
     "execution_count": 8,
     "metadata": {},
     "output_type": "execute_result"
    }
   ],
   "source": [
    "obj1.surname"
   ]
  },
  {
   "cell_type": "code",
   "execution_count": 9,
   "id": "44f8aed8-15b1-4404-be59-55d5a2ab566d",
   "metadata": {},
   "outputs": [
    {
     "data": {
      "text/plain": [
       "'kohli'"
      ]
     },
     "execution_count": 9,
     "metadata": {},
     "output_type": "execute_result"
    }
   ],
   "source": [
    "obj.surname"
   ]
  },
  {
   "cell_type": "code",
   "execution_count": 10,
   "id": "f7f9c98d-cbfa-4fbe-9f76-f53ac2938958",
   "metadata": {},
   "outputs": [
    {
     "data": {
      "text/plain": [
       "'virat'"
      ]
     },
     "execution_count": 10,
     "metadata": {},
     "output_type": "execute_result"
    }
   ],
   "source": [
    "obj.name"
   ]
  },
  {
   "cell_type": "code",
   "execution_count": null,
   "id": "fcb25dce-956d-49cf-9cd4-92078fb435e6",
   "metadata": {},
   "outputs": [],
   "source": []
  },
  {
   "cell_type": "code",
   "execution_count": 11,
   "id": "59df68d7-0963-4bfb-9005-75c83a316f5d",
   "metadata": {},
   "outputs": [],
   "source": [
    "class person1:\n",
    "\n",
    "    def __init__(self, name, surname, emailid, year_of_birth):\n",
    "        self.name = name\n",
    "        self.surname = surname\n",
    "        self.emailid = emailid\n",
    "        self.year_of_birth = year_of_birth\n",
    "        \n",
    "    def __init__(self, name,  year_of_birth):\n",
    "        self.name = name\n",
    "        self. year_of_birth= year_of_birth\n",
    "\n",
    "    def __init__(self, name, surname, year_of_birth):\n",
    "        self.name = name\n",
    "        self.surname = surname \n",
    "        self. year_of_birth= year_of_birth \n",
    "    \n",
    "        \n",
    "    def age(self, curretn_year):\n",
    "        return curretn_year - self.year_of_birth "
   ]
  },
  {
   "cell_type": "code",
   "execution_count": 15,
   "id": "b59b6282-79e9-42f0-a942-9265a549b48b",
   "metadata": {},
   "outputs": [],
   "source": [
    "obj2 = person1(\"hardik\", \"pandya\", 1990)"
   ]
  },
  {
   "cell_type": "code",
   "execution_count": 16,
   "id": "e4f16f49-fa0f-490f-93b2-b366f489e979",
   "metadata": {},
   "outputs": [
    {
     "data": {
      "text/plain": [
       "'pandya'"
      ]
     },
     "execution_count": 16,
     "metadata": {},
     "output_type": "execute_result"
    }
   ],
   "source": [
    "obj2.surname"
   ]
  },
  {
   "cell_type": "code",
   "execution_count": null,
   "id": "ea847e03-ce4d-4e7e-91f1-f30a0b3b601e",
   "metadata": {},
   "outputs": [],
   "source": []
  },
  {
   "cell_type": "code",
   "execution_count": 23,
   "id": "0b4dc689-d901-4736-83a7-6524d704dc92",
   "metadata": {},
   "outputs": [],
   "source": [
    "class person2:\n",
    "\n",
    "    def __init__(self, name, surname, emailid, year_of_birth):\n",
    "        self.name1 = name\n",
    "        self.surname1 = surname\n",
    "        self.emailid1 = emailid\n",
    "        self.year_of_birth = year_of_birth\n",
    "           \n",
    "    def age(self, curretn_year):\n",
    "        return curretn_year - self.year_of_birth \n",
    "    \n",
    "    def age_2(self, curretn_year):\n",
    "        return curretn_year \n",
    "        "
   ]
  },
  {
   "cell_type": "code",
   "execution_count": 20,
   "id": "3a227f66-f1b7-4f4c-872c-e24dab7d162b",
   "metadata": {},
   "outputs": [],
   "source": [
    "obj3 =person2(\"rohan\", \"rao\", \"rohan@gmail.com\", 1999)"
   ]
  },
  {
   "cell_type": "code",
   "execution_count": 22,
   "id": "78deef3c-6afd-4645-8cde-84d7e10c0d10",
   "metadata": {},
   "outputs": [
    {
     "data": {
      "text/plain": [
       "25"
      ]
     },
     "execution_count": 22,
     "metadata": {},
     "output_type": "execute_result"
    }
   ],
   "source": [
    "obj3.age(2024)"
   ]
  },
  {
   "cell_type": "code",
   "execution_count": 24,
   "id": "55c574b3-4eed-4479-a841-420c82b6c912",
   "metadata": {},
   "outputs": [
    {
     "data": {
      "text/plain": [
       "2024"
      ]
     },
     "execution_count": 24,
     "metadata": {},
     "output_type": "execute_result"
    }
   ],
   "source": [
    "obj3.age_2(2024)"
   ]
  },
  {
   "cell_type": "code",
   "execution_count": null,
   "id": "0ccb3448-1e5a-42e4-9821-4f9343581794",
   "metadata": {},
   "outputs": [],
   "source": []
  },
  {
   "cell_type": "code",
   "execution_count": 25,
   "id": "36811e77-dfe3-4a1d-b1e9-395891d20ce9",
   "metadata": {},
   "outputs": [],
   "source": [
    "class person3 :\n",
    "    \n",
    "    def __init__(self , name ,surname , yob):\n",
    "        self._name1 = name                 # single _ means private \n",
    "        self.__surname1 = surname          #  double __ means protective\n",
    "        self.yob1 = yob                    # public "
   ]
  },
  {
   "cell_type": "code",
   "execution_count": 27,
   "id": "bf243991-d679-4702-9555-bf6abdc9a122",
   "metadata": {},
   "outputs": [],
   "source": [
    "obj4  =person3(\"mayuri\", \"khan\", 2000)"
   ]
  },
  {
   "cell_type": "code",
   "execution_count": 28,
   "id": "42e7a634-3a0a-4b76-b26f-2eb2529af76b",
   "metadata": {},
   "outputs": [
    {
     "data": {
      "text/plain": [
       "2000"
      ]
     },
     "execution_count": 28,
     "metadata": {},
     "output_type": "execute_result"
    }
   ],
   "source": [
    "obj4.yob1"
   ]
  },
  {
   "cell_type": "code",
   "execution_count": 29,
   "id": "adc6ba81-8ff3-4e36-a219-1e019c4dac6f",
   "metadata": {},
   "outputs": [
    {
     "data": {
      "text/plain": [
       "'mayuri'"
      ]
     },
     "execution_count": 29,
     "metadata": {},
     "output_type": "execute_result"
    }
   ],
   "source": [
    "obj4._name1"
   ]
  },
  {
   "cell_type": "code",
   "execution_count": 31,
   "id": "38975a33-8e69-4676-863a-e83502b80b12",
   "metadata": {},
   "outputs": [
    {
     "data": {
      "text/plain": [
       "'khan'"
      ]
     },
     "execution_count": 31,
     "metadata": {},
     "output_type": "execute_result"
    }
   ],
   "source": [
    "obj4._person3__surname1"
   ]
  },
  {
   "cell_type": "code",
   "execution_count": null,
   "id": "b5ddd1ae-94ac-42a4-a949-116f2928f50b",
   "metadata": {},
   "outputs": [],
   "source": []
  },
  {
   "cell_type": "code",
   "execution_count": 32,
   "id": "a719e12e-bc99-4ff0-852a-6f524ee80856",
   "metadata": {},
   "outputs": [],
   "source": [
    "class person4:                             # parents class\n",
    "\n",
    "    name = \"amit\"\n",
    "    surname = \"kumar\"\n",
    "    yob = 1990\n",
    "\n",
    "    def age(self , current_year ):\n",
    "        return current_year - self.yob\n",
    "    \n",
    "    def age1(self , current_year ):\n",
    "        return current_year - self.yob\n",
    "\n",
    "\n",
    "\n",
    "class employee(person4):           #child class\n",
    "    name = \"amit\"\n",
    "    surname = \"singh\"\n",
    "    yob = 1991"
   ]
  },
  {
   "cell_type": "code",
   "execution_count": 33,
   "id": "a8b101b2-ff63-4a59-81df-821331cd1744",
   "metadata": {},
   "outputs": [],
   "source": [
    "obj5 = person4()"
   ]
  },
  {
   "cell_type": "code",
   "execution_count": 34,
   "id": "524181fe-6e3f-4a16-9494-7acb694947ad",
   "metadata": {},
   "outputs": [],
   "source": [
    "obj6 = employee()"
   ]
  },
  {
   "cell_type": "code",
   "execution_count": 35,
   "id": "311da452-4bc6-457d-a5dd-dd5f51a9deb3",
   "metadata": {},
   "outputs": [
    {
     "data": {
      "text/plain": [
       "'amit'"
      ]
     },
     "execution_count": 35,
     "metadata": {},
     "output_type": "execute_result"
    }
   ],
   "source": [
    "obj5.name"
   ]
  },
  {
   "cell_type": "code",
   "execution_count": 36,
   "id": "855fabd3-b4f4-4863-823f-8d257d2f627e",
   "metadata": {},
   "outputs": [
    {
     "data": {
      "text/plain": [
       "'singh'"
      ]
     },
     "execution_count": 36,
     "metadata": {},
     "output_type": "execute_result"
    }
   ],
   "source": [
    "obj6.surname"
   ]
  },
  {
   "cell_type": "code",
   "execution_count": 38,
   "id": "073a6b71-1d89-4149-96f5-04fcaf0de77c",
   "metadata": {},
   "outputs": [
    {
     "data": {
      "text/plain": [
       "33"
      ]
     },
     "execution_count": 38,
     "metadata": {},
     "output_type": "execute_result"
    }
   ],
   "source": [
    "obj6.age1(2024)"
   ]
  },
  {
   "cell_type": "code",
   "execution_count": 40,
   "id": "e41833a0-790c-47a4-8ee2-d8af9ebf1561",
   "metadata": {},
   "outputs": [
    {
     "data": {
      "text/plain": [
       "34"
      ]
     },
     "execution_count": 40,
     "metadata": {},
     "output_type": "execute_result"
    }
   ],
   "source": [
    "obj5.age1(2024)"
   ]
  },
  {
   "cell_type": "code",
   "execution_count": null,
   "id": "4ef2d8b0-17cc-4607-a4af-6ceee39b0da5",
   "metadata": {},
   "outputs": [],
   "source": []
  }
 ],
 "metadata": {
  "kernelspec": {
   "display_name": "Python 3 (ipykernel)",
   "language": "python",
   "name": "python3"
  },
  "language_info": {
   "codemirror_mode": {
    "name": "ipython",
    "version": 3
   },
   "file_extension": ".py",
   "mimetype": "text/x-python",
   "name": "python",
   "nbconvert_exporter": "python",
   "pygments_lexer": "ipython3",
   "version": "3.11.7"
  }
 },
 "nbformat": 4,
 "nbformat_minor": 5
}
