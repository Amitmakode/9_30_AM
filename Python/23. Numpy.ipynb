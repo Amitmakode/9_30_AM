{
 "cells": [
  {
   "cell_type": "code",
   "execution_count": null,
   "id": "f8d72489-58e5-4d51-817f-c850e89ad870",
   "metadata": {},
   "outputs": [],
   "source": [
    "!pip install numpy"
   ]
  },
  {
   "cell_type": "code",
   "execution_count": 1,
   "id": "da8abc87-6e13-45ca-845b-fe0560d36ca6",
   "metadata": {},
   "outputs": [],
   "source": [
    "import numpy as np"
   ]
  },
  {
   "cell_type": "code",
   "execution_count": 2,
   "id": "4bffdb85-552e-48ce-af9f-11001119d65a",
   "metadata": {},
   "outputs": [
    {
     "name": "stdout",
     "output_type": "stream",
     "text": [
      "(1, 2, 3, 4, 5)\n"
     ]
    }
   ],
   "source": [
    "a =(1,2,3,4,5)\n",
    "\n",
    "print(a)"
   ]
  },
  {
   "cell_type": "code",
   "execution_count": 3,
   "id": "46587874-366a-4ef5-ad1a-80cb20152db1",
   "metadata": {},
   "outputs": [
    {
     "data": {
      "text/plain": [
       "tuple"
      ]
     },
     "execution_count": 3,
     "metadata": {},
     "output_type": "execute_result"
    }
   ],
   "source": [
    "type(a)"
   ]
  },
  {
   "cell_type": "code",
   "execution_count": 4,
   "id": "1d71190a-9657-4e7a-818d-80f85d92d3e2",
   "metadata": {},
   "outputs": [
    {
     "name": "stdout",
     "output_type": "stream",
     "text": [
      "[1 2 3 4 5]\n"
     ]
    }
   ],
   "source": [
    "b= np.array(a)\n",
    "print(b)"
   ]
  },
  {
   "cell_type": "code",
   "execution_count": 5,
   "id": "018b6e39-e1ea-4613-a9ed-a4550b6f354a",
   "metadata": {},
   "outputs": [
    {
     "data": {
      "text/plain": [
       "numpy.ndarray"
      ]
     },
     "execution_count": 5,
     "metadata": {},
     "output_type": "execute_result"
    }
   ],
   "source": [
    "type(b)"
   ]
  },
  {
   "cell_type": "code",
   "execution_count": 6,
   "id": "cc38311b-9a4b-4461-b197-8f84f2774996",
   "metadata": {},
   "outputs": [
    {
     "data": {
      "text/plain": [
       "1"
      ]
     },
     "execution_count": 6,
     "metadata": {},
     "output_type": "execute_result"
    }
   ],
   "source": [
    "b.ndim"
   ]
  },
  {
   "cell_type": "code",
   "execution_count": 7,
   "id": "57122467-4649-44b3-803c-999f37723e62",
   "metadata": {},
   "outputs": [
    {
     "data": {
      "text/plain": [
       "5"
      ]
     },
     "execution_count": 7,
     "metadata": {},
     "output_type": "execute_result"
    }
   ],
   "source": [
    "b.size"
   ]
  },
  {
   "cell_type": "code",
   "execution_count": 8,
   "id": "1936d596-873a-4f50-ad86-9c61a723dc8a",
   "metadata": {},
   "outputs": [
    {
     "data": {
      "text/plain": [
       "(5,)"
      ]
     },
     "execution_count": 8,
     "metadata": {},
     "output_type": "execute_result"
    }
   ],
   "source": [
    "b.shape"
   ]
  },
  {
   "cell_type": "code",
   "execution_count": 9,
   "id": "d903478b-84a7-4902-80ff-0f10f80cbfce",
   "metadata": {},
   "outputs": [
    {
     "name": "stdout",
     "output_type": "stream",
     "text": [
      "pure python version= 5.657954692840576\n",
      "numpy = 0.08545994758605957\n"
     ]
    }
   ],
   "source": [
    "import time as tm\n",
    "\n",
    "size_1 = 10000000\n",
    "\n",
    "def pure_python_version():\n",
    "    start_time_pp =  tm.time() ## time of start of code execution\n",
    "    list1 = range(size_1)\n",
    "    list2 = range(size_1)\n",
    "    sum_list=[list1[i]+list2[i] for i in range(len(list1))]\n",
    "    end_time_pp =  tm.time()\n",
    "    return end_time_pp - start_time_pp ## end time for execution (difference)\n",
    "\n",
    "def numpy_version():\n",
    "    start_time_np = tm.time()\n",
    "    array1 = np.arange(size_1)\n",
    "    array2 =  np.arange(size_1)\n",
    "    sum_array = array1 + array2\n",
    "    end_time_np = tm.time()\n",
    "    return end_time_np - start_time_np ## end time for execution (difference)\n",
    "\n",
    "python_time = pure_python_version()\n",
    "numpy_time  = numpy_version()\n",
    "\n",
    "print(\"pure python version=\",python_time)\n",
    "print(\"numpy =\",numpy_time)"
   ]
  },
  {
   "cell_type": "code",
   "execution_count": 10,
   "id": "c8e06a85-58cb-4559-9d1f-a5fafb8ccfec",
   "metadata": {},
   "outputs": [],
   "source": [
    "my_list=[2,3,4,6,7,8]"
   ]
  },
  {
   "cell_type": "code",
   "execution_count": 11,
   "id": "8639ad4e-7beb-4ac5-bbdc-7ba02cb87920",
   "metadata": {},
   "outputs": [
    {
     "data": {
      "text/plain": [
       "array([2, 3, 4, 6, 7, 8])"
      ]
     },
     "execution_count": 11,
     "metadata": {},
     "output_type": "execute_result"
    }
   ],
   "source": [
    "my_array=np.array(my_list)\n",
    "my_array"
   ]
  },
  {
   "cell_type": "code",
   "execution_count": 12,
   "id": "33d59b6c-a8d9-4cef-9b97-500c18ea6f85",
   "metadata": {},
   "outputs": [
    {
     "data": {
      "text/plain": [
       "numpy.ndarray"
      ]
     },
     "execution_count": 12,
     "metadata": {},
     "output_type": "execute_result"
    }
   ],
   "source": [
    "array_2 = [[1,2,3],[4,5,6],[7,8,9]]\n",
    "array_3= np.array(array_2)\n",
    "array_3\n",
    "type(array_3)"
   ]
  },
  {
   "cell_type": "code",
   "execution_count": 13,
   "id": "d7a2b777-69be-4290-a8d9-8931871fe0ea",
   "metadata": {},
   "outputs": [
    {
     "data": {
      "text/plain": [
       "2"
      ]
     },
     "execution_count": 13,
     "metadata": {},
     "output_type": "execute_result"
    }
   ],
   "source": [
    "array_3.ndim"
   ]
  },
  {
   "cell_type": "code",
   "execution_count": 14,
   "id": "83518325-9490-4d65-80b8-a876dc692f0e",
   "metadata": {},
   "outputs": [
    {
     "data": {
      "text/plain": [
       "array([[1, 2, 3],\n",
       "       [4, 5, 6],\n",
       "       [7, 8, 9]])"
      ]
     },
     "execution_count": 14,
     "metadata": {},
     "output_type": "execute_result"
    }
   ],
   "source": [
    "array_3"
   ]
  },
  {
   "cell_type": "code",
   "execution_count": 15,
   "id": "3a6f5d78-58a2-4189-b8ba-3ed511772168",
   "metadata": {},
   "outputs": [
    {
     "data": {
      "text/plain": [
       "9"
      ]
     },
     "execution_count": 15,
     "metadata": {},
     "output_type": "execute_result"
    }
   ],
   "source": [
    "array_3.size"
   ]
  },
  {
   "cell_type": "code",
   "execution_count": 16,
   "id": "c1e791d4-431d-467a-a4a4-879459bc548c",
   "metadata": {},
   "outputs": [
    {
     "data": {
      "text/plain": [
       "(3, 3)"
      ]
     },
     "execution_count": 16,
     "metadata": {},
     "output_type": "execute_result"
    }
   ],
   "source": [
    "array_3.shape"
   ]
  },
  {
   "cell_type": "code",
   "execution_count": 17,
   "id": "dcd25523-73e8-474f-bb9d-527c425692d7",
   "metadata": {},
   "outputs": [
    {
     "name": "stdout",
     "output_type": "stream",
     "text": [
      "[[[1 2 3 7 5 1]]]\n"
     ]
    },
    {
     "data": {
      "text/plain": [
       "3"
      ]
     },
     "execution_count": 17,
     "metadata": {},
     "output_type": "execute_result"
    }
   ],
   "source": [
    "a = np.array([1, 2, 3,7,5,1], ndmin = 3) \n",
    "print (a)\n",
    "np.ndim(a)"
   ]
  },
  {
   "cell_type": "code",
   "execution_count": 18,
   "id": "45e3c97c-328a-457a-ab9f-a970f1e7ee32",
   "metadata": {},
   "outputs": [
    {
     "name": "stdout",
     "output_type": "stream",
     "text": [
      "[[[[[[[[1 2 3 7 5 1]]]]]]]]\n"
     ]
    },
    {
     "data": {
      "text/plain": [
       "8"
      ]
     },
     "execution_count": 18,
     "metadata": {},
     "output_type": "execute_result"
    }
   ],
   "source": [
    "a = np.array([1, 2, 3,7,5,1], ndmin = 8) \n",
    "print (a)\n",
    "np.ndim(a)"
   ]
  },
  {
   "cell_type": "code",
   "execution_count": 19,
   "id": "50ad7fff-7f4a-4ed2-a9ba-d38c9e9ad3d3",
   "metadata": {},
   "outputs": [
    {
     "data": {
      "text/plain": [
       "array([1, 2, 3])"
      ]
     },
     "execution_count": 19,
     "metadata": {},
     "output_type": "execute_result"
    }
   ],
   "source": [
    "array_3[0]"
   ]
  },
  {
   "cell_type": "code",
   "execution_count": 20,
   "id": "a9735e26-6f4e-4e87-bc6a-911d4a0ae98b",
   "metadata": {},
   "outputs": [
    {
     "data": {
      "text/plain": [
       "array([4, 5, 6])"
      ]
     },
     "execution_count": 20,
     "metadata": {},
     "output_type": "execute_result"
    }
   ],
   "source": [
    "array_3[1]"
   ]
  },
  {
   "cell_type": "code",
   "execution_count": 21,
   "id": "54bdc179-b6ea-4bcf-890c-a12df9306725",
   "metadata": {},
   "outputs": [
    {
     "data": {
      "text/plain": [
       "7"
      ]
     },
     "execution_count": 21,
     "metadata": {},
     "output_type": "execute_result"
    }
   ],
   "source": [
    "array_3[2,0]"
   ]
  },
  {
   "cell_type": "code",
   "execution_count": 23,
   "id": "d16b59e5-c304-40b9-8a0b-857447815a75",
   "metadata": {},
   "outputs": [
    {
     "data": {
      "text/plain": [
       "array([2, 5, 8])"
      ]
     },
     "execution_count": 23,
     "metadata": {},
     "output_type": "execute_result"
    }
   ],
   "source": [
    "array_3[:,1] # Acessing Column"
   ]
  },
  {
   "cell_type": "code",
   "execution_count": 22,
   "id": "9810db9c-5c14-4c8d-be16-272fe1774b27",
   "metadata": {},
   "outputs": [
    {
     "data": {
      "text/plain": [
       "array([[1, 2, 3],\n",
       "       [4, 5, 6],\n",
       "       [7, 8, 9]])"
      ]
     },
     "execution_count": 22,
     "metadata": {},
     "output_type": "execute_result"
    }
   ],
   "source": [
    "array_3"
   ]
  },
  {
   "cell_type": "code",
   "execution_count": 24,
   "id": "31fec392-8f07-46e3-be03-575fc5757ea6",
   "metadata": {},
   "outputs": [
    {
     "data": {
      "text/plain": [
       "array([1, 2, 3, 4, 5, 6, 7, 8, 9])"
      ]
     },
     "execution_count": 24,
     "metadata": {},
     "output_type": "execute_result"
    }
   ],
   "source": [
    "np.arange(1,10)"
   ]
  },
  {
   "cell_type": "code",
   "execution_count": 25,
   "id": "cb87dc69-f140-4de9-bc4f-ecd4833009b1",
   "metadata": {},
   "outputs": [
    {
     "data": {
      "text/plain": [
       "array([1, 4, 7])"
      ]
     },
     "execution_count": 25,
     "metadata": {},
     "output_type": "execute_result"
    }
   ],
   "source": [
    "np.arange(1,10,3) #(start,end,space)"
   ]
  },
  {
   "cell_type": "code",
   "execution_count": 26,
   "id": "ca24a32a-7a64-49e8-b275-8e3477053c6a",
   "metadata": {},
   "outputs": [
    {
     "data": {
      "text/plain": [
       "array([10, 15, 20, 25, 30, 35, 40, 45, 50, 55, 60, 65, 70, 75, 80, 85, 90,\n",
       "       95])"
      ]
     },
     "execution_count": 26,
     "metadata": {},
     "output_type": "execute_result"
    }
   ],
   "source": [
    "np.arange(10,100,5) #(start,end,space)"
   ]
  },
  {
   "cell_type": "code",
   "execution_count": 27,
   "id": "da4e5b67-ddb6-4351-81ae-519a39069347",
   "metadata": {},
   "outputs": [
    {
     "data": {
      "text/plain": [
       "array([0.        , 0.44444444, 0.88888889, 1.33333333, 1.77777778,\n",
       "       2.22222222, 2.66666667, 3.11111111, 3.55555556, 4.        ])"
      ]
     },
     "execution_count": 27,
     "metadata": {},
     "output_type": "execute_result"
    }
   ],
   "source": [
    "np.linspace(0,4,10) # (start,end,no of values)"
   ]
  },
  {
   "cell_type": "code",
   "execution_count": 28,
   "id": "236e29d6-26d3-487b-9600-9d5764b3d99d",
   "metadata": {},
   "outputs": [
    {
     "data": {
      "text/plain": [
       "array([1.        , 1.33333333, 1.66666667, 2.        , 2.33333333,\n",
       "       2.66666667, 3.        , 3.33333333, 3.66666667, 4.        ])"
      ]
     },
     "execution_count": 28,
     "metadata": {},
     "output_type": "execute_result"
    }
   ],
   "source": [
    "np.linspace(1,4,10) # (start,end,no of values)"
   ]
  },
  {
   "cell_type": "code",
   "execution_count": 29,
   "id": "d26db06b-516a-4a43-9ebb-27f886db4fd1",
   "metadata": {},
   "outputs": [
    {
     "data": {
      "text/plain": [
       "array([1.        , 1.11111111, 1.22222222, 1.33333333, 1.44444444,\n",
       "       1.55555556, 1.66666667, 1.77777778, 1.88888889, 2.        ])"
      ]
     },
     "execution_count": 29,
     "metadata": {},
     "output_type": "execute_result"
    }
   ],
   "source": [
    "np.linspace(1,2,10)"
   ]
  },
  {
   "cell_type": "code",
   "execution_count": 30,
   "id": "a910ad80-9c53-4904-b408-c58f8bb2188e",
   "metadata": {},
   "outputs": [
    {
     "data": {
      "text/plain": [
       "array([-2.        , -1.55555556, -1.11111111, -0.66666667, -0.22222222,\n",
       "        0.22222222,  0.66666667,  1.11111111,  1.55555556,  2.        ])"
      ]
     },
     "execution_count": 30,
     "metadata": {},
     "output_type": "execute_result"
    }
   ],
   "source": [
    "np.linspace(-2,2,10)"
   ]
  },
  {
   "cell_type": "code",
   "execution_count": 31,
   "id": "18595e02-e167-4068-9eda-4df01eea8f37",
   "metadata": {},
   "outputs": [
    {
     "data": {
      "text/plain": [
       "array([0.05321084, 0.18631097])"
      ]
     },
     "execution_count": 31,
     "metadata": {},
     "output_type": "execute_result"
    }
   ],
   "source": [
    "np.random.rand(2)"
   ]
  },
  {
   "cell_type": "code",
   "execution_count": 32,
   "id": "f4875219-82f9-4fa2-a215-7c15d71404af",
   "metadata": {},
   "outputs": [
    {
     "data": {
      "text/plain": [
       "array([0.03178443, 0.37172309, 0.35977244, 0.14799108, 0.17849616,\n",
       "       0.02172495, 0.2685924 , 0.01861962, 0.06758106, 0.30331532,\n",
       "       0.84837144, 0.77024026, 0.80511735, 0.26863678, 0.08278674,\n",
       "       0.44465826, 0.2912161 , 0.21602733, 0.48489439, 0.70597057])"
      ]
     },
     "execution_count": 32,
     "metadata": {},
     "output_type": "execute_result"
    }
   ],
   "source": [
    "np.random.rand(20)"
   ]
  },
  {
   "cell_type": "code",
   "execution_count": 33,
   "id": "f9e8cbd3-4421-43ab-a8d1-841dee387032",
   "metadata": {},
   "outputs": [
    {
     "data": {
      "text/plain": [
       "array([[0.2297917 , 0.85797138],\n",
       "       [0.56358927, 0.37721338]])"
      ]
     },
     "execution_count": 33,
     "metadata": {},
     "output_type": "execute_result"
    }
   ],
   "source": [
    "np.random.rand(2,2)"
   ]
  },
  {
   "cell_type": "code",
   "execution_count": 34,
   "id": "cc77349b-4781-44cd-bed4-0df7d2e2d64f",
   "metadata": {},
   "outputs": [
    {
     "data": {
      "text/plain": [
       "array([[1, 2, 3],\n",
       "       [4, 5, 6],\n",
       "       [7, 8, 9]])"
      ]
     },
     "execution_count": 34,
     "metadata": {},
     "output_type": "execute_result"
    }
   ],
   "source": [
    "array_3"
   ]
  },
  {
   "cell_type": "code",
   "execution_count": 35,
   "id": "045cadf3-803d-4bb1-be6a-9816ee9af52c",
   "metadata": {},
   "outputs": [
    {
     "data": {
      "text/plain": [
       "array([[1, 2, 3, 4, 5, 6, 7, 8, 9]])"
      ]
     },
     "execution_count": 35,
     "metadata": {},
     "output_type": "execute_result"
    }
   ],
   "source": [
    "array_3.reshape(1,9)"
   ]
  },
  {
   "cell_type": "code",
   "execution_count": 36,
   "id": "3582fdc8-d1d6-4ddb-942a-765c11e000f3",
   "metadata": {},
   "outputs": [
    {
     "data": {
      "text/plain": [
       "array([[1],\n",
       "       [2],\n",
       "       [3],\n",
       "       [4],\n",
       "       [5],\n",
       "       [6],\n",
       "       [7],\n",
       "       [8],\n",
       "       [9]])"
      ]
     },
     "execution_count": 36,
     "metadata": {},
     "output_type": "execute_result"
    }
   ],
   "source": [
    "array_3.reshape(9,1)"
   ]
  },
  {
   "cell_type": "code",
   "execution_count": 37,
   "id": "3e089fda-5e48-4853-971c-9eff91a70a40",
   "metadata": {},
   "outputs": [
    {
     "data": {
      "text/plain": [
       "array([[ 1,  2,  3,  4],\n",
       "       [ 4,  5,  6,  7],\n",
       "       [ 7,  8,  9, 10],\n",
       "       [10, 11, 12, 13]])"
      ]
     },
     "execution_count": 37,
     "metadata": {},
     "output_type": "execute_result"
    }
   ],
   "source": [
    "x=[[1,2,3,4],[4,5,6,7],[7,8,9,10],[10,11,12,13]]\n",
    "x=np.array(x)\n",
    "x"
   ]
  },
  {
   "cell_type": "code",
   "execution_count": 38,
   "id": "4a562dc6-8e16-4e59-8e27-e8fc3d5c0cf1",
   "metadata": {},
   "outputs": [
    {
     "data": {
      "text/plain": [
       "array([[ 1,  2,  3,  4,  4,  5,  6,  7],\n",
       "       [ 7,  8,  9, 10, 10, 11, 12, 13]])"
      ]
     },
     "execution_count": 38,
     "metadata": {},
     "output_type": "execute_result"
    }
   ],
   "source": [
    "x.reshape(2, 8)"
   ]
  },
  {
   "cell_type": "code",
   "execution_count": 39,
   "id": "e540e759-1e1d-4c40-83ce-69b983dd2784",
   "metadata": {},
   "outputs": [
    {
     "data": {
      "text/plain": [
       "array([[ 1,  2],\n",
       "       [ 3,  4],\n",
       "       [ 4,  5],\n",
       "       [ 6,  7],\n",
       "       [ 7,  8],\n",
       "       [ 9, 10],\n",
       "       [10, 11],\n",
       "       [12, 13]])"
      ]
     },
     "execution_count": 39,
     "metadata": {},
     "output_type": "execute_result"
    }
   ],
   "source": [
    "x.reshape(8, 2)"
   ]
  },
  {
   "cell_type": "code",
   "execution_count": 40,
   "id": "277c4ae0-b97f-4934-9af2-be82cd765aa4",
   "metadata": {},
   "outputs": [
    {
     "ename": "ValueError",
     "evalue": "cannot reshape array of size 16 into shape (8,3)",
     "output_type": "error",
     "traceback": [
      "\u001b[1;31m---------------------------------------------------------------------------\u001b[0m",
      "\u001b[1;31mValueError\u001b[0m                                Traceback (most recent call last)",
      "Cell \u001b[1;32mIn[40], line 1\u001b[0m\n\u001b[1;32m----> 1\u001b[0m x\u001b[38;5;241m.\u001b[39mreshape(\u001b[38;5;241m8\u001b[39m, \u001b[38;5;241m3\u001b[39m)\n",
      "\u001b[1;31mValueError\u001b[0m: cannot reshape array of size 16 into shape (8,3)"
     ]
    }
   ],
   "source": [
    "x.reshape(8, 3)"
   ]
  },
  {
   "cell_type": "code",
   "execution_count": 41,
   "id": "e1c02f23-35d1-45fc-b52a-b7d5529453fa",
   "metadata": {},
   "outputs": [
    {
     "data": {
      "text/plain": [
       "array([[ 1],\n",
       "       [ 2],\n",
       "       [ 3],\n",
       "       [ 4],\n",
       "       [ 4],\n",
       "       [ 5],\n",
       "       [ 6],\n",
       "       [ 7],\n",
       "       [ 7],\n",
       "       [ 8],\n",
       "       [ 9],\n",
       "       [10],\n",
       "       [10],\n",
       "       [11],\n",
       "       [12],\n",
       "       [13]])"
      ]
     },
     "execution_count": 41,
     "metadata": {},
     "output_type": "execute_result"
    }
   ],
   "source": [
    "x.reshape(16, 1)"
   ]
  },
  {
   "cell_type": "code",
   "execution_count": 42,
   "id": "0e037b64-71e2-405a-b28b-e11bc2c6171d",
   "metadata": {},
   "outputs": [
    {
     "data": {
      "text/plain": [
       "1"
      ]
     },
     "execution_count": 42,
     "metadata": {},
     "output_type": "execute_result"
    }
   ],
   "source": [
    "x.min()"
   ]
  },
  {
   "cell_type": "code",
   "execution_count": 43,
   "id": "4751400f-e051-4a31-83cb-05adbe20dfb2",
   "metadata": {},
   "outputs": [
    {
     "data": {
      "text/plain": [
       "13"
      ]
     },
     "execution_count": 43,
     "metadata": {},
     "output_type": "execute_result"
    }
   ],
   "source": [
    "x.max()"
   ]
  },
  {
   "cell_type": "code",
   "execution_count": 45,
   "id": "244a4636-6d1c-4dae-ad9c-b12f9d7e5fe1",
   "metadata": {},
   "outputs": [
    {
     "data": {
      "text/plain": [
       "7.0"
      ]
     },
     "execution_count": 45,
     "metadata": {},
     "output_type": "execute_result"
    }
   ],
   "source": [
    "x.mean()"
   ]
  },
  {
   "cell_type": "code",
   "execution_count": 46,
   "id": "0b54981a-9737-4f32-99df-cda53960a87b",
   "metadata": {},
   "outputs": [
    {
     "data": {
      "text/plain": [
       "3.5355339059327378"
      ]
     },
     "execution_count": 46,
     "metadata": {},
     "output_type": "execute_result"
    }
   ],
   "source": [
    "x.std()"
   ]
  },
  {
   "cell_type": "code",
   "execution_count": 47,
   "id": "205bc699-385a-4485-943a-80392cfd3e1d",
   "metadata": {},
   "outputs": [
    {
     "data": {
      "text/plain": [
       "12.5"
      ]
     },
     "execution_count": 47,
     "metadata": {},
     "output_type": "execute_result"
    }
   ],
   "source": [
    "x.var()"
   ]
  },
  {
   "cell_type": "code",
   "execution_count": 48,
   "id": "d5025e7f-d332-45f3-b6e4-80071b7386b9",
   "metadata": {},
   "outputs": [
    {
     "data": {
      "text/plain": [
       "112"
      ]
     },
     "execution_count": 48,
     "metadata": {},
     "output_type": "execute_result"
    }
   ],
   "source": [
    "x.sum()"
   ]
  },
  {
   "cell_type": "code",
   "execution_count": 49,
   "id": "ba0c7a35-fbf5-4395-8d58-b4c2272525a4",
   "metadata": {},
   "outputs": [
    {
     "data": {
      "text/plain": [
       "array([[ 1,  2,  3,  4],\n",
       "       [ 4,  5,  6,  7],\n",
       "       [ 7,  8,  9, 10],\n",
       "       [10, 11, 12, 13]])"
      ]
     },
     "execution_count": 49,
     "metadata": {},
     "output_type": "execute_result"
    }
   ],
   "source": [
    "x"
   ]
  },
  {
   "cell_type": "code",
   "execution_count": 51,
   "id": "ef2b3b58-2f69-4f4e-8e2e-556ea5456409",
   "metadata": {},
   "outputs": [
    {
     "data": {
      "text/plain": [
       "array([ 1,  4,  7, 10])"
      ]
     },
     "execution_count": 51,
     "metadata": {},
     "output_type": "execute_result"
    }
   ],
   "source": [
    "x.min(axis=1)"
   ]
  },
  {
   "cell_type": "code",
   "execution_count": 52,
   "id": "478a250c-d436-433e-ac3f-67e1ce83b1ee",
   "metadata": {},
   "outputs": [
    {
     "data": {
      "text/plain": [
       "array([1, 2, 3, 4])"
      ]
     },
     "execution_count": 52,
     "metadata": {},
     "output_type": "execute_result"
    }
   ],
   "source": [
    "x.min(axis=0)"
   ]
  },
  {
   "cell_type": "code",
   "execution_count": 53,
   "id": "c15b2822-23df-4e16-b307-c74164374568",
   "metadata": {},
   "outputs": [
    {
     "data": {
      "text/plain": [
       "array([ 1,  2,  3,  4,  4,  5,  6,  7,  7,  8,  9, 10, 10, 11, 12, 13])"
      ]
     },
     "execution_count": 53,
     "metadata": {},
     "output_type": "execute_result"
    }
   ],
   "source": [
    "x.flatten() #2D to 1D"
   ]
  },
  {
   "cell_type": "code",
   "execution_count": 54,
   "id": "a258abac-9b54-49c1-a07e-3247cff29fe6",
   "metadata": {},
   "outputs": [
    {
     "data": {
      "text/plain": [
       "array([[ 1,  4,  7, 10],\n",
       "       [ 2,  5,  8, 11],\n",
       "       [ 3,  6,  9, 12],\n",
       "       [ 4,  7, 10, 13]])"
      ]
     },
     "execution_count": 54,
     "metadata": {},
     "output_type": "execute_result"
    }
   ],
   "source": [
    "x.transpose()"
   ]
  },
  {
   "cell_type": "code",
   "execution_count": 55,
   "id": "7617dc82-0165-43c0-80a0-08413cc0236e",
   "metadata": {},
   "outputs": [
    {
     "data": {
      "text/plain": [
       "array([[ 1,  2,  3,  4],\n",
       "       [ 4,  5,  6,  7],\n",
       "       [ 7,  8,  9, 10],\n",
       "       [10, 11, 12, 13]])"
      ]
     },
     "execution_count": 55,
     "metadata": {},
     "output_type": "execute_result"
    }
   ],
   "source": [
    "x"
   ]
  },
  {
   "cell_type": "code",
   "execution_count": 56,
   "id": "8cd3a6d8-835d-4b43-87b5-e5f082ec4bf5",
   "metadata": {},
   "outputs": [
    {
     "name": "stdout",
     "output_type": "stream",
     "text": [
      "[[ 4 10 11]\n",
      " [21 22 23]\n",
      " [31 32 33]]\n"
     ]
    }
   ],
   "source": [
    "A = np.array([ [4, 10, 11], [21, 22, 23], [31, 32, 33] ])\n",
    "B = np.ones((3,3))\n",
    "print(A)"
   ]
  },
  {
   "cell_type": "code",
   "execution_count": 57,
   "id": "b9f74121-5f6a-4773-aa48-b88f49ff170b",
   "metadata": {},
   "outputs": [
    {
     "data": {
      "text/plain": [
       "array([[ 4, 10, 11],\n",
       "       [21, 22, 23],\n",
       "       [31, 32, 33]])"
      ]
     },
     "execution_count": 57,
     "metadata": {},
     "output_type": "execute_result"
    }
   ],
   "source": [
    "A"
   ]
  },
  {
   "cell_type": "code",
   "execution_count": 58,
   "id": "ce361921-cf6c-456f-803f-8344b7f4959c",
   "metadata": {},
   "outputs": [
    {
     "data": {
      "text/plain": [
       "array([[1., 1., 1.],\n",
       "       [1., 1., 1.],\n",
       "       [1., 1., 1.]])"
      ]
     },
     "execution_count": 58,
     "metadata": {},
     "output_type": "execute_result"
    }
   ],
   "source": [
    "B"
   ]
  },
  {
   "cell_type": "code",
   "execution_count": 59,
   "id": "a16766ee-ff73-44c1-a7be-4977c0eeb98b",
   "metadata": {},
   "outputs": [
    {
     "data": {
      "text/plain": [
       "array([[ 5., 11., 12.],\n",
       "       [22., 23., 24.],\n",
       "       [32., 33., 34.]])"
      ]
     },
     "execution_count": 59,
     "metadata": {},
     "output_type": "execute_result"
    }
   ],
   "source": [
    "A+B"
   ]
  },
  {
   "cell_type": "code",
   "execution_count": 60,
   "id": "dc649d20-488a-4d23-9b61-20b394b914eb",
   "metadata": {},
   "outputs": [
    {
     "data": {
      "text/plain": [
       "array([[ 3.,  9., 10.],\n",
       "       [20., 21., 22.],\n",
       "       [30., 31., 32.]])"
      ]
     },
     "execution_count": 60,
     "metadata": {},
     "output_type": "execute_result"
    }
   ],
   "source": [
    "A-B"
   ]
  },
  {
   "cell_type": "code",
   "execution_count": 61,
   "id": "73373683-fd26-4183-9faa-ff57739e880d",
   "metadata": {},
   "outputs": [
    {
     "data": {
      "text/plain": [
       "array([[ 4., 10., 11.],\n",
       "       [21., 22., 23.],\n",
       "       [31., 32., 33.]])"
      ]
     },
     "execution_count": 61,
     "metadata": {},
     "output_type": "execute_result"
    }
   ],
   "source": [
    "A*B"
   ]
  },
  {
   "cell_type": "code",
   "execution_count": 62,
   "id": "543e01e3-f591-4bc5-b962-048cff64e98b",
   "metadata": {},
   "outputs": [
    {
     "data": {
      "text/plain": [
       "array([[0.25      , 0.1       , 0.09090909],\n",
       "       [0.04761905, 0.04545455, 0.04347826],\n",
       "       [0.03225806, 0.03125   , 0.03030303]])"
      ]
     },
     "execution_count": 62,
     "metadata": {},
     "output_type": "execute_result"
    }
   ],
   "source": [
    "B/A"
   ]
  },
  {
   "cell_type": "code",
   "execution_count": 63,
   "id": "91ab1a28-6eeb-4e13-9c3c-dfc5f4883d34",
   "metadata": {},
   "outputs": [
    {
     "data": {
      "text/plain": [
       "array([[1., 1., 1.],\n",
       "       [1., 1., 1.],\n",
       "       [1., 1., 1.]])"
      ]
     },
     "execution_count": 63,
     "metadata": {},
     "output_type": "execute_result"
    }
   ],
   "source": [
    "B%A"
   ]
  },
  {
   "cell_type": "code",
   "execution_count": 64,
   "id": "71528924-8ca1-4ba8-9231-061ab0d77cbf",
   "metadata": {},
   "outputs": [
    {
     "data": {
      "text/plain": [
       "array([[ 8, 20, 22],\n",
       "       [42, 44, 46],\n",
       "       [62, 64, 66]])"
      ]
     },
     "execution_count": 64,
     "metadata": {},
     "output_type": "execute_result"
    }
   ],
   "source": [
    "A*2"
   ]
  },
  {
   "cell_type": "code",
   "execution_count": 65,
   "id": "56d63394-c3eb-4b75-800e-848387661a61",
   "metadata": {},
   "outputs": [
    {
     "data": {
      "text/plain": [
       "array([[  16,  100,  121],\n",
       "       [ 441,  484,  529],\n",
       "       [ 961, 1024, 1089]])"
      ]
     },
     "execution_count": 65,
     "metadata": {},
     "output_type": "execute_result"
    }
   ],
   "source": [
    "A**2"
   ]
  },
  {
   "cell_type": "code",
   "execution_count": 66,
   "id": "94d63bc9-0459-4726-b1b3-8b9a9470d560",
   "metadata": {},
   "outputs": [
    {
     "data": {
      "text/plain": [
       "array([[25., 25., 25.],\n",
       "       [66., 66., 66.],\n",
       "       [96., 96., 96.]])"
      ]
     },
     "execution_count": 66,
     "metadata": {},
     "output_type": "execute_result"
    }
   ],
   "source": [
    "np.dot(A,B)"
   ]
  },
  {
   "cell_type": "code",
   "execution_count": 67,
   "id": "65d16ee5-1b6e-409a-bd31-3c8fbb245106",
   "metadata": {},
   "outputs": [
    {
     "data": {
      "text/plain": [
       "array([[ 4, 10, 11],\n",
       "       [21, 22, 23],\n",
       "       [31, 32, 33]])"
      ]
     },
     "execution_count": 67,
     "metadata": {},
     "output_type": "execute_result"
    }
   ],
   "source": [
    "A"
   ]
  },
  {
   "cell_type": "code",
   "execution_count": 68,
   "id": "89857d8e-ef70-4d63-821c-1e6eaa385a94",
   "metadata": {},
   "outputs": [
    {
     "data": {
      "text/plain": [
       "array([[1., 1., 1.],\n",
       "       [1., 1., 1.],\n",
       "       [1., 1., 1.]])"
      ]
     },
     "execution_count": 68,
     "metadata": {},
     "output_type": "execute_result"
    }
   ],
   "source": [
    "B"
   ]
  },
  {
   "cell_type": "code",
   "execution_count": 69,
   "id": "4b9ace4d-fef7-46b7-90a8-4d72187e3146",
   "metadata": {},
   "outputs": [
    {
     "data": {
      "text/plain": [
       "array([[2.        , 3.16227766, 3.31662479],\n",
       "       [4.58257569, 4.69041576, 4.79583152],\n",
       "       [5.56776436, 5.65685425, 5.74456265]])"
      ]
     },
     "execution_count": 69,
     "metadata": {},
     "output_type": "execute_result"
    }
   ],
   "source": [
    "np.sqrt(A)"
   ]
  },
  {
   "cell_type": "code",
   "execution_count": 70,
   "id": "fea9e034-f261-4a05-8f48-e91745e871ff",
   "metadata": {},
   "outputs": [
    {
     "data": {
      "text/plain": [
       "array([[5.45981500e+01, 2.20264658e+04, 5.98741417e+04],\n",
       "       [1.31881573e+09, 3.58491285e+09, 9.74480345e+09],\n",
       "       [2.90488497e+13, 7.89629602e+13, 2.14643580e+14]])"
      ]
     },
     "execution_count": 70,
     "metadata": {},
     "output_type": "execute_result"
    }
   ],
   "source": [
    "np.exp(A)"
   ]
  },
  {
   "cell_type": "code",
   "execution_count": 71,
   "id": "3fcd33c7-dd77-4578-b4ae-f75090202867",
   "metadata": {},
   "outputs": [
    {
     "data": {
      "text/plain": [
       "array([[1.38629436, 2.30258509, 2.39789527],\n",
       "       [3.04452244, 3.09104245, 3.13549422],\n",
       "       [3.4339872 , 3.4657359 , 3.49650756]])"
      ]
     },
     "execution_count": 71,
     "metadata": {},
     "output_type": "execute_result"
    }
   ],
   "source": [
    "np.log(A)"
   ]
  },
  {
   "cell_type": "code",
   "execution_count": 72,
   "id": "5621a329-975a-48cd-a650-d30e8b157ad0",
   "metadata": {},
   "outputs": [
    {
     "name": "stdout",
     "output_type": "stream",
     "text": [
      "[[12. 24.]\n",
      " [33. 46.]]\n"
     ]
    }
   ],
   "source": [
    "a=np.array([[11.667,23.662],[33.21,45.887]])\n",
    "print (np.around(a)) "
   ]
  },
  {
   "cell_type": "code",
   "execution_count": 73,
   "id": "3ef94c2b-e88d-433e-9729-ef939f58efd8",
   "metadata": {},
   "outputs": [
    {
     "data": {
      "text/plain": [
       "array([[11.667, 23.662],\n",
       "       [33.21 , 45.887]])"
      ]
     },
     "execution_count": 73,
     "metadata": {},
     "output_type": "execute_result"
    }
   ],
   "source": [
    "a"
   ]
  },
  {
   "cell_type": "code",
   "execution_count": 76,
   "id": "6b048daa-076a-4756-ac20-70870294df1e",
   "metadata": {},
   "outputs": [
    {
     "name": "stdout",
     "output_type": "stream",
     "text": [
      "[[11.7 23.7]\n",
      " [33.2 45.9]]\n"
     ]
    }
   ],
   "source": [
    "print (np.around(a, decimals = 1))"
   ]
  },
  {
   "cell_type": "code",
   "execution_count": 77,
   "id": "61155704-ae77-4544-b3b9-3e0c5b182bab",
   "metadata": {},
   "outputs": [
    {
     "ename": "ValueError",
     "evalue": "all the input arrays must have same number of dimensions, but the array at index 0 has 2 dimension(s) and the array at index 1 has 1 dimension(s)",
     "output_type": "error",
     "traceback": [
      "\u001b[1;31m---------------------------------------------------------------------------\u001b[0m",
      "\u001b[1;31mValueError\u001b[0m                                Traceback (most recent call last)",
      "Cell \u001b[1;32mIn[77], line 1\u001b[0m\n\u001b[1;32m----> 1\u001b[0m np\u001b[38;5;241m.\u001b[39mconcatenate([a,b])\n",
      "\u001b[1;31mValueError\u001b[0m: all the input arrays must have same number of dimensions, but the array at index 0 has 2 dimension(s) and the array at index 1 has 1 dimension(s)"
     ]
    }
   ],
   "source": [
    "np.concatenate([a,b])"
   ]
  },
  {
   "cell_type": "code",
   "execution_count": 80,
   "id": "c25bbe47-7a67-4e94-ab7f-f30ea4353571",
   "metadata": {},
   "outputs": [
    {
     "data": {
      "text/plain": [
       "array([[ 4, 10, 11],\n",
       "       [21, 22, 23],\n",
       "       [31, 32, 33]])"
      ]
     },
     "execution_count": 80,
     "metadata": {},
     "output_type": "execute_result"
    }
   ],
   "source": [
    "A"
   ]
  },
  {
   "cell_type": "code",
   "execution_count": 81,
   "id": "40e8d0d5-8159-4b63-a1cf-cd8fb18773f7",
   "metadata": {},
   "outputs": [
    {
     "data": {
      "text/plain": [
       "array([[1., 1., 1.],\n",
       "       [1., 1., 1.],\n",
       "       [1., 1., 1.]])"
      ]
     },
     "execution_count": 81,
     "metadata": {},
     "output_type": "execute_result"
    }
   ],
   "source": [
    "B"
   ]
  },
  {
   "cell_type": "code",
   "execution_count": 82,
   "id": "742b7acb-8f6f-4ad6-900f-a97503e380e8",
   "metadata": {},
   "outputs": [
    {
     "data": {
      "text/plain": [
       "array([[ 4., 10., 11.],\n",
       "       [21., 22., 23.],\n",
       "       [31., 32., 33.],\n",
       "       [ 1.,  1.,  1.],\n",
       "       [ 1.,  1.,  1.],\n",
       "       [ 1.,  1.,  1.]])"
      ]
     },
     "execution_count": 82,
     "metadata": {},
     "output_type": "execute_result"
    }
   ],
   "source": [
    "np.concatenate([A,B])"
   ]
  },
  {
   "cell_type": "code",
   "execution_count": 83,
   "id": "84452a36-ba62-464b-a4e3-1f6f541e5202",
   "metadata": {},
   "outputs": [
    {
     "data": {
      "text/plain": [
       "array([[5, 4, 6, 5],\n",
       "       [9, 7, 7, 9],\n",
       "       [6, 5, 8, 8]])"
      ]
     },
     "execution_count": 83,
     "metadata": {},
     "output_type": "execute_result"
    }
   ],
   "source": [
    "np.random.randint(2,10,(3,4))"
   ]
  },
  {
   "cell_type": "code",
   "execution_count": 84,
   "id": "bc3e7db8-d929-47c3-8d95-88a24d36ba37",
   "metadata": {},
   "outputs": [
    {
     "data": {
      "text/plain": [
       "array([[0.13570036, 0.77982366, 0.50498644, 0.58579955],\n",
       "       [0.30615442, 0.60610801, 0.47135867, 0.24233084],\n",
       "       [0.80208181, 0.79226054, 0.2013439 , 0.23536308],\n",
       "       [0.18859573, 0.07798767, 0.98615704, 0.59729073],\n",
       "       [0.32853595, 0.39526437, 0.30531502, 0.90360743]])"
      ]
     },
     "execution_count": 84,
     "metadata": {},
     "output_type": "execute_result"
    }
   ],
   "source": [
    "np.random.rand(5,4)"
   ]
  },
  {
   "cell_type": "code",
   "execution_count": 85,
   "id": "3f220e50-78ea-4811-92fc-687b39396572",
   "metadata": {},
   "outputs": [],
   "source": [
    "a =np.random.randn(4,4)"
   ]
  },
  {
   "cell_type": "code",
   "execution_count": 86,
   "id": "18402a65-05ed-4c87-bb24-26826ed94284",
   "metadata": {},
   "outputs": [
    {
     "data": {
      "text/plain": [
       "array([[-0.50054726,  2.45151493, -1.16729509,  0.97330505],\n",
       "       [ 2.22710444, -0.56822962, -0.43171107,  0.38104154],\n",
       "       [ 1.31869907, -0.95187432, -0.4815931 , -0.46637538],\n",
       "       [ 1.08176724, -2.11342855, -0.65445274,  2.21620718]])"
      ]
     },
     "execution_count": 86,
     "metadata": {},
     "output_type": "execute_result"
    }
   ],
   "source": [
    "a"
   ]
  },
  {
   "cell_type": "code",
   "execution_count": 87,
   "id": "56881950-4215-49a3-8a05-ef480d93c6d7",
   "metadata": {},
   "outputs": [],
   "source": [
    "import pandas as pd"
   ]
  },
  {
   "cell_type": "code",
   "execution_count": 88,
   "id": "eb475852-31e2-47c0-b1b6-04695e3b8a14",
   "metadata": {},
   "outputs": [],
   "source": [
    "data = {\n",
    "    'Student': ['Alice', 'Bob', 'Charlie', 'David'],\n",
    "    'Math': [88, 92, 85, 78],\n",
    "    'Science': [90, 85, 88, 92],\n",
    "    'English': [85, 95, 80, 88]\n",
    "}"
   ]
  },
  {
   "cell_type": "code",
   "execution_count": 89,
   "id": "1ac081b9-5bea-42fc-8872-42e6c5d77d07",
   "metadata": {},
   "outputs": [
    {
     "data": {
      "text/plain": [
       "{'Student': ['Alice', 'Bob', 'Charlie', 'David'],\n",
       " 'Math': [88, 92, 85, 78],\n",
       " 'Science': [90, 85, 88, 92],\n",
       " 'English': [85, 95, 80, 88]}"
      ]
     },
     "execution_count": 89,
     "metadata": {},
     "output_type": "execute_result"
    }
   ],
   "source": [
    "data"
   ]
  },
  {
   "cell_type": "code",
   "execution_count": 90,
   "id": "c551dc23-27ae-457f-a53f-5207f2507045",
   "metadata": {},
   "outputs": [],
   "source": [
    "df = pd.DataFrame(data)"
   ]
  },
  {
   "cell_type": "code",
   "execution_count": 91,
   "id": "4f666639-042b-4f4a-9a25-63d512ea16ae",
   "metadata": {},
   "outputs": [
    {
     "data": {
      "text/html": [
       "<div>\n",
       "<style scoped>\n",
       "    .dataframe tbody tr th:only-of-type {\n",
       "        vertical-align: middle;\n",
       "    }\n",
       "\n",
       "    .dataframe tbody tr th {\n",
       "        vertical-align: top;\n",
       "    }\n",
       "\n",
       "    .dataframe thead th {\n",
       "        text-align: right;\n",
       "    }\n",
       "</style>\n",
       "<table border=\"1\" class=\"dataframe\">\n",
       "  <thead>\n",
       "    <tr style=\"text-align: right;\">\n",
       "      <th></th>\n",
       "      <th>Student</th>\n",
       "      <th>Math</th>\n",
       "      <th>Science</th>\n",
       "      <th>English</th>\n",
       "    </tr>\n",
       "  </thead>\n",
       "  <tbody>\n",
       "    <tr>\n",
       "      <th>0</th>\n",
       "      <td>Alice</td>\n",
       "      <td>88</td>\n",
       "      <td>90</td>\n",
       "      <td>85</td>\n",
       "    </tr>\n",
       "    <tr>\n",
       "      <th>1</th>\n",
       "      <td>Bob</td>\n",
       "      <td>92</td>\n",
       "      <td>85</td>\n",
       "      <td>95</td>\n",
       "    </tr>\n",
       "    <tr>\n",
       "      <th>2</th>\n",
       "      <td>Charlie</td>\n",
       "      <td>85</td>\n",
       "      <td>88</td>\n",
       "      <td>80</td>\n",
       "    </tr>\n",
       "    <tr>\n",
       "      <th>3</th>\n",
       "      <td>David</td>\n",
       "      <td>78</td>\n",
       "      <td>92</td>\n",
       "      <td>88</td>\n",
       "    </tr>\n",
       "  </tbody>\n",
       "</table>\n",
       "</div>"
      ],
      "text/plain": [
       "   Student  Math  Science  English\n",
       "0    Alice    88       90       85\n",
       "1      Bob    92       85       95\n",
       "2  Charlie    85       88       80\n",
       "3    David    78       92       88"
      ]
     },
     "execution_count": 91,
     "metadata": {},
     "output_type": "execute_result"
    }
   ],
   "source": [
    "df"
   ]
  },
  {
   "cell_type": "code",
   "execution_count": 92,
   "id": "4a08f35e-a914-4755-9b52-163048e65a25",
   "metadata": {},
   "outputs": [],
   "source": [
    "# Calculate the average score for each student using NumPy\n",
    "df['Average'] = np.mean(df[['Math', 'Science', 'English']], axis=1)"
   ]
  },
  {
   "cell_type": "code",
   "execution_count": 93,
   "id": "c34cdefa-126c-462f-9274-5aaba00aacc4",
   "metadata": {},
   "outputs": [
    {
     "data": {
      "text/html": [
       "<div>\n",
       "<style scoped>\n",
       "    .dataframe tbody tr th:only-of-type {\n",
       "        vertical-align: middle;\n",
       "    }\n",
       "\n",
       "    .dataframe tbody tr th {\n",
       "        vertical-align: top;\n",
       "    }\n",
       "\n",
       "    .dataframe thead th {\n",
       "        text-align: right;\n",
       "    }\n",
       "</style>\n",
       "<table border=\"1\" class=\"dataframe\">\n",
       "  <thead>\n",
       "    <tr style=\"text-align: right;\">\n",
       "      <th></th>\n",
       "      <th>Student</th>\n",
       "      <th>Math</th>\n",
       "      <th>Science</th>\n",
       "      <th>English</th>\n",
       "      <th>Average</th>\n",
       "    </tr>\n",
       "  </thead>\n",
       "  <tbody>\n",
       "    <tr>\n",
       "      <th>0</th>\n",
       "      <td>Alice</td>\n",
       "      <td>88</td>\n",
       "      <td>90</td>\n",
       "      <td>85</td>\n",
       "      <td>87.666667</td>\n",
       "    </tr>\n",
       "    <tr>\n",
       "      <th>1</th>\n",
       "      <td>Bob</td>\n",
       "      <td>92</td>\n",
       "      <td>85</td>\n",
       "      <td>95</td>\n",
       "      <td>90.666667</td>\n",
       "    </tr>\n",
       "    <tr>\n",
       "      <th>2</th>\n",
       "      <td>Charlie</td>\n",
       "      <td>85</td>\n",
       "      <td>88</td>\n",
       "      <td>80</td>\n",
       "      <td>84.333333</td>\n",
       "    </tr>\n",
       "    <tr>\n",
       "      <th>3</th>\n",
       "      <td>David</td>\n",
       "      <td>78</td>\n",
       "      <td>92</td>\n",
       "      <td>88</td>\n",
       "      <td>86.000000</td>\n",
       "    </tr>\n",
       "  </tbody>\n",
       "</table>\n",
       "</div>"
      ],
      "text/plain": [
       "   Student  Math  Science  English    Average\n",
       "0    Alice    88       90       85  87.666667\n",
       "1      Bob    92       85       95  90.666667\n",
       "2  Charlie    85       88       80  84.333333\n",
       "3    David    78       92       88  86.000000"
      ]
     },
     "execution_count": 93,
     "metadata": {},
     "output_type": "execute_result"
    }
   ],
   "source": [
    "df"
   ]
  },
  {
   "cell_type": "code",
   "execution_count": 94,
   "id": "02d1b593-7e6e-4832-859f-8e792bbb87fd",
   "metadata": {},
   "outputs": [],
   "source": [
    "# Find the highest average score using NumPy\n",
    "highest_average = np.max(df['Average'])"
   ]
  },
  {
   "cell_type": "code",
   "execution_count": 95,
   "id": "78d4a8bd-1e78-4367-9178-62b035409280",
   "metadata": {},
   "outputs": [
    {
     "data": {
      "text/plain": [
       "90.66666666666667"
      ]
     },
     "execution_count": 95,
     "metadata": {},
     "output_type": "execute_result"
    }
   ],
   "source": [
    "highest_average"
   ]
  },
  {
   "cell_type": "code",
   "execution_count": 96,
   "id": "b1d523df-451a-48e0-b047-db5947884fa5",
   "metadata": {},
   "outputs": [],
   "source": [
    "# Get the name of the student with the highest average\n",
    "top_student = df.loc[df['Average'] == highest_average, 'Student'].values[0]"
   ]
  },
  {
   "cell_type": "code",
   "execution_count": 97,
   "id": "c3d2c996-96a3-4f72-b5b6-a90dd2ed9338",
   "metadata": {},
   "outputs": [
    {
     "data": {
      "text/plain": [
       "'Bob'"
      ]
     },
     "execution_count": 97,
     "metadata": {},
     "output_type": "execute_result"
    }
   ],
   "source": [
    "top_student"
   ]
  },
  {
   "cell_type": "code",
   "execution_count": 99,
   "id": "0cac30ef-e35f-4cec-9823-ccdbdd0a17f5",
   "metadata": {},
   "outputs": [
    {
     "data": {
      "text/html": [
       "<div>\n",
       "<style scoped>\n",
       "    .dataframe tbody tr th:only-of-type {\n",
       "        vertical-align: middle;\n",
       "    }\n",
       "\n",
       "    .dataframe tbody tr th {\n",
       "        vertical-align: top;\n",
       "    }\n",
       "\n",
       "    .dataframe thead th {\n",
       "        text-align: right;\n",
       "    }\n",
       "</style>\n",
       "<table border=\"1\" class=\"dataframe\">\n",
       "  <thead>\n",
       "    <tr style=\"text-align: right;\">\n",
       "      <th></th>\n",
       "      <th>Student</th>\n",
       "      <th>Math</th>\n",
       "      <th>Science</th>\n",
       "      <th>English</th>\n",
       "      <th>Average</th>\n",
       "    </tr>\n",
       "  </thead>\n",
       "  <tbody>\n",
       "    <tr>\n",
       "      <th>1</th>\n",
       "      <td>Bob</td>\n",
       "      <td>92</td>\n",
       "      <td>85</td>\n",
       "      <td>95</td>\n",
       "      <td>90.666667</td>\n",
       "    </tr>\n",
       "    <tr>\n",
       "      <th>2</th>\n",
       "      <td>Charlie</td>\n",
       "      <td>85</td>\n",
       "      <td>88</td>\n",
       "      <td>80</td>\n",
       "      <td>84.333333</td>\n",
       "    </tr>\n",
       "  </tbody>\n",
       "</table>\n",
       "</div>"
      ],
      "text/plain": [
       "   Student  Math  Science  English    Average\n",
       "1      Bob    92       85       95  90.666667\n",
       "2  Charlie    85       88       80  84.333333"
      ]
     },
     "execution_count": 99,
     "metadata": {},
     "output_type": "execute_result"
    }
   ],
   "source": [
    "df.loc[1:2]"
   ]
  },
  {
   "cell_type": "code",
   "execution_count": 104,
   "id": "3685510f-3b75-4541-8dfb-0f971b065e63",
   "metadata": {},
   "outputs": [
    {
     "data": {
      "text/html": [
       "<div>\n",
       "<style scoped>\n",
       "    .dataframe tbody tr th:only-of-type {\n",
       "        vertical-align: middle;\n",
       "    }\n",
       "\n",
       "    .dataframe tbody tr th {\n",
       "        vertical-align: top;\n",
       "    }\n",
       "\n",
       "    .dataframe thead th {\n",
       "        text-align: right;\n",
       "    }\n",
       "</style>\n",
       "<table border=\"1\" class=\"dataframe\">\n",
       "  <thead>\n",
       "    <tr style=\"text-align: right;\">\n",
       "      <th></th>\n",
       "      <th>Math</th>\n",
       "      <th>English</th>\n",
       "    </tr>\n",
       "  </thead>\n",
       "  <tbody>\n",
       "    <tr>\n",
       "      <th>1</th>\n",
       "      <td>92</td>\n",
       "      <td>95</td>\n",
       "    </tr>\n",
       "    <tr>\n",
       "      <th>2</th>\n",
       "      <td>85</td>\n",
       "      <td>80</td>\n",
       "    </tr>\n",
       "  </tbody>\n",
       "</table>\n",
       "</div>"
      ],
      "text/plain": [
       "   Math  English\n",
       "1    92       95\n",
       "2    85       80"
      ]
     },
     "execution_count": 104,
     "metadata": {},
     "output_type": "execute_result"
    }
   ],
   "source": [
    "df.loc[1:2, [\"Math\", \"English\"]]"
   ]
  },
  {
   "cell_type": "code",
   "execution_count": 107,
   "id": "11badd83-1b50-402f-bc6c-dd4e1f8eebdf",
   "metadata": {},
   "outputs": [],
   "source": [
    "df1 =pd.read_csv(\"C:\\\\Users\\\\amitm\\\\Downloads\\\\sales_data_final.csv\")"
   ]
  },
  {
   "cell_type": "code",
   "execution_count": 108,
   "id": "1353775d-4298-42f3-ba5f-a947a47fb45d",
   "metadata": {},
   "outputs": [
    {
     "data": {
      "text/plain": [
       "(51290, 21)"
      ]
     },
     "execution_count": 108,
     "metadata": {},
     "output_type": "execute_result"
    }
   ],
   "source": [
    "df1.shape"
   ]
  },
  {
   "cell_type": "code",
   "execution_count": 110,
   "id": "cc3d1729-fd94-4c0e-8da1-6c55676b01e8",
   "metadata": {},
   "outputs": [
    {
     "data": {
      "text/html": [
       "<div>\n",
       "<style scoped>\n",
       "    .dataframe tbody tr th:only-of-type {\n",
       "        vertical-align: middle;\n",
       "    }\n",
       "\n",
       "    .dataframe tbody tr th {\n",
       "        vertical-align: top;\n",
       "    }\n",
       "\n",
       "    .dataframe thead th {\n",
       "        text-align: right;\n",
       "    }\n",
       "</style>\n",
       "<table border=\"1\" class=\"dataframe\">\n",
       "  <thead>\n",
       "    <tr style=\"text-align: right;\">\n",
       "      <th></th>\n",
       "      <th>order_id</th>\n",
       "      <th>order_date</th>\n",
       "      <th>ship_date</th>\n",
       "      <th>ship_mode</th>\n",
       "      <th>customer_name</th>\n",
       "      <th>segment</th>\n",
       "      <th>state</th>\n",
       "      <th>country</th>\n",
       "      <th>market</th>\n",
       "      <th>region</th>\n",
       "      <th>...</th>\n",
       "      <th>category</th>\n",
       "      <th>sub_category</th>\n",
       "      <th>product_name</th>\n",
       "      <th>sales</th>\n",
       "      <th>quantity</th>\n",
       "      <th>discount</th>\n",
       "      <th>profit</th>\n",
       "      <th>shipping_cost</th>\n",
       "      <th>order_priority</th>\n",
       "      <th>year</th>\n",
       "    </tr>\n",
       "  </thead>\n",
       "  <tbody>\n",
       "    <tr>\n",
       "      <th>10</th>\n",
       "      <td>IN-2011-65159</td>\n",
       "      <td>1/3/2011</td>\n",
       "      <td>1/7/2011</td>\n",
       "      <td>Second Class</td>\n",
       "      <td>Larry Blacks</td>\n",
       "      <td>Consumer</td>\n",
       "      <td>National Capital</td>\n",
       "      <td>Philippines</td>\n",
       "      <td>APAC</td>\n",
       "      <td>Southeast Asia</td>\n",
       "      <td>...</td>\n",
       "      <td>Office Supplies</td>\n",
       "      <td>Storage</td>\n",
       "      <td>Tenex Lockers, Industrial</td>\n",
       "      <td>338</td>\n",
       "      <td>3</td>\n",
       "      <td>0.45</td>\n",
       "      <td>-122.8005</td>\n",
       "      <td>33.75</td>\n",
       "      <td>High</td>\n",
       "      <td>2011</td>\n",
       "    </tr>\n",
       "    <tr>\n",
       "      <th>11</th>\n",
       "      <td>IN-2011-65159</td>\n",
       "      <td>1/3/2011</td>\n",
       "      <td>1/7/2011</td>\n",
       "      <td>Second Class</td>\n",
       "      <td>Larry Blacks</td>\n",
       "      <td>Consumer</td>\n",
       "      <td>National Capital</td>\n",
       "      <td>Philippines</td>\n",
       "      <td>APAC</td>\n",
       "      <td>Southeast Asia</td>\n",
       "      <td>...</td>\n",
       "      <td>Furniture</td>\n",
       "      <td>Tables</td>\n",
       "      <td>Chromcraft Round Table, Adjustable Height</td>\n",
       "      <td>211</td>\n",
       "      <td>1</td>\n",
       "      <td>0.55</td>\n",
       "      <td>-70.3995</td>\n",
       "      <td>21.32</td>\n",
       "      <td>High</td>\n",
       "      <td>2011</td>\n",
       "    </tr>\n",
       "    <tr>\n",
       "      <th>12</th>\n",
       "      <td>ES-2011-4869686</td>\n",
       "      <td>1/3/2011</td>\n",
       "      <td>1/7/2011</td>\n",
       "      <td>Standard Class</td>\n",
       "      <td>Dorothy Dickinson</td>\n",
       "      <td>Consumer</td>\n",
       "      <td>England</td>\n",
       "      <td>United Kingdom</td>\n",
       "      <td>EU</td>\n",
       "      <td>North</td>\n",
       "      <td>...</td>\n",
       "      <td>Furniture</td>\n",
       "      <td>Bookcases</td>\n",
       "      <td>Dania Corner Shelving, Traditional</td>\n",
       "      <td>854</td>\n",
       "      <td>7</td>\n",
       "      <td>0.00</td>\n",
       "      <td>290.4300</td>\n",
       "      <td>12.56</td>\n",
       "      <td>Medium</td>\n",
       "      <td>2011</td>\n",
       "    </tr>\n",
       "    <tr>\n",
       "      <th>13</th>\n",
       "      <td>IN-2011-33652</td>\n",
       "      <td>1/3/2011</td>\n",
       "      <td>1/9/2011</td>\n",
       "      <td>Standard Class</td>\n",
       "      <td>Dennis Pardue</td>\n",
       "      <td>Home Office</td>\n",
       "      <td>Sarawak</td>\n",
       "      <td>Malaysia</td>\n",
       "      <td>APAC</td>\n",
       "      <td>Southeast Asia</td>\n",
       "      <td>...</td>\n",
       "      <td>Technology</td>\n",
       "      <td>Copiers</td>\n",
       "      <td>Hewlett Fax and Copier, Laser</td>\n",
       "      <td>193</td>\n",
       "      <td>1</td>\n",
       "      <td>0.00</td>\n",
       "      <td>50.1300</td>\n",
       "      <td>10.40</td>\n",
       "      <td>Medium</td>\n",
       "      <td>2011</td>\n",
       "    </tr>\n",
       "    <tr>\n",
       "      <th>14</th>\n",
       "      <td>ID-2011-80230</td>\n",
       "      <td>1/3/2011</td>\n",
       "      <td>1/9/2011</td>\n",
       "      <td>Standard Class</td>\n",
       "      <td>Ken Lonsdale</td>\n",
       "      <td>Consumer</td>\n",
       "      <td>Auckland</td>\n",
       "      <td>New Zealand</td>\n",
       "      <td>APAC</td>\n",
       "      <td>Oceania</td>\n",
       "      <td>...</td>\n",
       "      <td>Furniture</td>\n",
       "      <td>Chairs</td>\n",
       "      <td>Hon Rocking Chair, Set of Two</td>\n",
       "      <td>159</td>\n",
       "      <td>2</td>\n",
       "      <td>0.40</td>\n",
       "      <td>-95.6760</td>\n",
       "      <td>10.07</td>\n",
       "      <td>Low</td>\n",
       "      <td>2011</td>\n",
       "    </tr>\n",
       "    <tr>\n",
       "      <th>15</th>\n",
       "      <td>MX-2011-160234</td>\n",
       "      <td>1/3/2011</td>\n",
       "      <td>1/7/2011</td>\n",
       "      <td>Standard Class</td>\n",
       "      <td>Stewart Visinsky</td>\n",
       "      <td>Consumer</td>\n",
       "      <td>Guatemala</td>\n",
       "      <td>Guatemala</td>\n",
       "      <td>LATAM</td>\n",
       "      <td>Central</td>\n",
       "      <td>...</td>\n",
       "      <td>Technology</td>\n",
       "      <td>Phones</td>\n",
       "      <td>Nokia Headset, VoIP</td>\n",
       "      <td>195</td>\n",
       "      <td>4</td>\n",
       "      <td>0.00</td>\n",
       "      <td>44.8800</td>\n",
       "      <td>8.43</td>\n",
       "      <td>Medium</td>\n",
       "      <td>2011</td>\n",
       "    </tr>\n",
       "    <tr>\n",
       "      <th>16</th>\n",
       "      <td>IR-2011-770</td>\n",
       "      <td>1/3/2011</td>\n",
       "      <td>1/7/2011</td>\n",
       "      <td>Standard Class</td>\n",
       "      <td>Jas O'Carroll</td>\n",
       "      <td>Consumer</td>\n",
       "      <td>Yazd</td>\n",
       "      <td>Iran</td>\n",
       "      <td>EMEA</td>\n",
       "      <td>EMEA</td>\n",
       "      <td>...</td>\n",
       "      <td>Office Supplies</td>\n",
       "      <td>Appliances</td>\n",
       "      <td>Breville Coffee Grinder, Black</td>\n",
       "      <td>123</td>\n",
       "      <td>2</td>\n",
       "      <td>0.00</td>\n",
       "      <td>42.9000</td>\n",
       "      <td>8.41</td>\n",
       "      <td>Medium</td>\n",
       "      <td>2011</td>\n",
       "    </tr>\n",
       "    <tr>\n",
       "      <th>17</th>\n",
       "      <td>ID-2011-80230</td>\n",
       "      <td>1/3/2011</td>\n",
       "      <td>1/9/2011</td>\n",
       "      <td>Standard Class</td>\n",
       "      <td>Ken Lonsdale</td>\n",
       "      <td>Consumer</td>\n",
       "      <td>Auckland</td>\n",
       "      <td>New Zealand</td>\n",
       "      <td>APAC</td>\n",
       "      <td>Oceania</td>\n",
       "      <td>...</td>\n",
       "      <td>Technology</td>\n",
       "      <td>Accessories</td>\n",
       "      <td>Belkin Numeric Keypad, Bluetooth</td>\n",
       "      <td>69</td>\n",
       "      <td>2</td>\n",
       "      <td>0.40</td>\n",
       "      <td>3.4200</td>\n",
       "      <td>8.34</td>\n",
       "      <td>Low</td>\n",
       "      <td>2011</td>\n",
       "    </tr>\n",
       "    <tr>\n",
       "      <th>18</th>\n",
       "      <td>ID-2011-80230</td>\n",
       "      <td>1/3/2011</td>\n",
       "      <td>1/9/2011</td>\n",
       "      <td>Standard Class</td>\n",
       "      <td>Ken Lonsdale</td>\n",
       "      <td>Consumer</td>\n",
       "      <td>Auckland</td>\n",
       "      <td>New Zealand</td>\n",
       "      <td>APAC</td>\n",
       "      <td>Oceania</td>\n",
       "      <td>...</td>\n",
       "      <td>Furniture</td>\n",
       "      <td>Chairs</td>\n",
       "      <td>SAFCO Chairmat, Black</td>\n",
       "      <td>69</td>\n",
       "      <td>2</td>\n",
       "      <td>0.40</td>\n",
       "      <td>-26.4120</td>\n",
       "      <td>8.17</td>\n",
       "      <td>Low</td>\n",
       "      <td>2011</td>\n",
       "    </tr>\n",
       "    <tr>\n",
       "      <th>19</th>\n",
       "      <td>ID-2011-12596</td>\n",
       "      <td>1/3/2011</td>\n",
       "      <td>1/8/2011</td>\n",
       "      <td>Standard Class</td>\n",
       "      <td>Chris McAfee</td>\n",
       "      <td>Consumer</td>\n",
       "      <td>Nakhon Ratchasima</td>\n",
       "      <td>Thailand</td>\n",
       "      <td>APAC</td>\n",
       "      <td>Southeast Asia</td>\n",
       "      <td>...</td>\n",
       "      <td>Office Supplies</td>\n",
       "      <td>Storage</td>\n",
       "      <td>Smead File Cart, Blue</td>\n",
       "      <td>135</td>\n",
       "      <td>2</td>\n",
       "      <td>0.47</td>\n",
       "      <td>-45.9018</td>\n",
       "      <td>7.74</td>\n",
       "      <td>Medium</td>\n",
       "      <td>2011</td>\n",
       "    </tr>\n",
       "    <tr>\n",
       "      <th>20</th>\n",
       "      <td>IN-2011-79397</td>\n",
       "      <td>1/3/2011</td>\n",
       "      <td>1/3/2011</td>\n",
       "      <td>Same Day</td>\n",
       "      <td>Kean Nguyen</td>\n",
       "      <td>Corporate</td>\n",
       "      <td>New South Wales</td>\n",
       "      <td>Australia</td>\n",
       "      <td>APAC</td>\n",
       "      <td>Oceania</td>\n",
       "      <td>...</td>\n",
       "      <td>Office Supplies</td>\n",
       "      <td>Labels</td>\n",
       "      <td>Avery Color Coded Labels, Laser Printer Compat...</td>\n",
       "      <td>36</td>\n",
       "      <td>3</td>\n",
       "      <td>0.10</td>\n",
       "      <td>4.7430</td>\n",
       "      <td>7.46</td>\n",
       "      <td>Critical</td>\n",
       "      <td>2011</td>\n",
       "    </tr>\n",
       "    <tr>\n",
       "      <th>21</th>\n",
       "      <td>IR-2011-7690</td>\n",
       "      <td>1/3/2011</td>\n",
       "      <td>1/8/2011</td>\n",
       "      <td>Second Class</td>\n",
       "      <td>Nat Gilpin</td>\n",
       "      <td>Corporate</td>\n",
       "      <td>Razavi Khorasan</td>\n",
       "      <td>Iran</td>\n",
       "      <td>EMEA</td>\n",
       "      <td>EMEA</td>\n",
       "      <td>...</td>\n",
       "      <td>Office Supplies</td>\n",
       "      <td>Art</td>\n",
       "      <td>BIC Sketch Pad, Water Color</td>\n",
       "      <td>52</td>\n",
       "      <td>1</td>\n",
       "      <td>0.00</td>\n",
       "      <td>7.7700</td>\n",
       "      <td>5.91</td>\n",
       "      <td>High</td>\n",
       "      <td>2011</td>\n",
       "    </tr>\n",
       "    <tr>\n",
       "      <th>22</th>\n",
       "      <td>IR-2011-770</td>\n",
       "      <td>1/3/2011</td>\n",
       "      <td>1/7/2011</td>\n",
       "      <td>Standard Class</td>\n",
       "      <td>Jas O'Carroll</td>\n",
       "      <td>Consumer</td>\n",
       "      <td>Yazd</td>\n",
       "      <td>Iran</td>\n",
       "      <td>EMEA</td>\n",
       "      <td>EMEA</td>\n",
       "      <td>...</td>\n",
       "      <td>Office Supplies</td>\n",
       "      <td>Storage</td>\n",
       "      <td>Rogers Folders, Industrial</td>\n",
       "      <td>62</td>\n",
       "      <td>2</td>\n",
       "      <td>0.00</td>\n",
       "      <td>8.7000</td>\n",
       "      <td>5.16</td>\n",
       "      <td>Medium</td>\n",
       "      <td>2011</td>\n",
       "    </tr>\n",
       "    <tr>\n",
       "      <th>23</th>\n",
       "      <td>TZ-2011-7370</td>\n",
       "      <td>1/3/2011</td>\n",
       "      <td>1/8/2011</td>\n",
       "      <td>Standard Class</td>\n",
       "      <td>Jack Garza</td>\n",
       "      <td>Consumer</td>\n",
       "      <td>Dar Es Salaam</td>\n",
       "      <td>Tanzania</td>\n",
       "      <td>Africa</td>\n",
       "      <td>Africa</td>\n",
       "      <td>...</td>\n",
       "      <td>Office Supplies</td>\n",
       "      <td>Supplies</td>\n",
       "      <td>Stiletto Scissors, Serrated</td>\n",
       "      <td>81</td>\n",
       "      <td>4</td>\n",
       "      <td>0.00</td>\n",
       "      <td>26.7600</td>\n",
       "      <td>5.11</td>\n",
       "      <td>Medium</td>\n",
       "      <td>2011</td>\n",
       "    </tr>\n",
       "    <tr>\n",
       "      <th>24</th>\n",
       "      <td>IZ-2011-4680</td>\n",
       "      <td>1/3/2011</td>\n",
       "      <td>1/7/2011</td>\n",
       "      <td>Standard Class</td>\n",
       "      <td>Lindsay Williams</td>\n",
       "      <td>Corporate</td>\n",
       "      <td>Ninawa</td>\n",
       "      <td>Iraq</td>\n",
       "      <td>EMEA</td>\n",
       "      <td>EMEA</td>\n",
       "      <td>...</td>\n",
       "      <td>Office Supplies</td>\n",
       "      <td>Envelopes</td>\n",
       "      <td>Cameo Interoffice Envelope, Set of 50</td>\n",
       "      <td>47</td>\n",
       "      <td>1</td>\n",
       "      <td>0.00</td>\n",
       "      <td>17.0700</td>\n",
       "      <td>3.57</td>\n",
       "      <td>High</td>\n",
       "      <td>2011</td>\n",
       "    </tr>\n",
       "    <tr>\n",
       "      <th>25</th>\n",
       "      <td>IN-2011-65159</td>\n",
       "      <td>1/3/2011</td>\n",
       "      <td>1/7/2011</td>\n",
       "      <td>Second Class</td>\n",
       "      <td>Larry Blacks</td>\n",
       "      <td>Consumer</td>\n",
       "      <td>National Capital</td>\n",
       "      <td>Philippines</td>\n",
       "      <td>APAC</td>\n",
       "      <td>Southeast Asia</td>\n",
       "      <td>...</td>\n",
       "      <td>Office Supplies</td>\n",
       "      <td>Fasteners</td>\n",
       "      <td>Stockwell Staples, Metal</td>\n",
       "      <td>6</td>\n",
       "      <td>1</td>\n",
       "      <td>0.45</td>\n",
       "      <td>0.5460</td>\n",
       "      <td>0.80</td>\n",
       "      <td>High</td>\n",
       "      <td>2011</td>\n",
       "    </tr>\n",
       "    <tr>\n",
       "      <th>26</th>\n",
       "      <td>IR-2011-770</td>\n",
       "      <td>1/3/2011</td>\n",
       "      <td>1/7/2011</td>\n",
       "      <td>Standard Class</td>\n",
       "      <td>Jas O'Carroll</td>\n",
       "      <td>Consumer</td>\n",
       "      <td>Yazd</td>\n",
       "      <td>Iran</td>\n",
       "      <td>EMEA</td>\n",
       "      <td>EMEA</td>\n",
       "      <td>...</td>\n",
       "      <td>Office Supplies</td>\n",
       "      <td>Fasteners</td>\n",
       "      <td>Advantus Rubber Bands, Metal</td>\n",
       "      <td>17</td>\n",
       "      <td>1</td>\n",
       "      <td>0.00</td>\n",
       "      <td>4.1700</td>\n",
       "      <td>0.54</td>\n",
       "      <td>Medium</td>\n",
       "      <td>2011</td>\n",
       "    </tr>\n",
       "    <tr>\n",
       "      <th>27</th>\n",
       "      <td>MX-2011-111255</td>\n",
       "      <td>1/4/2011</td>\n",
       "      <td>1/9/2011</td>\n",
       "      <td>Second Class</td>\n",
       "      <td>Russell Applegate</td>\n",
       "      <td>Consumer</td>\n",
       "      <td>Parana</td>\n",
       "      <td>Brazil</td>\n",
       "      <td>LATAM</td>\n",
       "      <td>South</td>\n",
       "      <td>...</td>\n",
       "      <td>Furniture</td>\n",
       "      <td>Bookcases</td>\n",
       "      <td>Dania Classic Bookcase, Pine</td>\n",
       "      <td>1,648</td>\n",
       "      <td>6</td>\n",
       "      <td>0.00</td>\n",
       "      <td>609.8400</td>\n",
       "      <td>109.13</td>\n",
       "      <td>Medium</td>\n",
       "      <td>2011</td>\n",
       "    </tr>\n",
       "    <tr>\n",
       "      <th>28</th>\n",
       "      <td>MX-2011-140641</td>\n",
       "      <td>1/4/2011</td>\n",
       "      <td>1/9/2011</td>\n",
       "      <td>Standard Class</td>\n",
       "      <td>Maya Herman</td>\n",
       "      <td>Corporate</td>\n",
       "      <td>Yucat n</td>\n",
       "      <td>Mexico</td>\n",
       "      <td>LATAM</td>\n",
       "      <td>North</td>\n",
       "      <td>...</td>\n",
       "      <td>Technology</td>\n",
       "      <td>Accessories</td>\n",
       "      <td>Enermax Keyboard, Bluetooth</td>\n",
       "      <td>223</td>\n",
       "      <td>4</td>\n",
       "      <td>0.00</td>\n",
       "      <td>13.2800</td>\n",
       "      <td>42.28</td>\n",
       "      <td>High</td>\n",
       "      <td>2011</td>\n",
       "    </tr>\n",
       "    <tr>\n",
       "      <th>29</th>\n",
       "      <td>MX-2011-158771</td>\n",
       "      <td>1/4/2011</td>\n",
       "      <td>1/11/2011</td>\n",
       "      <td>Standard Class</td>\n",
       "      <td>Beth Thompson</td>\n",
       "      <td>Home Office</td>\n",
       "      <td>Granma</td>\n",
       "      <td>Cuba</td>\n",
       "      <td>LATAM</td>\n",
       "      <td>Caribbean</td>\n",
       "      <td>...</td>\n",
       "      <td>Office Supplies</td>\n",
       "      <td>Envelopes</td>\n",
       "      <td>Jiffy Interoffice Envelope, Set of 50</td>\n",
       "      <td>186</td>\n",
       "      <td>6</td>\n",
       "      <td>0.00</td>\n",
       "      <td>3.6000</td>\n",
       "      <td>16.39</td>\n",
       "      <td>Medium</td>\n",
       "      <td>2011</td>\n",
       "    </tr>\n",
       "    <tr>\n",
       "      <th>30</th>\n",
       "      <td>ES-2011-4939443</td>\n",
       "      <td>1/4/2011</td>\n",
       "      <td>1/8/2011</td>\n",
       "      <td>Standard Class</td>\n",
       "      <td>Arthur Prichep</td>\n",
       "      <td>Consumer</td>\n",
       "      <td>Rhne-Alpes</td>\n",
       "      <td>France</td>\n",
       "      <td>EU</td>\n",
       "      <td>Central</td>\n",
       "      <td>...</td>\n",
       "      <td>Office Supplies</td>\n",
       "      <td>Art</td>\n",
       "      <td>Binney &amp; Smith Sketch Pad, Easy-Erase</td>\n",
       "      <td>140</td>\n",
       "      <td>3</td>\n",
       "      <td>0.00</td>\n",
       "      <td>20.8800</td>\n",
       "      <td>10.78</td>\n",
       "      <td>Medium</td>\n",
       "      <td>2011</td>\n",
       "    </tr>\n",
       "  </tbody>\n",
       "</table>\n",
       "<p>21 rows × 21 columns</p>\n",
       "</div>"
      ],
      "text/plain": [
       "           order_id order_date  ship_date       ship_mode      customer_name  \\\n",
       "10    IN-2011-65159   1/3/2011   1/7/2011    Second Class       Larry Blacks   \n",
       "11    IN-2011-65159   1/3/2011   1/7/2011    Second Class       Larry Blacks   \n",
       "12  ES-2011-4869686   1/3/2011   1/7/2011  Standard Class  Dorothy Dickinson   \n",
       "13    IN-2011-33652   1/3/2011   1/9/2011  Standard Class      Dennis Pardue   \n",
       "14    ID-2011-80230   1/3/2011   1/9/2011  Standard Class       Ken Lonsdale   \n",
       "15   MX-2011-160234   1/3/2011   1/7/2011  Standard Class   Stewart Visinsky   \n",
       "16      IR-2011-770   1/3/2011   1/7/2011  Standard Class      Jas O'Carroll   \n",
       "17    ID-2011-80230   1/3/2011   1/9/2011  Standard Class       Ken Lonsdale   \n",
       "18    ID-2011-80230   1/3/2011   1/9/2011  Standard Class       Ken Lonsdale   \n",
       "19    ID-2011-12596   1/3/2011   1/8/2011  Standard Class       Chris McAfee   \n",
       "20    IN-2011-79397   1/3/2011   1/3/2011        Same Day        Kean Nguyen   \n",
       "21     IR-2011-7690   1/3/2011   1/8/2011    Second Class         Nat Gilpin   \n",
       "22      IR-2011-770   1/3/2011   1/7/2011  Standard Class      Jas O'Carroll   \n",
       "23     TZ-2011-7370   1/3/2011   1/8/2011  Standard Class         Jack Garza   \n",
       "24     IZ-2011-4680   1/3/2011   1/7/2011  Standard Class   Lindsay Williams   \n",
       "25    IN-2011-65159   1/3/2011   1/7/2011    Second Class       Larry Blacks   \n",
       "26      IR-2011-770   1/3/2011   1/7/2011  Standard Class      Jas O'Carroll   \n",
       "27   MX-2011-111255   1/4/2011   1/9/2011    Second Class  Russell Applegate   \n",
       "28   MX-2011-140641   1/4/2011   1/9/2011  Standard Class        Maya Herman   \n",
       "29   MX-2011-158771   1/4/2011  1/11/2011  Standard Class      Beth Thompson   \n",
       "30  ES-2011-4939443   1/4/2011   1/8/2011  Standard Class     Arthur Prichep   \n",
       "\n",
       "        segment              state         country  market          region  \\\n",
       "10     Consumer   National Capital     Philippines    APAC  Southeast Asia   \n",
       "11     Consumer   National Capital     Philippines    APAC  Southeast Asia   \n",
       "12     Consumer            England  United Kingdom      EU           North   \n",
       "13  Home Office            Sarawak        Malaysia    APAC  Southeast Asia   \n",
       "14     Consumer           Auckland     New Zealand    APAC         Oceania   \n",
       "15     Consumer          Guatemala       Guatemala   LATAM         Central   \n",
       "16     Consumer               Yazd            Iran    EMEA            EMEA   \n",
       "17     Consumer           Auckland     New Zealand    APAC         Oceania   \n",
       "18     Consumer           Auckland     New Zealand    APAC         Oceania   \n",
       "19     Consumer  Nakhon Ratchasima        Thailand    APAC  Southeast Asia   \n",
       "20    Corporate    New South Wales       Australia    APAC         Oceania   \n",
       "21    Corporate    Razavi Khorasan            Iran    EMEA            EMEA   \n",
       "22     Consumer               Yazd            Iran    EMEA            EMEA   \n",
       "23     Consumer      Dar Es Salaam        Tanzania  Africa          Africa   \n",
       "24    Corporate             Ninawa            Iraq    EMEA            EMEA   \n",
       "25     Consumer   National Capital     Philippines    APAC  Southeast Asia   \n",
       "26     Consumer               Yazd            Iran    EMEA            EMEA   \n",
       "27     Consumer             Parana          Brazil   LATAM           South   \n",
       "28    Corporate            Yucat n          Mexico   LATAM           North   \n",
       "29  Home Office             Granma            Cuba   LATAM       Caribbean   \n",
       "30     Consumer        Rhne-Alpes          France      EU         Central   \n",
       "\n",
       "    ...         category sub_category  \\\n",
       "10  ...  Office Supplies      Storage   \n",
       "11  ...        Furniture       Tables   \n",
       "12  ...        Furniture    Bookcases   \n",
       "13  ...       Technology      Copiers   \n",
       "14  ...        Furniture       Chairs   \n",
       "15  ...       Technology       Phones   \n",
       "16  ...  Office Supplies   Appliances   \n",
       "17  ...       Technology  Accessories   \n",
       "18  ...        Furniture       Chairs   \n",
       "19  ...  Office Supplies      Storage   \n",
       "20  ...  Office Supplies       Labels   \n",
       "21  ...  Office Supplies          Art   \n",
       "22  ...  Office Supplies      Storage   \n",
       "23  ...  Office Supplies     Supplies   \n",
       "24  ...  Office Supplies    Envelopes   \n",
       "25  ...  Office Supplies    Fasteners   \n",
       "26  ...  Office Supplies    Fasteners   \n",
       "27  ...        Furniture    Bookcases   \n",
       "28  ...       Technology  Accessories   \n",
       "29  ...  Office Supplies    Envelopes   \n",
       "30  ...  Office Supplies          Art   \n",
       "\n",
       "                                         product_name  sales quantity  \\\n",
       "10                          Tenex Lockers, Industrial    338        3   \n",
       "11          Chromcraft Round Table, Adjustable Height    211        1   \n",
       "12                 Dania Corner Shelving, Traditional    854        7   \n",
       "13                      Hewlett Fax and Copier, Laser    193        1   \n",
       "14                      Hon Rocking Chair, Set of Two    159        2   \n",
       "15                                Nokia Headset, VoIP    195        4   \n",
       "16                     Breville Coffee Grinder, Black    123        2   \n",
       "17                   Belkin Numeric Keypad, Bluetooth     69        2   \n",
       "18                              SAFCO Chairmat, Black     69        2   \n",
       "19                              Smead File Cart, Blue    135        2   \n",
       "20  Avery Color Coded Labels, Laser Printer Compat...     36        3   \n",
       "21                        BIC Sketch Pad, Water Color     52        1   \n",
       "22                         Rogers Folders, Industrial     62        2   \n",
       "23                        Stiletto Scissors, Serrated     81        4   \n",
       "24              Cameo Interoffice Envelope, Set of 50     47        1   \n",
       "25                           Stockwell Staples, Metal      6        1   \n",
       "26                       Advantus Rubber Bands, Metal     17        1   \n",
       "27                       Dania Classic Bookcase, Pine  1,648        6   \n",
       "28                        Enermax Keyboard, Bluetooth    223        4   \n",
       "29              Jiffy Interoffice Envelope, Set of 50    186        6   \n",
       "30              Binney & Smith Sketch Pad, Easy-Erase    140        3   \n",
       "\n",
       "    discount    profit  shipping_cost  order_priority  year  \n",
       "10      0.45 -122.8005          33.75            High  2011  \n",
       "11      0.55  -70.3995          21.32            High  2011  \n",
       "12      0.00  290.4300          12.56          Medium  2011  \n",
       "13      0.00   50.1300          10.40          Medium  2011  \n",
       "14      0.40  -95.6760          10.07             Low  2011  \n",
       "15      0.00   44.8800           8.43          Medium  2011  \n",
       "16      0.00   42.9000           8.41          Medium  2011  \n",
       "17      0.40    3.4200           8.34             Low  2011  \n",
       "18      0.40  -26.4120           8.17             Low  2011  \n",
       "19      0.47  -45.9018           7.74          Medium  2011  \n",
       "20      0.10    4.7430           7.46        Critical  2011  \n",
       "21      0.00    7.7700           5.91            High  2011  \n",
       "22      0.00    8.7000           5.16          Medium  2011  \n",
       "23      0.00   26.7600           5.11          Medium  2011  \n",
       "24      0.00   17.0700           3.57            High  2011  \n",
       "25      0.45    0.5460           0.80            High  2011  \n",
       "26      0.00    4.1700           0.54          Medium  2011  \n",
       "27      0.00  609.8400         109.13          Medium  2011  \n",
       "28      0.00   13.2800          42.28            High  2011  \n",
       "29      0.00    3.6000          16.39          Medium  2011  \n",
       "30      0.00   20.8800          10.78          Medium  2011  \n",
       "\n",
       "[21 rows x 21 columns]"
      ]
     },
     "execution_count": 110,
     "metadata": {},
     "output_type": "execute_result"
    }
   ],
   "source": [
    "df1.loc[10:30]"
   ]
  },
  {
   "cell_type": "code",
   "execution_count": 111,
   "id": "fa5b3d32-6725-42e2-83df-20eb961c4f04",
   "metadata": {},
   "outputs": [
    {
     "data": {
      "text/html": [
       "<div>\n",
       "<style scoped>\n",
       "    .dataframe tbody tr th:only-of-type {\n",
       "        vertical-align: middle;\n",
       "    }\n",
       "\n",
       "    .dataframe tbody tr th {\n",
       "        vertical-align: top;\n",
       "    }\n",
       "\n",
       "    .dataframe thead th {\n",
       "        text-align: right;\n",
       "    }\n",
       "</style>\n",
       "<table border=\"1\" class=\"dataframe\">\n",
       "  <thead>\n",
       "    <tr style=\"text-align: right;\">\n",
       "      <th></th>\n",
       "      <th>order_id</th>\n",
       "      <th>order_date</th>\n",
       "      <th>ship_date</th>\n",
       "      <th>ship_mode</th>\n",
       "      <th>customer_name</th>\n",
       "      <th>segment</th>\n",
       "      <th>state</th>\n",
       "      <th>country</th>\n",
       "      <th>market</th>\n",
       "      <th>region</th>\n",
       "      <th>...</th>\n",
       "      <th>category</th>\n",
       "      <th>sub_category</th>\n",
       "      <th>product_name</th>\n",
       "      <th>sales</th>\n",
       "      <th>quantity</th>\n",
       "      <th>discount</th>\n",
       "      <th>profit</th>\n",
       "      <th>shipping_cost</th>\n",
       "      <th>order_priority</th>\n",
       "      <th>year</th>\n",
       "    </tr>\n",
       "  </thead>\n",
       "  <tbody>\n",
       "    <tr>\n",
       "      <th>10</th>\n",
       "      <td>IN-2011-65159</td>\n",
       "      <td>1/3/2011</td>\n",
       "      <td>1/7/2011</td>\n",
       "      <td>Second Class</td>\n",
       "      <td>Larry Blacks</td>\n",
       "      <td>Consumer</td>\n",
       "      <td>National Capital</td>\n",
       "      <td>Philippines</td>\n",
       "      <td>APAC</td>\n",
       "      <td>Southeast Asia</td>\n",
       "      <td>...</td>\n",
       "      <td>Office Supplies</td>\n",
       "      <td>Storage</td>\n",
       "      <td>Tenex Lockers, Industrial</td>\n",
       "      <td>338</td>\n",
       "      <td>3</td>\n",
       "      <td>0.45</td>\n",
       "      <td>-122.8005</td>\n",
       "      <td>33.75</td>\n",
       "      <td>High</td>\n",
       "      <td>2011</td>\n",
       "    </tr>\n",
       "    <tr>\n",
       "      <th>13</th>\n",
       "      <td>IN-2011-33652</td>\n",
       "      <td>1/3/2011</td>\n",
       "      <td>1/9/2011</td>\n",
       "      <td>Standard Class</td>\n",
       "      <td>Dennis Pardue</td>\n",
       "      <td>Home Office</td>\n",
       "      <td>Sarawak</td>\n",
       "      <td>Malaysia</td>\n",
       "      <td>APAC</td>\n",
       "      <td>Southeast Asia</td>\n",
       "      <td>...</td>\n",
       "      <td>Technology</td>\n",
       "      <td>Copiers</td>\n",
       "      <td>Hewlett Fax and Copier, Laser</td>\n",
       "      <td>193</td>\n",
       "      <td>1</td>\n",
       "      <td>0.00</td>\n",
       "      <td>50.1300</td>\n",
       "      <td>10.40</td>\n",
       "      <td>Medium</td>\n",
       "      <td>2011</td>\n",
       "    </tr>\n",
       "    <tr>\n",
       "      <th>16</th>\n",
       "      <td>IR-2011-770</td>\n",
       "      <td>1/3/2011</td>\n",
       "      <td>1/7/2011</td>\n",
       "      <td>Standard Class</td>\n",
       "      <td>Jas O'Carroll</td>\n",
       "      <td>Consumer</td>\n",
       "      <td>Yazd</td>\n",
       "      <td>Iran</td>\n",
       "      <td>EMEA</td>\n",
       "      <td>EMEA</td>\n",
       "      <td>...</td>\n",
       "      <td>Office Supplies</td>\n",
       "      <td>Appliances</td>\n",
       "      <td>Breville Coffee Grinder, Black</td>\n",
       "      <td>123</td>\n",
       "      <td>2</td>\n",
       "      <td>0.00</td>\n",
       "      <td>42.9000</td>\n",
       "      <td>8.41</td>\n",
       "      <td>Medium</td>\n",
       "      <td>2011</td>\n",
       "    </tr>\n",
       "    <tr>\n",
       "      <th>19</th>\n",
       "      <td>ID-2011-12596</td>\n",
       "      <td>1/3/2011</td>\n",
       "      <td>1/8/2011</td>\n",
       "      <td>Standard Class</td>\n",
       "      <td>Chris McAfee</td>\n",
       "      <td>Consumer</td>\n",
       "      <td>Nakhon Ratchasima</td>\n",
       "      <td>Thailand</td>\n",
       "      <td>APAC</td>\n",
       "      <td>Southeast Asia</td>\n",
       "      <td>...</td>\n",
       "      <td>Office Supplies</td>\n",
       "      <td>Storage</td>\n",
       "      <td>Smead File Cart, Blue</td>\n",
       "      <td>135</td>\n",
       "      <td>2</td>\n",
       "      <td>0.47</td>\n",
       "      <td>-45.9018</td>\n",
       "      <td>7.74</td>\n",
       "      <td>Medium</td>\n",
       "      <td>2011</td>\n",
       "    </tr>\n",
       "    <tr>\n",
       "      <th>22</th>\n",
       "      <td>IR-2011-770</td>\n",
       "      <td>1/3/2011</td>\n",
       "      <td>1/7/2011</td>\n",
       "      <td>Standard Class</td>\n",
       "      <td>Jas O'Carroll</td>\n",
       "      <td>Consumer</td>\n",
       "      <td>Yazd</td>\n",
       "      <td>Iran</td>\n",
       "      <td>EMEA</td>\n",
       "      <td>EMEA</td>\n",
       "      <td>...</td>\n",
       "      <td>Office Supplies</td>\n",
       "      <td>Storage</td>\n",
       "      <td>Rogers Folders, Industrial</td>\n",
       "      <td>62</td>\n",
       "      <td>2</td>\n",
       "      <td>0.00</td>\n",
       "      <td>8.7000</td>\n",
       "      <td>5.16</td>\n",
       "      <td>Medium</td>\n",
       "      <td>2011</td>\n",
       "    </tr>\n",
       "    <tr>\n",
       "      <th>25</th>\n",
       "      <td>IN-2011-65159</td>\n",
       "      <td>1/3/2011</td>\n",
       "      <td>1/7/2011</td>\n",
       "      <td>Second Class</td>\n",
       "      <td>Larry Blacks</td>\n",
       "      <td>Consumer</td>\n",
       "      <td>National Capital</td>\n",
       "      <td>Philippines</td>\n",
       "      <td>APAC</td>\n",
       "      <td>Southeast Asia</td>\n",
       "      <td>...</td>\n",
       "      <td>Office Supplies</td>\n",
       "      <td>Fasteners</td>\n",
       "      <td>Stockwell Staples, Metal</td>\n",
       "      <td>6</td>\n",
       "      <td>1</td>\n",
       "      <td>0.45</td>\n",
       "      <td>0.5460</td>\n",
       "      <td>0.80</td>\n",
       "      <td>High</td>\n",
       "      <td>2011</td>\n",
       "    </tr>\n",
       "    <tr>\n",
       "      <th>28</th>\n",
       "      <td>MX-2011-140641</td>\n",
       "      <td>1/4/2011</td>\n",
       "      <td>1/9/2011</td>\n",
       "      <td>Standard Class</td>\n",
       "      <td>Maya Herman</td>\n",
       "      <td>Corporate</td>\n",
       "      <td>Yucat n</td>\n",
       "      <td>Mexico</td>\n",
       "      <td>LATAM</td>\n",
       "      <td>North</td>\n",
       "      <td>...</td>\n",
       "      <td>Technology</td>\n",
       "      <td>Accessories</td>\n",
       "      <td>Enermax Keyboard, Bluetooth</td>\n",
       "      <td>223</td>\n",
       "      <td>4</td>\n",
       "      <td>0.00</td>\n",
       "      <td>13.2800</td>\n",
       "      <td>42.28</td>\n",
       "      <td>High</td>\n",
       "      <td>2011</td>\n",
       "    </tr>\n",
       "  </tbody>\n",
       "</table>\n",
       "<p>7 rows × 21 columns</p>\n",
       "</div>"
      ],
      "text/plain": [
       "          order_id order_date ship_date       ship_mode  customer_name  \\\n",
       "10   IN-2011-65159   1/3/2011  1/7/2011    Second Class   Larry Blacks   \n",
       "13   IN-2011-33652   1/3/2011  1/9/2011  Standard Class  Dennis Pardue   \n",
       "16     IR-2011-770   1/3/2011  1/7/2011  Standard Class  Jas O'Carroll   \n",
       "19   ID-2011-12596   1/3/2011  1/8/2011  Standard Class   Chris McAfee   \n",
       "22     IR-2011-770   1/3/2011  1/7/2011  Standard Class  Jas O'Carroll   \n",
       "25   IN-2011-65159   1/3/2011  1/7/2011    Second Class   Larry Blacks   \n",
       "28  MX-2011-140641   1/4/2011  1/9/2011  Standard Class    Maya Herman   \n",
       "\n",
       "        segment              state      country market          region  ...  \\\n",
       "10     Consumer   National Capital  Philippines   APAC  Southeast Asia  ...   \n",
       "13  Home Office            Sarawak     Malaysia   APAC  Southeast Asia  ...   \n",
       "16     Consumer               Yazd         Iran   EMEA            EMEA  ...   \n",
       "19     Consumer  Nakhon Ratchasima     Thailand   APAC  Southeast Asia  ...   \n",
       "22     Consumer               Yazd         Iran   EMEA            EMEA  ...   \n",
       "25     Consumer   National Capital  Philippines   APAC  Southeast Asia  ...   \n",
       "28    Corporate            Yucat n       Mexico  LATAM           North  ...   \n",
       "\n",
       "           category sub_category                    product_name sales  \\\n",
       "10  Office Supplies      Storage       Tenex Lockers, Industrial   338   \n",
       "13       Technology      Copiers   Hewlett Fax and Copier, Laser   193   \n",
       "16  Office Supplies   Appliances  Breville Coffee Grinder, Black   123   \n",
       "19  Office Supplies      Storage           Smead File Cart, Blue   135   \n",
       "22  Office Supplies      Storage      Rogers Folders, Industrial    62   \n",
       "25  Office Supplies    Fasteners        Stockwell Staples, Metal     6   \n",
       "28       Technology  Accessories     Enermax Keyboard, Bluetooth   223   \n",
       "\n",
       "   quantity  discount    profit  shipping_cost  order_priority  year  \n",
       "10        3      0.45 -122.8005          33.75            High  2011  \n",
       "13        1      0.00   50.1300          10.40          Medium  2011  \n",
       "16        2      0.00   42.9000           8.41          Medium  2011  \n",
       "19        2      0.47  -45.9018           7.74          Medium  2011  \n",
       "22        2      0.00    8.7000           5.16          Medium  2011  \n",
       "25        1      0.45    0.5460           0.80            High  2011  \n",
       "28        4      0.00   13.2800          42.28            High  2011  \n",
       "\n",
       "[7 rows x 21 columns]"
      ]
     },
     "execution_count": 111,
     "metadata": {},
     "output_type": "execute_result"
    }
   ],
   "source": [
    "df1.loc[10:30:3]"
   ]
  },
  {
   "cell_type": "code",
   "execution_count": 112,
   "id": "62b03c6d-1eae-4136-8eca-86cae5e26539",
   "metadata": {},
   "outputs": [
    {
     "data": {
      "text/html": [
       "<div>\n",
       "<style scoped>\n",
       "    .dataframe tbody tr th:only-of-type {\n",
       "        vertical-align: middle;\n",
       "    }\n",
       "\n",
       "    .dataframe tbody tr th {\n",
       "        vertical-align: top;\n",
       "    }\n",
       "\n",
       "    .dataframe thead th {\n",
       "        text-align: right;\n",
       "    }\n",
       "</style>\n",
       "<table border=\"1\" class=\"dataframe\">\n",
       "  <thead>\n",
       "    <tr style=\"text-align: right;\">\n",
       "      <th></th>\n",
       "      <th>segment</th>\n",
       "      <th>country</th>\n",
       "      <th>sub_category</th>\n",
       "    </tr>\n",
       "  </thead>\n",
       "  <tbody>\n",
       "    <tr>\n",
       "      <th>10</th>\n",
       "      <td>Consumer</td>\n",
       "      <td>Philippines</td>\n",
       "      <td>Storage</td>\n",
       "    </tr>\n",
       "    <tr>\n",
       "      <th>13</th>\n",
       "      <td>Home Office</td>\n",
       "      <td>Malaysia</td>\n",
       "      <td>Copiers</td>\n",
       "    </tr>\n",
       "    <tr>\n",
       "      <th>16</th>\n",
       "      <td>Consumer</td>\n",
       "      <td>Iran</td>\n",
       "      <td>Appliances</td>\n",
       "    </tr>\n",
       "    <tr>\n",
       "      <th>19</th>\n",
       "      <td>Consumer</td>\n",
       "      <td>Thailand</td>\n",
       "      <td>Storage</td>\n",
       "    </tr>\n",
       "    <tr>\n",
       "      <th>22</th>\n",
       "      <td>Consumer</td>\n",
       "      <td>Iran</td>\n",
       "      <td>Storage</td>\n",
       "    </tr>\n",
       "    <tr>\n",
       "      <th>25</th>\n",
       "      <td>Consumer</td>\n",
       "      <td>Philippines</td>\n",
       "      <td>Fasteners</td>\n",
       "    </tr>\n",
       "    <tr>\n",
       "      <th>28</th>\n",
       "      <td>Corporate</td>\n",
       "      <td>Mexico</td>\n",
       "      <td>Accessories</td>\n",
       "    </tr>\n",
       "  </tbody>\n",
       "</table>\n",
       "</div>"
      ],
      "text/plain": [
       "        segment      country sub_category\n",
       "10     Consumer  Philippines      Storage\n",
       "13  Home Office     Malaysia      Copiers\n",
       "16     Consumer         Iran   Appliances\n",
       "19     Consumer     Thailand      Storage\n",
       "22     Consumer         Iran      Storage\n",
       "25     Consumer  Philippines    Fasteners\n",
       "28    Corporate       Mexico  Accessories"
      ]
     },
     "execution_count": 112,
     "metadata": {},
     "output_type": "execute_result"
    }
   ],
   "source": [
    "df1.loc[10:30:3, [\"segment\", \"country\", \"sub_category\"]]"
   ]
  },
  {
   "cell_type": "code",
   "execution_count": 113,
   "id": "40603c51-fc71-48cd-9b4e-23c1c0720211",
   "metadata": {},
   "outputs": [
    {
     "data": {
      "text/html": [
       "<div>\n",
       "<style scoped>\n",
       "    .dataframe tbody tr th:only-of-type {\n",
       "        vertical-align: middle;\n",
       "    }\n",
       "\n",
       "    .dataframe tbody tr th {\n",
       "        vertical-align: top;\n",
       "    }\n",
       "\n",
       "    .dataframe thead th {\n",
       "        text-align: right;\n",
       "    }\n",
       "</style>\n",
       "<table border=\"1\" class=\"dataframe\">\n",
       "  <thead>\n",
       "    <tr style=\"text-align: right;\">\n",
       "      <th></th>\n",
       "      <th>order_id</th>\n",
       "      <th>order_date</th>\n",
       "      <th>ship_date</th>\n",
       "      <th>ship_mode</th>\n",
       "      <th>customer_name</th>\n",
       "      <th>segment</th>\n",
       "      <th>state</th>\n",
       "      <th>country</th>\n",
       "      <th>market</th>\n",
       "      <th>region</th>\n",
       "      <th>...</th>\n",
       "      <th>category</th>\n",
       "      <th>sub_category</th>\n",
       "      <th>product_name</th>\n",
       "      <th>sales</th>\n",
       "      <th>quantity</th>\n",
       "      <th>discount</th>\n",
       "      <th>profit</th>\n",
       "      <th>shipping_cost</th>\n",
       "      <th>order_priority</th>\n",
       "      <th>year</th>\n",
       "    </tr>\n",
       "  </thead>\n",
       "  <tbody>\n",
       "    <tr>\n",
       "      <th>10</th>\n",
       "      <td>IN-2011-65159</td>\n",
       "      <td>1/3/2011</td>\n",
       "      <td>1/7/2011</td>\n",
       "      <td>Second Class</td>\n",
       "      <td>Larry Blacks</td>\n",
       "      <td>Consumer</td>\n",
       "      <td>National Capital</td>\n",
       "      <td>Philippines</td>\n",
       "      <td>APAC</td>\n",
       "      <td>Southeast Asia</td>\n",
       "      <td>...</td>\n",
       "      <td>Office Supplies</td>\n",
       "      <td>Storage</td>\n",
       "      <td>Tenex Lockers, Industrial</td>\n",
       "      <td>338</td>\n",
       "      <td>3</td>\n",
       "      <td>0.45</td>\n",
       "      <td>-122.8005</td>\n",
       "      <td>33.75</td>\n",
       "      <td>High</td>\n",
       "      <td>2011</td>\n",
       "    </tr>\n",
       "    <tr>\n",
       "      <th>13</th>\n",
       "      <td>IN-2011-33652</td>\n",
       "      <td>1/3/2011</td>\n",
       "      <td>1/9/2011</td>\n",
       "      <td>Standard Class</td>\n",
       "      <td>Dennis Pardue</td>\n",
       "      <td>Home Office</td>\n",
       "      <td>Sarawak</td>\n",
       "      <td>Malaysia</td>\n",
       "      <td>APAC</td>\n",
       "      <td>Southeast Asia</td>\n",
       "      <td>...</td>\n",
       "      <td>Technology</td>\n",
       "      <td>Copiers</td>\n",
       "      <td>Hewlett Fax and Copier, Laser</td>\n",
       "      <td>193</td>\n",
       "      <td>1</td>\n",
       "      <td>0.00</td>\n",
       "      <td>50.1300</td>\n",
       "      <td>10.40</td>\n",
       "      <td>Medium</td>\n",
       "      <td>2011</td>\n",
       "    </tr>\n",
       "    <tr>\n",
       "      <th>16</th>\n",
       "      <td>IR-2011-770</td>\n",
       "      <td>1/3/2011</td>\n",
       "      <td>1/7/2011</td>\n",
       "      <td>Standard Class</td>\n",
       "      <td>Jas O'Carroll</td>\n",
       "      <td>Consumer</td>\n",
       "      <td>Yazd</td>\n",
       "      <td>Iran</td>\n",
       "      <td>EMEA</td>\n",
       "      <td>EMEA</td>\n",
       "      <td>...</td>\n",
       "      <td>Office Supplies</td>\n",
       "      <td>Appliances</td>\n",
       "      <td>Breville Coffee Grinder, Black</td>\n",
       "      <td>123</td>\n",
       "      <td>2</td>\n",
       "      <td>0.00</td>\n",
       "      <td>42.9000</td>\n",
       "      <td>8.41</td>\n",
       "      <td>Medium</td>\n",
       "      <td>2011</td>\n",
       "    </tr>\n",
       "    <tr>\n",
       "      <th>19</th>\n",
       "      <td>ID-2011-12596</td>\n",
       "      <td>1/3/2011</td>\n",
       "      <td>1/8/2011</td>\n",
       "      <td>Standard Class</td>\n",
       "      <td>Chris McAfee</td>\n",
       "      <td>Consumer</td>\n",
       "      <td>Nakhon Ratchasima</td>\n",
       "      <td>Thailand</td>\n",
       "      <td>APAC</td>\n",
       "      <td>Southeast Asia</td>\n",
       "      <td>...</td>\n",
       "      <td>Office Supplies</td>\n",
       "      <td>Storage</td>\n",
       "      <td>Smead File Cart, Blue</td>\n",
       "      <td>135</td>\n",
       "      <td>2</td>\n",
       "      <td>0.47</td>\n",
       "      <td>-45.9018</td>\n",
       "      <td>7.74</td>\n",
       "      <td>Medium</td>\n",
       "      <td>2011</td>\n",
       "    </tr>\n",
       "    <tr>\n",
       "      <th>22</th>\n",
       "      <td>IR-2011-770</td>\n",
       "      <td>1/3/2011</td>\n",
       "      <td>1/7/2011</td>\n",
       "      <td>Standard Class</td>\n",
       "      <td>Jas O'Carroll</td>\n",
       "      <td>Consumer</td>\n",
       "      <td>Yazd</td>\n",
       "      <td>Iran</td>\n",
       "      <td>EMEA</td>\n",
       "      <td>EMEA</td>\n",
       "      <td>...</td>\n",
       "      <td>Office Supplies</td>\n",
       "      <td>Storage</td>\n",
       "      <td>Rogers Folders, Industrial</td>\n",
       "      <td>62</td>\n",
       "      <td>2</td>\n",
       "      <td>0.00</td>\n",
       "      <td>8.7000</td>\n",
       "      <td>5.16</td>\n",
       "      <td>Medium</td>\n",
       "      <td>2011</td>\n",
       "    </tr>\n",
       "    <tr>\n",
       "      <th>25</th>\n",
       "      <td>IN-2011-65159</td>\n",
       "      <td>1/3/2011</td>\n",
       "      <td>1/7/2011</td>\n",
       "      <td>Second Class</td>\n",
       "      <td>Larry Blacks</td>\n",
       "      <td>Consumer</td>\n",
       "      <td>National Capital</td>\n",
       "      <td>Philippines</td>\n",
       "      <td>APAC</td>\n",
       "      <td>Southeast Asia</td>\n",
       "      <td>...</td>\n",
       "      <td>Office Supplies</td>\n",
       "      <td>Fasteners</td>\n",
       "      <td>Stockwell Staples, Metal</td>\n",
       "      <td>6</td>\n",
       "      <td>1</td>\n",
       "      <td>0.45</td>\n",
       "      <td>0.5460</td>\n",
       "      <td>0.80</td>\n",
       "      <td>High</td>\n",
       "      <td>2011</td>\n",
       "    </tr>\n",
       "    <tr>\n",
       "      <th>28</th>\n",
       "      <td>MX-2011-140641</td>\n",
       "      <td>1/4/2011</td>\n",
       "      <td>1/9/2011</td>\n",
       "      <td>Standard Class</td>\n",
       "      <td>Maya Herman</td>\n",
       "      <td>Corporate</td>\n",
       "      <td>Yucat n</td>\n",
       "      <td>Mexico</td>\n",
       "      <td>LATAM</td>\n",
       "      <td>North</td>\n",
       "      <td>...</td>\n",
       "      <td>Technology</td>\n",
       "      <td>Accessories</td>\n",
       "      <td>Enermax Keyboard, Bluetooth</td>\n",
       "      <td>223</td>\n",
       "      <td>4</td>\n",
       "      <td>0.00</td>\n",
       "      <td>13.2800</td>\n",
       "      <td>42.28</td>\n",
       "      <td>High</td>\n",
       "      <td>2011</td>\n",
       "    </tr>\n",
       "  </tbody>\n",
       "</table>\n",
       "<p>7 rows × 21 columns</p>\n",
       "</div>"
      ],
      "text/plain": [
       "          order_id order_date ship_date       ship_mode  customer_name  \\\n",
       "10   IN-2011-65159   1/3/2011  1/7/2011    Second Class   Larry Blacks   \n",
       "13   IN-2011-33652   1/3/2011  1/9/2011  Standard Class  Dennis Pardue   \n",
       "16     IR-2011-770   1/3/2011  1/7/2011  Standard Class  Jas O'Carroll   \n",
       "19   ID-2011-12596   1/3/2011  1/8/2011  Standard Class   Chris McAfee   \n",
       "22     IR-2011-770   1/3/2011  1/7/2011  Standard Class  Jas O'Carroll   \n",
       "25   IN-2011-65159   1/3/2011  1/7/2011    Second Class   Larry Blacks   \n",
       "28  MX-2011-140641   1/4/2011  1/9/2011  Standard Class    Maya Herman   \n",
       "\n",
       "        segment              state      country market          region  ...  \\\n",
       "10     Consumer   National Capital  Philippines   APAC  Southeast Asia  ...   \n",
       "13  Home Office            Sarawak     Malaysia   APAC  Southeast Asia  ...   \n",
       "16     Consumer               Yazd         Iran   EMEA            EMEA  ...   \n",
       "19     Consumer  Nakhon Ratchasima     Thailand   APAC  Southeast Asia  ...   \n",
       "22     Consumer               Yazd         Iran   EMEA            EMEA  ...   \n",
       "25     Consumer   National Capital  Philippines   APAC  Southeast Asia  ...   \n",
       "28    Corporate            Yucat n       Mexico  LATAM           North  ...   \n",
       "\n",
       "           category sub_category                    product_name sales  \\\n",
       "10  Office Supplies      Storage       Tenex Lockers, Industrial   338   \n",
       "13       Technology      Copiers   Hewlett Fax and Copier, Laser   193   \n",
       "16  Office Supplies   Appliances  Breville Coffee Grinder, Black   123   \n",
       "19  Office Supplies      Storage           Smead File Cart, Blue   135   \n",
       "22  Office Supplies      Storage      Rogers Folders, Industrial    62   \n",
       "25  Office Supplies    Fasteners        Stockwell Staples, Metal     6   \n",
       "28       Technology  Accessories     Enermax Keyboard, Bluetooth   223   \n",
       "\n",
       "   quantity  discount    profit  shipping_cost  order_priority  year  \n",
       "10        3      0.45 -122.8005          33.75            High  2011  \n",
       "13        1      0.00   50.1300          10.40          Medium  2011  \n",
       "16        2      0.00   42.9000           8.41          Medium  2011  \n",
       "19        2      0.47  -45.9018           7.74          Medium  2011  \n",
       "22        2      0.00    8.7000           5.16          Medium  2011  \n",
       "25        1      0.45    0.5460           0.80            High  2011  \n",
       "28        4      0.00   13.2800          42.28            High  2011  \n",
       "\n",
       "[7 rows x 21 columns]"
      ]
     },
     "execution_count": 113,
     "metadata": {},
     "output_type": "execute_result"
    }
   ],
   "source": [
    "df1.iloc[10:30:3]"
   ]
  },
  {
   "cell_type": "code",
   "execution_count": 114,
   "id": "fa9d2050-605d-4d61-b9c3-dba45dd0a3bf",
   "metadata": {},
   "outputs": [
    {
     "data": {
      "text/html": [
       "<div>\n",
       "<style scoped>\n",
       "    .dataframe tbody tr th:only-of-type {\n",
       "        vertical-align: middle;\n",
       "    }\n",
       "\n",
       "    .dataframe tbody tr th {\n",
       "        vertical-align: top;\n",
       "    }\n",
       "\n",
       "    .dataframe thead th {\n",
       "        text-align: right;\n",
       "    }\n",
       "</style>\n",
       "<table border=\"1\" class=\"dataframe\">\n",
       "  <thead>\n",
       "    <tr style=\"text-align: right;\">\n",
       "      <th></th>\n",
       "      <th>order_date</th>\n",
       "      <th>customer_name</th>\n",
       "      <th>country</th>\n",
       "      <th>product_id</th>\n",
       "      <th>product_name</th>\n",
       "      <th>discount</th>\n",
       "      <th>order_priority</th>\n",
       "    </tr>\n",
       "  </thead>\n",
       "  <tbody>\n",
       "    <tr>\n",
       "      <th>10</th>\n",
       "      <td>1/3/2011</td>\n",
       "      <td>Larry Blacks</td>\n",
       "      <td>Philippines</td>\n",
       "      <td>OFF-ST-10003020</td>\n",
       "      <td>Tenex Lockers, Industrial</td>\n",
       "      <td>0.45</td>\n",
       "      <td>High</td>\n",
       "    </tr>\n",
       "    <tr>\n",
       "      <th>13</th>\n",
       "      <td>1/3/2011</td>\n",
       "      <td>Dennis Pardue</td>\n",
       "      <td>Malaysia</td>\n",
       "      <td>TEC-CO-10000594</td>\n",
       "      <td>Hewlett Fax and Copier, Laser</td>\n",
       "      <td>0.00</td>\n",
       "      <td>Medium</td>\n",
       "    </tr>\n",
       "    <tr>\n",
       "      <th>16</th>\n",
       "      <td>1/3/2011</td>\n",
       "      <td>Jas O'Carroll</td>\n",
       "      <td>Iran</td>\n",
       "      <td>OFF-BRE-10003081</td>\n",
       "      <td>Breville Coffee Grinder, Black</td>\n",
       "      <td>0.00</td>\n",
       "      <td>Medium</td>\n",
       "    </tr>\n",
       "    <tr>\n",
       "      <th>19</th>\n",
       "      <td>1/3/2011</td>\n",
       "      <td>Chris McAfee</td>\n",
       "      <td>Thailand</td>\n",
       "      <td>OFF-ST-10002066</td>\n",
       "      <td>Smead File Cart, Blue</td>\n",
       "      <td>0.47</td>\n",
       "      <td>Medium</td>\n",
       "    </tr>\n",
       "    <tr>\n",
       "      <th>22</th>\n",
       "      <td>1/3/2011</td>\n",
       "      <td>Jas O'Carroll</td>\n",
       "      <td>Iran</td>\n",
       "      <td>OFF-ROG-10004393</td>\n",
       "      <td>Rogers Folders, Industrial</td>\n",
       "      <td>0.00</td>\n",
       "      <td>Medium</td>\n",
       "    </tr>\n",
       "    <tr>\n",
       "      <th>25</th>\n",
       "      <td>1/3/2011</td>\n",
       "      <td>Larry Blacks</td>\n",
       "      <td>Philippines</td>\n",
       "      <td>OFF-FA-10002569</td>\n",
       "      <td>Stockwell Staples, Metal</td>\n",
       "      <td>0.45</td>\n",
       "      <td>High</td>\n",
       "    </tr>\n",
       "    <tr>\n",
       "      <th>28</th>\n",
       "      <td>1/4/2011</td>\n",
       "      <td>Maya Herman</td>\n",
       "      <td>Mexico</td>\n",
       "      <td>TEC-AC-10001082</td>\n",
       "      <td>Enermax Keyboard, Bluetooth</td>\n",
       "      <td>0.00</td>\n",
       "      <td>High</td>\n",
       "    </tr>\n",
       "  </tbody>\n",
       "</table>\n",
       "</div>"
      ],
      "text/plain": [
       "   order_date  customer_name      country        product_id  \\\n",
       "10   1/3/2011   Larry Blacks  Philippines   OFF-ST-10003020   \n",
       "13   1/3/2011  Dennis Pardue     Malaysia   TEC-CO-10000594   \n",
       "16   1/3/2011  Jas O'Carroll         Iran  OFF-BRE-10003081   \n",
       "19   1/3/2011   Chris McAfee     Thailand   OFF-ST-10002066   \n",
       "22   1/3/2011  Jas O'Carroll         Iran  OFF-ROG-10004393   \n",
       "25   1/3/2011   Larry Blacks  Philippines   OFF-FA-10002569   \n",
       "28   1/4/2011    Maya Herman       Mexico   TEC-AC-10001082   \n",
       "\n",
       "                      product_name  discount order_priority  \n",
       "10       Tenex Lockers, Industrial      0.45           High  \n",
       "13   Hewlett Fax and Copier, Laser      0.00         Medium  \n",
       "16  Breville Coffee Grinder, Black      0.00         Medium  \n",
       "19           Smead File Cart, Blue      0.47         Medium  \n",
       "22      Rogers Folders, Industrial      0.00         Medium  \n",
       "25        Stockwell Staples, Metal      0.45           High  \n",
       "28     Enermax Keyboard, Bluetooth      0.00           High  "
      ]
     },
     "execution_count": 114,
     "metadata": {},
     "output_type": "execute_result"
    }
   ],
   "source": [
    "df1.iloc[10:30:3, 1:20:3]"
   ]
  },
  {
   "cell_type": "code",
   "execution_count": 121,
   "id": "5f1febe4-e5ec-480e-9901-0eeebe2f7ccb",
   "metadata": {},
   "outputs": [
    {
     "data": {
      "text/plain": [
       "'1/8/2011'"
      ]
     },
     "execution_count": 121,
     "metadata": {},
     "output_type": "execute_result"
    }
   ],
   "source": [
    "df1.iloc[1,2]"
   ]
  },
  {
   "cell_type": "code",
   "execution_count": 122,
   "id": "7ba6073e-d41f-47c5-b83f-a2c118212ea0",
   "metadata": {},
   "outputs": [
    {
     "data": {
      "text/html": [
       "<div>\n",
       "<style scoped>\n",
       "    .dataframe tbody tr th:only-of-type {\n",
       "        vertical-align: middle;\n",
       "    }\n",
       "\n",
       "    .dataframe tbody tr th {\n",
       "        vertical-align: top;\n",
       "    }\n",
       "\n",
       "    .dataframe thead th {\n",
       "        text-align: right;\n",
       "    }\n",
       "</style>\n",
       "<table border=\"1\" class=\"dataframe\">\n",
       "  <thead>\n",
       "    <tr style=\"text-align: right;\">\n",
       "      <th></th>\n",
       "      <th>order_id</th>\n",
       "      <th>order_date</th>\n",
       "      <th>ship_date</th>\n",
       "      <th>ship_mode</th>\n",
       "      <th>customer_name</th>\n",
       "      <th>segment</th>\n",
       "      <th>state</th>\n",
       "      <th>country</th>\n",
       "      <th>market</th>\n",
       "      <th>region</th>\n",
       "      <th>...</th>\n",
       "      <th>category</th>\n",
       "      <th>sub_category</th>\n",
       "      <th>product_name</th>\n",
       "      <th>sales</th>\n",
       "      <th>quantity</th>\n",
       "      <th>discount</th>\n",
       "      <th>profit</th>\n",
       "      <th>shipping_cost</th>\n",
       "      <th>order_priority</th>\n",
       "      <th>year</th>\n",
       "    </tr>\n",
       "  </thead>\n",
       "  <tbody>\n",
       "    <tr>\n",
       "      <th>0</th>\n",
       "      <td>AG-2011-2040</td>\n",
       "      <td>1/1/2011</td>\n",
       "      <td>1/6/2011</td>\n",
       "      <td>Standard Class</td>\n",
       "      <td>Toby Braunhardt</td>\n",
       "      <td>Consumer</td>\n",
       "      <td>Constantine</td>\n",
       "      <td>Algeria</td>\n",
       "      <td>Africa</td>\n",
       "      <td>Africa</td>\n",
       "      <td>...</td>\n",
       "      <td>Office Supplies</td>\n",
       "      <td>Storage</td>\n",
       "      <td>Tenex Lockers, Blue</td>\n",
       "      <td>408</td>\n",
       "      <td>2</td>\n",
       "      <td>0.0</td>\n",
       "      <td>106.1400</td>\n",
       "      <td>35.46</td>\n",
       "      <td>Medium</td>\n",
       "      <td>2011</td>\n",
       "    </tr>\n",
       "    <tr>\n",
       "      <th>1</th>\n",
       "      <td>IN-2011-47883</td>\n",
       "      <td>1/1/2011</td>\n",
       "      <td>1/8/2011</td>\n",
       "      <td>Standard Class</td>\n",
       "      <td>Joseph Holt</td>\n",
       "      <td>Consumer</td>\n",
       "      <td>New South Wales</td>\n",
       "      <td>Australia</td>\n",
       "      <td>APAC</td>\n",
       "      <td>Oceania</td>\n",
       "      <td>...</td>\n",
       "      <td>Office Supplies</td>\n",
       "      <td>Supplies</td>\n",
       "      <td>Acme Trimmer, High Speed</td>\n",
       "      <td>120</td>\n",
       "      <td>3</td>\n",
       "      <td>0.1</td>\n",
       "      <td>36.0360</td>\n",
       "      <td>9.72</td>\n",
       "      <td>Medium</td>\n",
       "      <td>2011</td>\n",
       "    </tr>\n",
       "    <tr>\n",
       "      <th>2</th>\n",
       "      <td>HU-2011-1220</td>\n",
       "      <td>1/1/2011</td>\n",
       "      <td>1/5/2011</td>\n",
       "      <td>Second Class</td>\n",
       "      <td>Annie Thurman</td>\n",
       "      <td>Consumer</td>\n",
       "      <td>Budapest</td>\n",
       "      <td>Hungary</td>\n",
       "      <td>EMEA</td>\n",
       "      <td>EMEA</td>\n",
       "      <td>...</td>\n",
       "      <td>Office Supplies</td>\n",
       "      <td>Storage</td>\n",
       "      <td>Tenex Box, Single Width</td>\n",
       "      <td>66</td>\n",
       "      <td>4</td>\n",
       "      <td>0.0</td>\n",
       "      <td>29.6400</td>\n",
       "      <td>8.17</td>\n",
       "      <td>High</td>\n",
       "      <td>2011</td>\n",
       "    </tr>\n",
       "    <tr>\n",
       "      <th>3</th>\n",
       "      <td>IT-2011-3647632</td>\n",
       "      <td>1/1/2011</td>\n",
       "      <td>1/5/2011</td>\n",
       "      <td>Second Class</td>\n",
       "      <td>Eugene Moren</td>\n",
       "      <td>Home Office</td>\n",
       "      <td>Stockholm</td>\n",
       "      <td>Sweden</td>\n",
       "      <td>EU</td>\n",
       "      <td>North</td>\n",
       "      <td>...</td>\n",
       "      <td>Office Supplies</td>\n",
       "      <td>Paper</td>\n",
       "      <td>Enermax Note Cards, Premium</td>\n",
       "      <td>45</td>\n",
       "      <td>3</td>\n",
       "      <td>0.5</td>\n",
       "      <td>-26.0550</td>\n",
       "      <td>4.82</td>\n",
       "      <td>High</td>\n",
       "      <td>2011</td>\n",
       "    </tr>\n",
       "    <tr>\n",
       "      <th>4</th>\n",
       "      <td>IN-2011-47883</td>\n",
       "      <td>1/1/2011</td>\n",
       "      <td>1/8/2011</td>\n",
       "      <td>Standard Class</td>\n",
       "      <td>Joseph Holt</td>\n",
       "      <td>Consumer</td>\n",
       "      <td>New South Wales</td>\n",
       "      <td>Australia</td>\n",
       "      <td>APAC</td>\n",
       "      <td>Oceania</td>\n",
       "      <td>...</td>\n",
       "      <td>Furniture</td>\n",
       "      <td>Furnishings</td>\n",
       "      <td>Eldon Light Bulb, Duo Pack</td>\n",
       "      <td>114</td>\n",
       "      <td>5</td>\n",
       "      <td>0.1</td>\n",
       "      <td>37.7700</td>\n",
       "      <td>4.70</td>\n",
       "      <td>Medium</td>\n",
       "      <td>2011</td>\n",
       "    </tr>\n",
       "    <tr>\n",
       "      <th>...</th>\n",
       "      <td>...</td>\n",
       "      <td>...</td>\n",
       "      <td>...</td>\n",
       "      <td>...</td>\n",
       "      <td>...</td>\n",
       "      <td>...</td>\n",
       "      <td>...</td>\n",
       "      <td>...</td>\n",
       "      <td>...</td>\n",
       "      <td>...</td>\n",
       "      <td>...</td>\n",
       "      <td>...</td>\n",
       "      <td>...</td>\n",
       "      <td>...</td>\n",
       "      <td>...</td>\n",
       "      <td>...</td>\n",
       "      <td>...</td>\n",
       "      <td>...</td>\n",
       "      <td>...</td>\n",
       "      <td>...</td>\n",
       "      <td>...</td>\n",
       "    </tr>\n",
       "    <tr>\n",
       "      <th>51285</th>\n",
       "      <td>CA-2014-115427</td>\n",
       "      <td>12/31/2014</td>\n",
       "      <td>1/4/2015</td>\n",
       "      <td>Standard Class</td>\n",
       "      <td>Erica Bern</td>\n",
       "      <td>Corporate</td>\n",
       "      <td>California</td>\n",
       "      <td>United States</td>\n",
       "      <td>US</td>\n",
       "      <td>West</td>\n",
       "      <td>...</td>\n",
       "      <td>Office Supplies</td>\n",
       "      <td>Binders</td>\n",
       "      <td>Cardinal Slant-D Ring Binder, Heavy Gauge Vinyl</td>\n",
       "      <td>14</td>\n",
       "      <td>2</td>\n",
       "      <td>0.2</td>\n",
       "      <td>4.5188</td>\n",
       "      <td>0.89</td>\n",
       "      <td>Medium</td>\n",
       "      <td>2014</td>\n",
       "    </tr>\n",
       "    <tr>\n",
       "      <th>51286</th>\n",
       "      <td>MO-2014-2560</td>\n",
       "      <td>12/31/2014</td>\n",
       "      <td>1/5/2015</td>\n",
       "      <td>Standard Class</td>\n",
       "      <td>Liz Preis</td>\n",
       "      <td>Consumer</td>\n",
       "      <td>Souss-Massa-Dra</td>\n",
       "      <td>Morocco</td>\n",
       "      <td>Africa</td>\n",
       "      <td>Africa</td>\n",
       "      <td>...</td>\n",
       "      <td>Office Supplies</td>\n",
       "      <td>Binders</td>\n",
       "      <td>Wilson Jones Hole Reinforcements, Clear</td>\n",
       "      <td>4</td>\n",
       "      <td>1</td>\n",
       "      <td>0.0</td>\n",
       "      <td>0.4200</td>\n",
       "      <td>0.49</td>\n",
       "      <td>Medium</td>\n",
       "      <td>2014</td>\n",
       "    </tr>\n",
       "    <tr>\n",
       "      <th>51287</th>\n",
       "      <td>MX-2014-110527</td>\n",
       "      <td>12/31/2014</td>\n",
       "      <td>1/2/2015</td>\n",
       "      <td>Second Class</td>\n",
       "      <td>Charlotte Melton</td>\n",
       "      <td>Consumer</td>\n",
       "      <td>Managua</td>\n",
       "      <td>Nicaragua</td>\n",
       "      <td>LATAM</td>\n",
       "      <td>Central</td>\n",
       "      <td>...</td>\n",
       "      <td>Office Supplies</td>\n",
       "      <td>Labels</td>\n",
       "      <td>Hon Color Coded Labels, 5000 Label Set</td>\n",
       "      <td>26</td>\n",
       "      <td>3</td>\n",
       "      <td>0.0</td>\n",
       "      <td>12.3600</td>\n",
       "      <td>0.35</td>\n",
       "      <td>Medium</td>\n",
       "      <td>2014</td>\n",
       "    </tr>\n",
       "    <tr>\n",
       "      <th>51288</th>\n",
       "      <td>MX-2014-114783</td>\n",
       "      <td>12/31/2014</td>\n",
       "      <td>1/6/2015</td>\n",
       "      <td>Standard Class</td>\n",
       "      <td>Tamara Dahlen</td>\n",
       "      <td>Consumer</td>\n",
       "      <td>Chihuahua</td>\n",
       "      <td>Mexico</td>\n",
       "      <td>LATAM</td>\n",
       "      <td>North</td>\n",
       "      <td>...</td>\n",
       "      <td>Office Supplies</td>\n",
       "      <td>Labels</td>\n",
       "      <td>Hon Legal Exhibit Labels, Alphabetical</td>\n",
       "      <td>7</td>\n",
       "      <td>1</td>\n",
       "      <td>0.0</td>\n",
       "      <td>0.5600</td>\n",
       "      <td>0.20</td>\n",
       "      <td>Medium</td>\n",
       "      <td>2014</td>\n",
       "    </tr>\n",
       "    <tr>\n",
       "      <th>51289</th>\n",
       "      <td>CA-2014-156720</td>\n",
       "      <td>12/31/2014</td>\n",
       "      <td>1/4/2015</td>\n",
       "      <td>Standard Class</td>\n",
       "      <td>Jill Matthias</td>\n",
       "      <td>Consumer</td>\n",
       "      <td>Colorado</td>\n",
       "      <td>United States</td>\n",
       "      <td>US</td>\n",
       "      <td>West</td>\n",
       "      <td>...</td>\n",
       "      <td>Office Supplies</td>\n",
       "      <td>Fasteners</td>\n",
       "      <td>Bagged Rubber Bands</td>\n",
       "      <td>3</td>\n",
       "      <td>3</td>\n",
       "      <td>0.2</td>\n",
       "      <td>-0.6048</td>\n",
       "      <td>0.17</td>\n",
       "      <td>Medium</td>\n",
       "      <td>2014</td>\n",
       "    </tr>\n",
       "  </tbody>\n",
       "</table>\n",
       "<p>51290 rows × 21 columns</p>\n",
       "</div>"
      ],
      "text/plain": [
       "              order_id  order_date ship_date       ship_mode  \\\n",
       "0         AG-2011-2040    1/1/2011  1/6/2011  Standard Class   \n",
       "1        IN-2011-47883    1/1/2011  1/8/2011  Standard Class   \n",
       "2         HU-2011-1220    1/1/2011  1/5/2011    Second Class   \n",
       "3      IT-2011-3647632    1/1/2011  1/5/2011    Second Class   \n",
       "4        IN-2011-47883    1/1/2011  1/8/2011  Standard Class   \n",
       "...                ...         ...       ...             ...   \n",
       "51285   CA-2014-115427  12/31/2014  1/4/2015  Standard Class   \n",
       "51286     MO-2014-2560  12/31/2014  1/5/2015  Standard Class   \n",
       "51287   MX-2014-110527  12/31/2014  1/2/2015    Second Class   \n",
       "51288   MX-2014-114783  12/31/2014  1/6/2015  Standard Class   \n",
       "51289   CA-2014-156720  12/31/2014  1/4/2015  Standard Class   \n",
       "\n",
       "          customer_name      segment             state        country  market  \\\n",
       "0       Toby Braunhardt     Consumer       Constantine        Algeria  Africa   \n",
       "1           Joseph Holt     Consumer   New South Wales      Australia    APAC   \n",
       "2         Annie Thurman     Consumer          Budapest        Hungary    EMEA   \n",
       "3          Eugene Moren  Home Office         Stockholm         Sweden      EU   \n",
       "4           Joseph Holt     Consumer   New South Wales      Australia    APAC   \n",
       "...                 ...          ...               ...            ...     ...   \n",
       "51285        Erica Bern    Corporate        California  United States      US   \n",
       "51286         Liz Preis     Consumer  Souss-Massa-Dra        Morocco  Africa   \n",
       "51287  Charlotte Melton     Consumer           Managua      Nicaragua   LATAM   \n",
       "51288     Tamara Dahlen     Consumer         Chihuahua         Mexico   LATAM   \n",
       "51289     Jill Matthias     Consumer          Colorado  United States      US   \n",
       "\n",
       "        region  ...         category sub_category  \\\n",
       "0       Africa  ...  Office Supplies      Storage   \n",
       "1      Oceania  ...  Office Supplies     Supplies   \n",
       "2         EMEA  ...  Office Supplies      Storage   \n",
       "3        North  ...  Office Supplies        Paper   \n",
       "4      Oceania  ...        Furniture  Furnishings   \n",
       "...        ...  ...              ...          ...   \n",
       "51285     West  ...  Office Supplies      Binders   \n",
       "51286   Africa  ...  Office Supplies      Binders   \n",
       "51287  Central  ...  Office Supplies       Labels   \n",
       "51288    North  ...  Office Supplies       Labels   \n",
       "51289     West  ...  Office Supplies    Fasteners   \n",
       "\n",
       "                                          product_name sales quantity  \\\n",
       "0                                  Tenex Lockers, Blue   408        2   \n",
       "1                             Acme Trimmer, High Speed   120        3   \n",
       "2                              Tenex Box, Single Width    66        4   \n",
       "3                          Enermax Note Cards, Premium    45        3   \n",
       "4                           Eldon Light Bulb, Duo Pack   114        5   \n",
       "...                                                ...   ...      ...   \n",
       "51285  Cardinal Slant-D Ring Binder, Heavy Gauge Vinyl    14        2   \n",
       "51286          Wilson Jones Hole Reinforcements, Clear     4        1   \n",
       "51287           Hon Color Coded Labels, 5000 Label Set    26        3   \n",
       "51288           Hon Legal Exhibit Labels, Alphabetical     7        1   \n",
       "51289                              Bagged Rubber Bands     3        3   \n",
       "\n",
       "       discount    profit  shipping_cost  order_priority  year  \n",
       "0           0.0  106.1400          35.46          Medium  2011  \n",
       "1           0.1   36.0360           9.72          Medium  2011  \n",
       "2           0.0   29.6400           8.17            High  2011  \n",
       "3           0.5  -26.0550           4.82            High  2011  \n",
       "4           0.1   37.7700           4.70          Medium  2011  \n",
       "...         ...       ...            ...             ...   ...  \n",
       "51285       0.2    4.5188           0.89          Medium  2014  \n",
       "51286       0.0    0.4200           0.49          Medium  2014  \n",
       "51287       0.0   12.3600           0.35          Medium  2014  \n",
       "51288       0.0    0.5600           0.20          Medium  2014  \n",
       "51289       0.2   -0.6048           0.17          Medium  2014  \n",
       "\n",
       "[51290 rows x 21 columns]"
      ]
     },
     "execution_count": 122,
     "metadata": {},
     "output_type": "execute_result"
    }
   ],
   "source": [
    "df1"
   ]
  },
  {
   "cell_type": "code",
   "execution_count": null,
   "id": "d5b19a0f-0bff-4a2d-bbad-5b383f5e4228",
   "metadata": {},
   "outputs": [],
   "source": []
  }
 ],
 "metadata": {
  "kernelspec": {
   "display_name": "Python 3 (ipykernel)",
   "language": "python",
   "name": "python3"
  },
  "language_info": {
   "codemirror_mode": {
    "name": "ipython",
    "version": 3
   },
   "file_extension": ".py",
   "mimetype": "text/x-python",
   "name": "python",
   "nbconvert_exporter": "python",
   "pygments_lexer": "ipython3",
   "version": "3.11.7"
  }
 },
 "nbformat": 4,
 "nbformat_minor": 5
}
