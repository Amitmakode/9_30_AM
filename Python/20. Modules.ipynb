{
 "cells": [
  {
   "cell_type": "markdown",
   "id": "b3ef57a1-8569-4715-8097-3808fe97a43b",
   "metadata": {},
   "source": [
    "### Datetime module"
   ]
  },
  {
   "cell_type": "code",
   "execution_count": 7,
   "id": "d3737426-3b38-49b6-8151-94b3c951a5a4",
   "metadata": {},
   "outputs": [
    {
     "name": "stdout",
     "output_type": "stream",
     "text": [
      "Today's date: 2024-10-17\n",
      "Formatted date: 2024-10-17\n"
     ]
    }
   ],
   "source": [
    "from datetime import date\n",
    "\n",
    "today = date.today()\n",
    "\n",
    "print(\"Today's date:\", today)\n",
    "print(\"Formatted date:\", today.strftime(\"%Y-%m-%d\"))"
   ]
  },
  {
   "cell_type": "code",
   "execution_count": 6,
   "id": "09fd05ad-b7dd-4953-ac2f-8dd364367bcf",
   "metadata": {},
   "outputs": [
    {
     "data": {
      "text/plain": [
       "'24-10-17'"
      ]
     },
     "execution_count": 6,
     "metadata": {},
     "output_type": "execute_result"
    }
   ],
   "source": [
    "today.strftime(\"%y-%m-%d\")"
   ]
  },
  {
   "cell_type": "code",
   "execution_count": 8,
   "id": "6fff8c19-44e5-4453-8a39-218ba047820f",
   "metadata": {},
   "outputs": [
    {
     "name": "stdout",
     "output_type": "stream",
     "text": [
      "Current time: 14:30:45\n",
      "Formatted time: 14:30:45\n"
     ]
    }
   ],
   "source": [
    "from datetime import time\n",
    "\n",
    "current_time = time(14, 30, 45)\n",
    "print(\"Current time:\", current_time)\n",
    "print(\"Formatted time:\", current_time.strftime(\"%H:%M:%S\"))"
   ]
  },
  {
   "cell_type": "code",
   "execution_count": 9,
   "id": "50337f2d-28a8-4c74-b404-6d014f3dd9be",
   "metadata": {},
   "outputs": [
    {
     "name": "stdout",
     "output_type": "stream",
     "text": [
      "Current date and time: 2024-10-17 09:49:11.672381\n",
      "Formatted datetime: 2024-10-17 09:49:11\n"
     ]
    }
   ],
   "source": [
    "from datetime import datetime\n",
    "\n",
    "now = datetime.now()\n",
    "print(\"Current date and time:\", now)\n",
    "print(\"Formatted datetime:\", now.strftime(\"%Y-%m-%d %H:%M:%S\"))"
   ]
  },
  {
   "cell_type": "code",
   "execution_count": 14,
   "id": "b669f2df-128d-4cb5-b131-da820cc783a7",
   "metadata": {},
   "outputs": [
    {
     "name": "stdout",
     "output_type": "stream",
     "text": [
      "Delta: 5 days, 3:00:00\n",
      "Total seconds in delta: 442800.0\n"
     ]
    }
   ],
   "source": [
    "from datetime import timedelta\n",
    "\n",
    "delta = timedelta(days=5, hours=3)\n",
    "print(\"Delta:\", delta)\n",
    "print(\"Total seconds in delta:\", delta.total_seconds())\n"
   ]
  },
  {
   "cell_type": "code",
   "execution_count": 15,
   "id": "56026383-a3a6-4b65-b1ba-e7faef268704",
   "metadata": {},
   "outputs": [
    {
     "name": "stdout",
     "output_type": "stream",
     "text": [
      "Current UTC time: 2024-10-17 04:22:18.978457+00:00\n"
     ]
    }
   ],
   "source": [
    "from datetime import datetime, timezone\n",
    "\n",
    "now = datetime.now(timezone.utc)\n",
    "print(\"Current UTC time:\", now)"
   ]
  },
  {
   "cell_type": "code",
   "execution_count": 16,
   "id": "c7f3d331-903d-4801-bb04-2f9d748c8a67",
   "metadata": {},
   "outputs": [],
   "source": [
    "from datetime import date, time, datetime\n",
    "\n",
    "d = date(2024, 7, 27)\n",
    "t = time(15, 30, 45)\n",
    "dt = datetime(2024, 7, 27, 15, 30, 45)"
   ]
  },
  {
   "cell_type": "code",
   "execution_count": 21,
   "id": "9f8fefc4-e9bb-4071-ba14-123a3541301d",
   "metadata": {},
   "outputs": [
    {
     "name": "stdout",
     "output_type": "stream",
     "text": [
      "2024-07-27\n",
      "15:30:45\n",
      "2024-07-27 15:30:45\n"
     ]
    }
   ],
   "source": [
    "print(d)\n",
    "print(t)\n",
    "print(dt)"
   ]
  },
  {
   "cell_type": "code",
   "execution_count": 22,
   "id": "7a195c91-4129-4820-aba9-9751c6e3615d",
   "metadata": {},
   "outputs": [
    {
     "name": "stdout",
     "output_type": "stream",
     "text": [
      "Date 30 days from now: 2024-11-16 09:54:20.790664\n"
     ]
    }
   ],
   "source": [
    "from datetime import datetime, timedelta\n",
    "\n",
    "now = datetime.now()\n",
    "future_date = now + timedelta(days=30)\n",
    "print(\"Date 30 days from now:\", future_date)"
   ]
  },
  {
   "cell_type": "code",
   "execution_count": 23,
   "id": "221e8295-3f3c-483c-897e-e31565bb1e75",
   "metadata": {},
   "outputs": [
    {
     "name": "stdout",
     "output_type": "stream",
     "text": [
      "Updated time: 14:45:00\n"
     ]
    }
   ],
   "source": [
    "from datetime import time\n",
    "\n",
    "t = time(14, 30)\n",
    "new_time = t.replace(minute=45)\n",
    "print(\"Updated time:\", new_time)"
   ]
  },
  {
   "cell_type": "code",
   "execution_count": 24,
   "id": "952cd0f0-dfa3-4991-95b8-2b1fb58c96e6",
   "metadata": {},
   "outputs": [],
   "source": [
    "new_hours = t.replace(hour=18)"
   ]
  },
  {
   "cell_type": "code",
   "execution_count": 25,
   "id": "275c30da-4aa1-405b-bd7c-242dc04c2f27",
   "metadata": {},
   "outputs": [
    {
     "data": {
      "text/plain": [
       "datetime.time(18, 30)"
      ]
     },
     "execution_count": 25,
     "metadata": {},
     "output_type": "execute_result"
    }
   ],
   "source": [
    "new_hours"
   ]
  },
  {
   "cell_type": "code",
   "execution_count": 26,
   "id": "583cd462-5940-42ee-a7d3-c2c166fc217e",
   "metadata": {},
   "outputs": [
    {
     "name": "stdout",
     "output_type": "stream",
     "text": [
      "Weekday (0=Monday, 6=Sunday): 3\n",
      "ISO calendar week number: 42\n"
     ]
    }
   ],
   "source": [
    "from datetime import datetime\n",
    "\n",
    "now = datetime.now()\n",
    "weekday = now.weekday()  # Monday is 0, Sunday is 6\n",
    "week_number = now.isocalendar()[1]  # Week number of the year\n",
    "\n",
    "print(\"Weekday (0=Monday, 6=Sunday):\", weekday)\n",
    "print(\"ISO calendar week number:\", week_number)"
   ]
  },
  {
   "cell_type": "code",
   "execution_count": 27,
   "id": "e61a4fc5-4cbc-4d9c-b30d-0ad7c1ae0514",
   "metadata": {},
   "outputs": [],
   "source": [
    "weekday = now.weekday() "
   ]
  },
  {
   "cell_type": "code",
   "execution_count": 28,
   "id": "bb917661-2b45-462c-b6a3-bb7f0405cc80",
   "metadata": {},
   "outputs": [
    {
     "data": {
      "text/plain": [
       "3"
      ]
     },
     "execution_count": 28,
     "metadata": {},
     "output_type": "execute_result"
    }
   ],
   "source": [
    "weekday"
   ]
  },
  {
   "cell_type": "code",
   "execution_count": 31,
   "id": "0139fecb-bfc5-4384-b0c1-3f239b19737e",
   "metadata": {},
   "outputs": [],
   "source": [
    "week_number = now.isocalendar()"
   ]
  },
  {
   "cell_type": "code",
   "execution_count": 32,
   "id": "43ba0375-c162-44eb-9335-9c2f6d4e7eec",
   "metadata": {},
   "outputs": [
    {
     "data": {
      "text/plain": [
       "datetime.IsoCalendarDate(year=2024, week=42, weekday=4)"
      ]
     },
     "execution_count": 32,
     "metadata": {},
     "output_type": "execute_result"
    }
   ],
   "source": [
    "week_number"
   ]
  },
  {
   "cell_type": "code",
   "execution_count": 37,
   "id": "96e0697c-3b8e-4c01-8d21-4481ca09c1cc",
   "metadata": {},
   "outputs": [],
   "source": [
    "week_number = now.isocalendar()[0]"
   ]
  },
  {
   "cell_type": "code",
   "execution_count": 38,
   "id": "bcb4093e-6b2f-48a3-b1ab-18ff90c740d3",
   "metadata": {},
   "outputs": [
    {
     "data": {
      "text/plain": [
       "2024"
      ]
     },
     "execution_count": 38,
     "metadata": {},
     "output_type": "execute_result"
    }
   ],
   "source": [
    "week_number"
   ]
  },
  {
   "cell_type": "code",
   "execution_count": null,
   "id": "2f19bec4-058c-4532-a440-c993a24e0cea",
   "metadata": {},
   "outputs": [],
   "source": []
  },
  {
   "cell_type": "raw",
   "id": "4aa9f105-50c3-4103-b07b-9e49fd77cd1d",
   "metadata": {},
   "source": [
    "## Regular Expression\n",
    "\n",
    "\n",
    "\n",
    "Key Functions in re Module\n",
    "re.match(pattern, string): Checks for a match only at the beginning of the string.\n",
    "re.search(pattern, string): Searches the entire string for the first occurrence of the pattern.\n",
    "re.findall(pattern, string): Returns a list of all matches found in the string.\n",
    "re.finditer(pattern, string): Returns an iterator yielding match objects for all matches in the string.\n",
    "re.sub(pattern, repl, string): Replaces occurrences of the pattern with repl in the string.\n",
    "re.split(pattern, string): Splits the string by occurrences of the pattern."
   ]
  },
  {
   "cell_type": "code",
   "execution_count": 39,
   "id": "6fece174-d49b-4c1c-921e-0e283bccde44",
   "metadata": {},
   "outputs": [],
   "source": [
    "import re"
   ]
  },
  {
   "cell_type": "code",
   "execution_count": 40,
   "id": "f7c209fd-584f-4101-b97b-c0e60df28a75",
   "metadata": {},
   "outputs": [],
   "source": [
    "emails = [\n",
    "    'alice@example.com',\n",
    "    'bob.smith@company.org',\n",
    "    'charlie_jones@subdomain.co.uk',\n",
    "    'david123@another-domain.net'\n",
    "]"
   ]
  },
  {
   "cell_type": "code",
   "execution_count": 41,
   "id": "d28c46f7-3167-42ee-a558-b70327d5158f",
   "metadata": {},
   "outputs": [],
   "source": [
    "#Extract the domains from these email addresses\n",
    "\n",
    "# Define the pattern to match email domains\n",
    "\n",
    "pattern = r'@([\\w\\.-]+)'"
   ]
  },
  {
   "cell_type": "code",
   "execution_count": 42,
   "id": "4e3682ea-8a5a-41fc-9878-29d7ff7ffee0",
   "metadata": {},
   "outputs": [],
   "source": [
    "# Extract domains\n",
    "domains = [re.search(pattern, i).group(1) for i in emails]"
   ]
  },
  {
   "cell_type": "code",
   "execution_count": 43,
   "id": "fad04bc8-c56b-4ab8-aa61-7cfa20588dd3",
   "metadata": {},
   "outputs": [
    {
     "data": {
      "text/plain": [
       "['example.com', 'company.org', 'subdomain.co.uk', 'another-domain.net']"
      ]
     },
     "execution_count": 43,
     "metadata": {},
     "output_type": "execute_result"
    }
   ],
   "source": [
    "domains"
   ]
  },
  {
   "cell_type": "code",
   "execution_count": 45,
   "id": "db4205a8-5d91-41f5-8ebd-ad0eede9aef8",
   "metadata": {},
   "outputs": [],
   "source": [
    "#Example 1: Extracting Dates from Text\n",
    "#Suppose you have a dataset containing logs with dates in various formats, and you need to standardize or extract these dates.\n",
    "#Here's how you might do that:\n",
    "    \n",
    "    \n",
    "logs = [\n",
    "    \"User login on 2024-07-25 at 14:32\",\n",
    "    \"Error reported on 25/07/2024\",\n",
    "    \"Update completed on 2024.07.25\",\n",
    "    \"Maintenance scheduled for 25-07-2024\"\n",
    "]"
   ]
  },
  {
   "cell_type": "code",
   "execution_count": 50,
   "id": "6f2fba43-1a46-4d7e-83f8-e47d08af21b0",
   "metadata": {},
   "outputs": [],
   "source": [
    "#Extract all dates from these logs, regardless of their format.\n",
    "\n",
    "\n",
    "# Define the pattern to match dates in different formats\n",
    "pattern = r'\\b(\\d{4}[-.]\\d{2}[-.]\\d{2}|\\d{2}[-/]\\d{2}[-/]\\d{4})\\b'"
   ]
  },
  {
   "cell_type": "code",
   "execution_count": 51,
   "id": "1c8f4471-07ed-44ce-a95f-738b9e9bcb3d",
   "metadata": {},
   "outputs": [
    {
     "name": "stdout",
     "output_type": "stream",
     "text": [
      "['2024-07-25', '25/07/2024', '2024.07.25', '25-07-2024']\n"
     ]
    }
   ],
   "source": [
    "# Extract dates\n",
    "dates = re.findall(pattern, ' '.join(logs))\n",
    "\n",
    "print(dates)"
   ]
  },
  {
   "cell_type": "code",
   "execution_count": 52,
   "id": "644ce737-b1be-4174-a19a-9ed824e198e4",
   "metadata": {},
   "outputs": [],
   "source": [
    "#Example 2: Extracting Phone Numbers\n",
    "#You might need to extract phone numbers from a dataset containing contact information.\n",
    "\n",
    "\n",
    "contacts = [\n",
    "    \"John Doe: +1-800-555-1234\",\n",
    "    \"Jane Smith: (555) 678-9012\",\n",
    "    \"Alice Johnson: 555.234.5678\",\n",
    "    \"Bob Brown: 555-3456\"\n",
    "]"
   ]
  },
  {
   "cell_type": "code",
   "execution_count": 53,
   "id": "2b4f24db-400e-44b9-bc7b-953b74ef5962",
   "metadata": {},
   "outputs": [],
   "source": [
    "#Extract phone numbers in various formats.\n",
    "\n",
    "\n",
    "# Define the pattern to match phone numbers in different formats\n",
    "pattern = r'\\+?\\d{1,2}[-.\\s]?(\\(?\\d{3}\\)?[-.\\s]?)?\\d{3}[-.\\s]?\\d{4}'"
   ]
  },
  {
   "cell_type": "code",
   "execution_count": 54,
   "id": "26d0923e-10fa-4bc8-8c67-6f7d02561a93",
   "metadata": {},
   "outputs": [
    {
     "name": "stdout",
     "output_type": "stream",
     "text": [
      "['800-', '']\n"
     ]
    }
   ],
   "source": [
    "# Extract phone numbers\n",
    "phone_numbers = re.findall(pattern, ' '.join(contacts))\n",
    "\n",
    "print(phone_numbers)"
   ]
  },
  {
   "cell_type": "code",
   "execution_count": 55,
   "id": "98a7f09f-a22b-4ffe-93c1-7dd424a6ccc4",
   "metadata": {},
   "outputs": [
    {
     "name": "stdout",
     "output_type": "stream",
     "text": [
      "['+1-800-555-1234', ' (555) 678-9012', ' 555.234.5678', ' 555-3456']\n"
     ]
    }
   ],
   "source": [
    "contacts = [\n",
    "    \"John Doe: +1-800-555-1234\",\n",
    "    \"Jane Smith: (555) 678-9012\",\n",
    "    \"Alice Johnson: 555.234.5678\",\n",
    "    \"Bob Brown: 555-3456\"\n",
    "]\n",
    "\n",
    "# Define the pattern to match phone numbers in different formats\n",
    "pattern = r'\\+?\\d{0,2}[-.\\s]?(\\(?\\d{3}\\)?[-.\\s]?)?\\d{3}[-.\\s]?\\d{4}'\n",
    "\n",
    "# Extract phone numbers using the pattern\n",
    "phone_numbers = []\n",
    "for contact in contacts:\n",
    "    match = re.search(pattern, contact)\n",
    "    if match:\n",
    "        phone_numbers.append(match.group())\n",
    "\n",
    "print(phone_numbers)"
   ]
  },
  {
   "cell_type": "code",
   "execution_count": null,
   "id": "40f8184e-fda2-4b9f-95dd-e7e03e748aa5",
   "metadata": {},
   "outputs": [],
   "source": [
    "Explanation of the Pattern:\n",
    "\\+?: Matches an optional \"+\" sign.\n",
    "\\d{0,2}: Matches up to 2 digits for country code (optional).\n",
    "[-.\\s]?: Matches an optional separator (dash, dot, or space).\n",
    "(\\(?\\d{3}\\)?[-.\\s]?)?: Matches an optional area code in parentheses or not, followed by an optional separator.\n",
    "\\d{3}: Matches the first 3 digits of the phone number.\n",
    "[-.\\s]?: Matches an optional separator.\n",
    "\\d{4}: Matches the last 4 digits of the phone number."
   ]
  },
  {
   "cell_type": "code",
   "execution_count": null,
   "id": "734c610f-af17-489e-ba8d-30b848cd4a32",
   "metadata": {},
   "outputs": [],
   "source": []
  },
  {
   "cell_type": "code",
   "execution_count": 56,
   "id": "cc11a7c0-8493-412a-8956-86915ad0f55a",
   "metadata": {},
   "outputs": [],
   "source": [
    "#Example 3: Cleaning Up Text Data\n",
    "#Suppose you have a dataset with noisy text data and you need to remove all non-alphanumeric characters except spaces.\n",
    "\n",
    "\n",
    "\n",
    "text_data = [\n",
    "    \"Hello! This is a test.\",\n",
    "    \"Here, we have: numbers 1234 and symbols @$%^&*!\",\n",
    "    \"Clean this text: remove #hashtags and @mentions!\"\n",
    "]\n"
   ]
  },
  {
   "cell_type": "code",
   "execution_count": 57,
   "id": "f9dc2b6e-38fe-4302-b166-bc064976cfd1",
   "metadata": {},
   "outputs": [],
   "source": [
    "#Remove all non-alphanumeric characters except spaces.\n",
    "\n",
    "\n",
    "# Define the pattern to remove non-alphanumeric characters except spaces\n",
    "pattern = r'[^\\w\\s]'"
   ]
  },
  {
   "cell_type": "code",
   "execution_count": 58,
   "id": "d6e839ca-53fe-446f-a7f9-9a8782cab668",
   "metadata": {},
   "outputs": [],
   "source": [
    "# Clean text\n",
    "cleaned_texts = [re.sub(pattern, '', text) for text in text_data]"
   ]
  },
  {
   "cell_type": "code",
   "execution_count": 59,
   "id": "71248edf-bfd1-46e6-b44e-6cf50c666dff",
   "metadata": {},
   "outputs": [
    {
     "data": {
      "text/plain": [
       "['Hello This is a test',\n",
       " 'Here we have numbers 1234 and symbols ',\n",
       " 'Clean this text remove hashtags and mentions']"
      ]
     },
     "execution_count": 59,
     "metadata": {},
     "output_type": "execute_result"
    }
   ],
   "source": [
    "cleaned_texts"
   ]
  },
  {
   "cell_type": "code",
   "execution_count": null,
   "id": "6c59d234-9f73-4747-b45a-b43784d427aa",
   "metadata": {},
   "outputs": [],
   "source": [
    "The regex pattern r'[^\\w\\s]' can be broken down as follows:\n",
    "\n",
    "[]: This denotes a character class, which matches any single character within the brackets.\n",
    "\n",
    "^: When used at the beginning of a character class (right after the opening bracket), it negates the class. This means that the pattern will match any character that is not in the specified set.\n",
    "\n",
    "\\w: This is a shorthand character class that matches any \"word\" character, which includes:\n",
    "\n",
    "Uppercase letters (A-Z)\n",
    "Lowercase letters (a-z)\n",
    "Digits (0-9)\n",
    "Underscore (_)\n",
    "\\s: This matches any whitespace character, including spaces, tabs, and newline characters."
   ]
  },
  {
   "cell_type": "code",
   "execution_count": 60,
   "id": "97dd92ef-4e4f-419e-bc44-58d432baf6d3",
   "metadata": {},
   "outputs": [],
   "source": [
    "#Example 1: Validating Email Addresses\n",
    "#You might need to validate email addresses to ensure they follow a standard format.\n",
    "\n",
    "\n",
    "emails = [\n",
    "    \"valid.email@example.com\",\n",
    "    \"invalid-email@.com\",\n",
    "    \"another.valid.email@domain.co\",\n",
    "    \"yet.another@domain\",\n",
    "    \"no_at_sign_domain.com\"\n",
    "]"
   ]
  },
  {
   "cell_type": "code",
   "execution_count": 62,
   "id": "ac5ab80f-041b-406d-9963-3956de050422",
   "metadata": {},
   "outputs": [],
   "source": [
    "#Identify which email addresses are valid.\n",
    "\n",
    "\n",
    "# Define the pattern for a basic email validation\n",
    "pattern = r'^[\\w\\.-]+@[\\w\\.-]+\\.\\w+$'"
   ]
  },
  {
   "cell_type": "code",
   "execution_count": 63,
   "id": "c154db61-76cd-4b40-aea9-e408e36d8025",
   "metadata": {},
   "outputs": [
    {
     "name": "stdout",
     "output_type": "stream",
     "text": [
      "['valid.email@example.com', 'another.valid.email@domain.co']\n"
     ]
    }
   ],
   "source": [
    "# Check email validity\n",
    "valid_emails = [email for email in emails if re.match(pattern, email)]\n",
    "\n",
    "print(valid_emails)"
   ]
  },
  {
   "cell_type": "code",
   "execution_count": 65,
   "id": "1b8b199c-6c7a-44b7-9e4b-41d6fee16dd5",
   "metadata": {},
   "outputs": [],
   "source": [
    "import statistics as st"
   ]
  },
  {
   "cell_type": "code",
   "execution_count": 69,
   "id": "93b28399-4b52-4d53-a10d-709dcdf5f4a3",
   "metadata": {},
   "outputs": [],
   "source": [
    "x = [2,4,6,8]\n",
    "y = [1,4,3,2]"
   ]
  },
  {
   "cell_type": "code",
   "execution_count": 70,
   "id": "45af926f-0e64-4d9e-a33e-cd9fff6e5ff3",
   "metadata": {},
   "outputs": [
    {
     "data": {
      "text/plain": [
       "0.2"
      ]
     },
     "execution_count": 70,
     "metadata": {},
     "output_type": "execute_result"
    }
   ],
   "source": [
    "st.correlation(x,y)"
   ]
  },
  {
   "cell_type": "code",
   "execution_count": 71,
   "id": "f444bfd4-b3bf-4649-b758-931f19d46021",
   "metadata": {},
   "outputs": [
    {
     "data": {
      "text/plain": [
       "5"
      ]
     },
     "execution_count": 71,
     "metadata": {},
     "output_type": "execute_result"
    }
   ],
   "source": [
    "st.mean(x)"
   ]
  },
  {
   "cell_type": "code",
   "execution_count": 72,
   "id": "365c7b44-0b60-4475-8e2d-ff5e9ddac149",
   "metadata": {},
   "outputs": [
    {
     "data": {
      "text/plain": [
       "5.0"
      ]
     },
     "execution_count": 72,
     "metadata": {},
     "output_type": "execute_result"
    }
   ],
   "source": [
    "st.median(x)"
   ]
  },
  {
   "cell_type": "code",
   "execution_count": 73,
   "id": "512ff5bf-b005-43d9-8ebc-2b4c980b4652",
   "metadata": {},
   "outputs": [],
   "source": [
    "import scipy"
   ]
  },
  {
   "cell_type": "code",
   "execution_count": 75,
   "id": "25e97cf7-f717-4f6c-8a64-0a7bbe1b4631",
   "metadata": {},
   "outputs": [
    {
     "data": {
      "text/plain": [
       "array([-1.34164079, -0.4472136 ,  0.4472136 ,  1.34164079])"
      ]
     },
     "execution_count": 75,
     "metadata": {},
     "output_type": "execute_result"
    }
   ],
   "source": [
    "scipy.stats.zscore(x)"
   ]
  },
  {
   "cell_type": "code",
   "execution_count": 76,
   "id": "feefd7e5-31ee-491a-aa3b-7045c1652c9f",
   "metadata": {},
   "outputs": [],
   "source": [
    "X= [1,2,3,4,5,6,7,8,9]"
   ]
  },
  {
   "cell_type": "code",
   "execution_count": 77,
   "id": "5146aaf5-3b0f-4f6e-acd9-ecd15037b9f9",
   "metadata": {},
   "outputs": [
    {
     "data": {
      "text/plain": [
       "array([-1.54919334, -1.161895  , -0.77459667, -0.38729833,  0.        ,\n",
       "        0.38729833,  0.77459667,  1.161895  ,  1.54919334])"
      ]
     },
     "execution_count": 77,
     "metadata": {},
     "output_type": "execute_result"
    }
   ],
   "source": [
    "scipy.stats.zscore(X)"
   ]
  },
  {
   "cell_type": "code",
   "execution_count": null,
   "id": "0e31bf66-d115-4ac8-a204-3a222bcf1311",
   "metadata": {},
   "outputs": [],
   "source": []
  }
 ],
 "metadata": {
  "kernelspec": {
   "display_name": "Python 3 (ipykernel)",
   "language": "python",
   "name": "python3"
  },
  "language_info": {
   "codemirror_mode": {
    "name": "ipython",
    "version": 3
   },
   "file_extension": ".py",
   "mimetype": "text/x-python",
   "name": "python",
   "nbconvert_exporter": "python",
   "pygments_lexer": "ipython3",
   "version": "3.11.7"
  }
 },
 "nbformat": 4,
 "nbformat_minor": 5
}
